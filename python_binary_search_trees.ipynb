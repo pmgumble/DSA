{
  "cells": [
    {
      "cell_type": "markdown",
      "metadata": {
        "id": "view-in-github",
        "colab_type": "text"
      },
      "source": [
        "<a href=\"https://colab.research.google.com/github/pmgumble/DSA/blob/main/python_binary_search_trees.ipynb\" target=\"_parent\"><img src=\"https://colab.research.google.com/assets/colab-badge.svg\" alt=\"Open In Colab\"/></a>"
      ]
    },
    {
      "cell_type": "markdown",
      "id": "precise-filename",
      "metadata": {
        "id": "precise-filename"
      },
      "source": [
        "# Binary Search Trees, Traversals and Balancing in Python\n",
        "\n",
        "### Part 2 of \"Data Structures and Algorithms in Python\"\n",
        "\n",
        "![](https://i.imgur.com/lVqP63n.png)\n",
        "\n",
        "\n",
        "\n",
        "\n",
        "\n",
        "[Data Structures and Algorithms in Python](https://jovian.ai/learn/data-structures-and-algorithms-in-python) is a beginner-friendly introduction to common data structures (linked lists, stacks, queues, graphs) and algorithms (search, sorting, recursion, dynamic programming) in Python, designed to help you prepare for coding interviews and assessments.\n",
        "\n",
        "\n",
        "Earn a verified certificate of accomplishment for this course by signing up here: http://pythondsa.com.\n",
        "\n",
        "Ask questions, get help & participate in discussions on the community forum: https://jovian.ai/forum/c/data-structures-and-algorithms-in-python/78"
      ]
    },
    {
      "cell_type": "markdown",
      "id": "adaptive-birmingham",
      "metadata": {
        "id": "adaptive-birmingham"
      },
      "source": [
        "### Prerequisites\n",
        "\n",
        "This course assumes very little background in programming and mathematics, and you can learn the required concepts here:\n",
        "\n",
        "- Basic programming with Python ([variables](https://jovian.ai/aakashns/first-steps-with-python), [data types](https://jovian.ai/aakashns/python-variables-and-data-types), [loops](https://jovian.ai/aakashns/python-branching-and-loops), [functions](https://jovian.ai/aakashns/python-functions-and-scope) etc.)\n",
        "- Some high school mathematics ([polynomials](https://www.youtube.com/watch?v=Vm7H0VTlIco), [vectors, matrices](https://www.youtube.com/watch?v=0oGJTQCy4cQ&list=PLSQl0a2vh4HCs4zPpOEdF2GuydqS90Yb6) and [probability](https://www.youtube.com/watch?v=uzkc-qNVoOk))\n",
        "- No prior knowledge of data structures or algorithms is required\n",
        "\n",
        "We'll cover any additional mathematical and theoretical concepts we need as we go along.\n",
        "\n"
      ]
    },
    {
      "cell_type": "markdown",
      "id": "polished-current",
      "metadata": {
        "id": "polished-current"
      },
      "source": [
        "## How to Run the Code\n",
        "\n",
        "The best way to learn the material is to execute the code and experiment with it yourself. This tutorial is an executable [Jupyter notebook](https://jupyter.org). You can _run_ this tutorial and experiment with the code examples in a couple of ways: *using free online resources* (recommended) or *on your computer*.\n",
        "\n",
        "#### Option 1: Running using free online resources (1-click, recommended)\n",
        "\n",
        "The easiest way to start executing the code is to click the **Run** button at the top of this page and select **Run on Binder**. You can also select \"Run on Colab\" or \"Run on Kaggle\", but you'll need to create an account on [Google Colab](https://colab.research.google.com) or [Kaggle](https://kaggle.com) to use these platforms.\n",
        "\n",
        "\n",
        "#### Option 2: Running on your computer locally\n",
        "\n",
        "To run the code on your computer locally, you'll need to set up [Python](https://www.python.org), download the notebook and install the required libraries. We recommend using the [Conda](https://docs.conda.io/projects/conda/en/latest/user-guide/install/) distribution of Python. Click the **Run** button at the top of this page, select the **Run Locally** option, and follow the instructions.\n"
      ]
    },
    {
      "cell_type": "markdown",
      "id": "governmental-worry",
      "metadata": {
        "id": "governmental-worry"
      },
      "source": [
        "## Problem \n",
        "\n",
        "\n",
        "In this notebook, we'll focus on solving the following problem:\n",
        "\n",
        "> **QUESTION 1**: As a senior backend engineer at Jovian, you are tasked with developing a fast in-memory data structure to manage profile information (username, name and email) for 100 million users. It should allow the following operations to be performed efficiently:\n",
        "> \n",
        "> 1. **Insert** the profile information for a new user.\n",
        "> 2. **Find** the profile information of a user, given their username\n",
        "> 3. **Update** the profile information of a user, given their usrname\n",
        "> 5. **List** all the users of the platform, sorted by username\n",
        ">\n",
        "> You can assume that usernames are unique. \n",
        "\n",
        "Along the way, we will also solve several other questions related to binary trees and binary search trees that are often asked in coding interviews and assessments. "
      ]
    },
    {
      "cell_type": "markdown",
      "id": "primary-adjustment",
      "metadata": {
        "id": "primary-adjustment"
      },
      "source": [
        "## The Method\n",
        "\n",
        "\n",
        "Here's a systematic strategy we'll apply for solving problems:\n",
        "\n",
        "1. State the problem clearly. Identify the input & output formats.\n",
        "2. Come up with some example inputs & outputs. Try to cover all edge cases.\n",
        "3. Come up with a correct solution for the problem. State it in plain English.\n",
        "4. Implement the solution and test it using example inputs. Fix bugs, if any.\n",
        "5. Analyze the algorithm's complexity and identify inefficiencies, if any.\n",
        "6. Apply the right technique to overcome the inefficiency. Repeat steps 3 to 6.\n",
        "\n"
      ]
    },
    {
      "cell_type": "markdown",
      "id": "three-register",
      "metadata": {
        "id": "three-register"
      },
      "source": [
        "## 1. State the problem clearly. Identify the input & output formats.\n",
        "\n",
        "#### Problem\n",
        "\n",
        "> We need to create a data structure which can store 100 million records and perform insertion, search, update and list operations efficiently.\n",
        "\n",
        "#### Input\n",
        "\n",
        "The key inputs to our data structure are user profiles, which contain the username, name and email of a user. \n",
        "\n",
        "A Python _class_ would be a great way to represent the information for a user. A class is a blueprint for creating _objects_. Everything in Python is an _object_ belonging to some _class_. Here's the simples possible class in Python, with nothing in it:"
      ]
    },
    {
      "cell_type": "code",
      "execution_count": 1,
      "id": "exempt-financing",
      "metadata": {
        "id": "exempt-financing"
      },
      "outputs": [],
      "source": [
        "class User:\n",
        "    pass"
      ]
    },
    {
      "cell_type": "markdown",
      "id": "pointed-navigator",
      "metadata": {
        "id": "pointed-navigator"
      },
      "source": [
        "We can create or _instantiate_ an object of the class by calling it like a function."
      ]
    },
    {
      "cell_type": "code",
      "execution_count": 2,
      "id": "smooth-copyright",
      "metadata": {
        "id": "smooth-copyright"
      },
      "outputs": [],
      "source": [
        "user1 = User()"
      ]
    },
    {
      "cell_type": "markdown",
      "id": "unavailable-silly",
      "metadata": {
        "id": "unavailable-silly"
      },
      "source": [
        "We can verify that the object is of the class `User`."
      ]
    },
    {
      "cell_type": "code",
      "execution_count": 3,
      "id": "frank-launch",
      "metadata": {
        "colab": {
          "base_uri": "https://localhost:8080/"
        },
        "id": "frank-launch",
        "outputId": "0c895a8e-d2c2-47c1-a063-0ac45460bc3a"
      },
      "outputs": [
        {
          "output_type": "execute_result",
          "data": {
            "text/plain": [
              "<__main__.User at 0x7fd86c9eada0>"
            ]
          },
          "metadata": {},
          "execution_count": 3
        }
      ],
      "source": [
        "user1"
      ]
    },
    {
      "cell_type": "code",
      "execution_count": 4,
      "id": "variable-enclosure",
      "metadata": {
        "colab": {
          "base_uri": "https://localhost:8080/"
        },
        "id": "variable-enclosure",
        "outputId": "83e1d32d-3c47-4b02-86d9-5e580565146c"
      },
      "outputs": [
        {
          "output_type": "execute_result",
          "data": {
            "text/plain": [
              "__main__.User"
            ]
          },
          "metadata": {},
          "execution_count": 4
        }
      ],
      "source": [
        "type(user1)"
      ]
    },
    {
      "cell_type": "markdown",
      "id": "direct-projector",
      "metadata": {
        "id": "direct-projector"
      },
      "source": [
        "The object `user1` does not contain any useful information. Let's add a _constructor method_ to the class to store some _attributes_ or _properties_."
      ]
    },
    {
      "cell_type": "code",
      "execution_count": 5,
      "id": "excessive-force",
      "metadata": {
        "id": "excessive-force"
      },
      "outputs": [],
      "source": [
        "class User:\n",
        "    def __init__(self, username, name, email):\n",
        "        self.username = username\n",
        "        self.name = name\n",
        "        self.email = email\n",
        "        print('User created!')"
      ]
    },
    {
      "cell_type": "markdown",
      "id": "biblical-recommendation",
      "metadata": {
        "id": "biblical-recommendation"
      },
      "source": [
        "We can now create an object with some properties."
      ]
    },
    {
      "cell_type": "code",
      "execution_count": 6,
      "id": "above-daughter",
      "metadata": {
        "colab": {
          "base_uri": "https://localhost:8080/"
        },
        "id": "above-daughter",
        "outputId": "1f6493bb-d3df-426d-d8b0-b16506cc9755"
      },
      "outputs": [
        {
          "output_type": "stream",
          "name": "stdout",
          "text": [
            "User created!\n"
          ]
        }
      ],
      "source": [
        "user2 = User('john', 'John Doe', 'john@doe.com')"
      ]
    },
    {
      "cell_type": "code",
      "execution_count": 7,
      "id": "single-roads",
      "metadata": {
        "colab": {
          "base_uri": "https://localhost:8080/"
        },
        "id": "single-roads",
        "outputId": "40b82d56-6116-4f65-d49b-fdd8558a0474"
      },
      "outputs": [
        {
          "output_type": "execute_result",
          "data": {
            "text/plain": [
              "<__main__.User at 0x7fd86c9eb520>"
            ]
          },
          "metadata": {},
          "execution_count": 7
        }
      ],
      "source": [
        "user2"
      ]
    },
    {
      "cell_type": "markdown",
      "id": "narrow-seeker",
      "metadata": {
        "id": "narrow-seeker"
      },
      "source": [
        "Here's what's happening above (conceptually):\n",
        "\n",
        "- Python creates an empty object of the type user and stores in the variable `user2`\n",
        "- Python then invokes the function `User.___init__` with the arguments `user2`, `\"john\"`, `\"John Doe\"` and `\"john@doe.com\"`\n",
        "- As the `__init__` function is executed, the properties `username`, `name` and `email` are set on the object `user2`\n"
      ]
    },
    {
      "cell_type": "markdown",
      "id": "injured-sheffield",
      "metadata": {
        "id": "injured-sheffield"
      },
      "source": [
        "We can access the properties of the object using the `.` notation."
      ]
    },
    {
      "cell_type": "code",
      "execution_count": 8,
      "id": "blessed-albert",
      "metadata": {
        "colab": {
          "base_uri": "https://localhost:8080/",
          "height": 36
        },
        "id": "blessed-albert",
        "outputId": "91c42d90-b4d9-4460-dca7-f64d559dd2fe"
      },
      "outputs": [
        {
          "output_type": "execute_result",
          "data": {
            "text/plain": [
              "'John Doe'"
            ],
            "application/vnd.google.colaboratory.intrinsic+json": {
              "type": "string"
            }
          },
          "metadata": {},
          "execution_count": 8
        }
      ],
      "source": [
        "user2.name"
      ]
    },
    {
      "cell_type": "code",
      "execution_count": 9,
      "id": "strategic-mixture",
      "metadata": {
        "colab": {
          "base_uri": "https://localhost:8080/"
        },
        "id": "strategic-mixture",
        "outputId": "90208ba6-ab42-4940-f011-14b199d05c99"
      },
      "outputs": [
        {
          "output_type": "execute_result",
          "data": {
            "text/plain": [
              "('john@doe.com', 'john')"
            ]
          },
          "metadata": {},
          "execution_count": 9
        }
      ],
      "source": [
        "user2.email, user2.username"
      ]
    },
    {
      "cell_type": "markdown",
      "id": "international-arrow",
      "metadata": {
        "id": "international-arrow"
      },
      "source": [
        "You can also define custom methods inside a class."
      ]
    },
    {
      "cell_type": "code",
      "execution_count": 10,
      "id": "trying-listening",
      "metadata": {
        "id": "trying-listening"
      },
      "outputs": [],
      "source": [
        "class User:\n",
        "    def __init__(self, username, name, email):\n",
        "        self.username = username\n",
        "        self.name = name\n",
        "        self.email = email\n",
        "    \n",
        "    def introduce_yourself(self, guest_name):\n",
        "        print(\"Hi {}, I'm {}! Contact me at {} .\".format(guest_name, self.name, self.email))"
      ]
    },
    {
      "cell_type": "code",
      "execution_count": 11,
      "id": "previous-nicaragua",
      "metadata": {
        "id": "previous-nicaragua"
      },
      "outputs": [],
      "source": [
        "user3 = User('jane', 'Jane Doe', 'jane@doe.com')"
      ]
    },
    {
      "cell_type": "code",
      "execution_count": 12,
      "id": "negative-tunisia",
      "metadata": {
        "colab": {
          "base_uri": "https://localhost:8080/"
        },
        "id": "negative-tunisia",
        "outputId": "c0206a79-c9e6-416f-fb72-c978ae9bfb7b"
      },
      "outputs": [
        {
          "output_type": "stream",
          "name": "stdout",
          "text": [
            "Hi David, I'm Jane Doe! Contact me at jane@doe.com .\n"
          ]
        }
      ],
      "source": [
        "user3.introduce_yourself('David')"
      ]
    },
    {
      "cell_type": "markdown",
      "id": "rental-power",
      "metadata": {
        "id": "rental-power"
      },
      "source": [
        "When we try to invoke the method `user3.introduce_yourself`, the object `user3` is automatically passed as the first argument `self`. Indeed, the following statement is equivalent to the above statement."
      ]
    },
    {
      "cell_type": "code",
      "execution_count": 13,
      "id": "apparent-spring",
      "metadata": {
        "colab": {
          "base_uri": "https://localhost:8080/"
        },
        "id": "apparent-spring",
        "outputId": "6ca5848d-97c0-479d-8db1-2c8cafccc15c"
      },
      "outputs": [
        {
          "output_type": "stream",
          "name": "stdout",
          "text": [
            "Hi David, I'm Jane Doe! Contact me at jane@doe.com .\n"
          ]
        }
      ],
      "source": [
        "User.introduce_yourself(user3, 'David')"
      ]
    },
    {
      "cell_type": "markdown",
      "id": "veterinary-sustainability",
      "metadata": {
        "id": "veterinary-sustainability"
      },
      "source": [
        "Finally, we'll define a couple of helper methods to display user objects nicely within Jupyter."
      ]
    },
    {
      "cell_type": "code",
      "execution_count": 14,
      "id": "regular-equivalent",
      "metadata": {
        "id": "regular-equivalent"
      },
      "outputs": [],
      "source": [
        "class User:\n",
        "    def __init__(self, username, name, email):\n",
        "        self.username = username\n",
        "        self.name = name\n",
        "        self.email = email\n",
        "        \n",
        "    def __repr__(self):\n",
        "        return \"User(username='{}', name='{}', email='{}')\".format(self.username, self.name, self.email)\n",
        "    \n",
        "    def __str__(self):\n",
        "        return self.__repr__()"
      ]
    },
    {
      "cell_type": "code",
      "execution_count": 15,
      "id": "bright-vegetation",
      "metadata": {
        "id": "bright-vegetation"
      },
      "outputs": [],
      "source": [
        "\n",
        "user4 = User('jane', 'Jane Doe', 'jane@doe.com')"
      ]
    },
    {
      "cell_type": "code",
      "execution_count": 16,
      "id": "controlling-vehicle",
      "metadata": {
        "colab": {
          "base_uri": "https://localhost:8080/"
        },
        "id": "controlling-vehicle",
        "outputId": "7098ff69-8068-4ece-ae16-810e0b42953d"
      },
      "outputs": [
        {
          "output_type": "execute_result",
          "data": {
            "text/plain": [
              "User(username='jane', name='Jane Doe', email='jane@doe.com')"
            ]
          },
          "metadata": {},
          "execution_count": 16
        }
      ],
      "source": [
        "user4"
      ]
    },
    {
      "cell_type": "markdown",
      "id": "closing-auditor",
      "metadata": {
        "id": "closing-auditor"
      },
      "source": [
        "**Exercise:** What is the purpose of defining the functions `__str__` and `__repr__` within a class? How are the two functions different? Illustrate with some examples using the empty cells below.\n",
        "\n",
        "\n",
        "Learn more about classes in Python here: https://jovian.ai/aakashns/python-classes-and-linked-lists ."
      ]
    },
    {
      "cell_type": "code",
      "execution_count": 16,
      "id": "satisfactory-pepper",
      "metadata": {
        "id": "satisfactory-pepper"
      },
      "outputs": [],
      "source": []
    },
    {
      "cell_type": "code",
      "execution_count": 16,
      "id": "outside-jamaica",
      "metadata": {
        "id": "outside-jamaica"
      },
      "outputs": [],
      "source": []
    },
    {
      "cell_type": "markdown",
      "id": "enclosed-surface",
      "metadata": {
        "id": "enclosed-surface"
      },
      "source": [
        "#### Output\n",
        "\n",
        "We can also express our desired data structure as a Python class `UserDatabase` with four methods: `insert`, `find`, `update` and `list_all`. "
      ]
    },
    {
      "cell_type": "code",
      "execution_count": 17,
      "id": "matched-homework",
      "metadata": {
        "id": "matched-homework"
      },
      "outputs": [],
      "source": [
        "class UserDatabase:\n",
        "    def insert(self, user):\n",
        "        pass\n",
        "    \n",
        "    def find(self, username):\n",
        "        pass\n",
        "    \n",
        "    def update(self, user):\n",
        "        pass\n",
        "        \n",
        "    def list_all(self):\n",
        "        pass"
      ]
    },
    {
      "cell_type": "markdown",
      "id": "temporal-tender",
      "metadata": {
        "id": "temporal-tender"
      },
      "source": [
        "It's good programming practice to list out the signatures of different class functions before we actually implement the class."
      ]
    },
    {
      "cell_type": "markdown",
      "id": "laden-tiger",
      "metadata": {
        "id": "laden-tiger"
      },
      "source": [
        "## 2. Come up with some example inputs & outputs. \n",
        "\n",
        "Let's create some sample user profiles that we can use to test our functions once we implement them."
      ]
    },
    {
      "cell_type": "code",
      "execution_count": 18,
      "id": "appointed-guatemala",
      "metadata": {
        "id": "appointed-guatemala"
      },
      "outputs": [],
      "source": [
        "aakash = User('aakash', 'Aakash Rai', 'aakash@example.com')\n",
        "biraj = User('biraj', 'Biraj Das', 'biraj@example.com')\n",
        "hemanth = User('hemanth', 'Hemanth Jain', 'hemanth@example.com')\n",
        "jadhesh = User('jadhesh', 'Jadhesh Verma', 'jadhesh@example.com')\n",
        "siddhant = User('siddhant', 'Siddhant Sinha', 'siddhant@example.com')\n",
        "sonaksh = User('sonaksh', 'Sonaksh Kumar', 'sonaksh@example.com')\n",
        "vishal = User('vishal', 'Vishal Goel', 'vishal@example.com')"
      ]
    },
    {
      "cell_type": "code",
      "execution_count": 19,
      "id": "digital-happening",
      "metadata": {
        "id": "digital-happening"
      },
      "outputs": [],
      "source": [
        "users = [aakash, biraj, hemanth, jadhesh, siddhant, sonaksh, vishal]"
      ]
    },
    {
      "cell_type": "markdown",
      "id": "introductory-prison",
      "metadata": {
        "id": "introductory-prison"
      },
      "source": [
        "We can access different fields within a user profile object using the `.` (dot) notation."
      ]
    },
    {
      "cell_type": "code",
      "execution_count": 20,
      "id": "extreme-judge",
      "metadata": {
        "colab": {
          "base_uri": "https://localhost:8080/"
        },
        "id": "extreme-judge",
        "outputId": "8096f515-c68c-4d32-b3d1-dfcaccd53f1a"
      },
      "outputs": [
        {
          "output_type": "execute_result",
          "data": {
            "text/plain": [
              "('biraj', 'biraj@example.com', 'Biraj Das')"
            ]
          },
          "metadata": {},
          "execution_count": 20
        }
      ],
      "source": [
        "biraj.username, biraj.email, biraj.name"
      ]
    },
    {
      "cell_type": "markdown",
      "id": "reserved-transition",
      "metadata": {
        "id": "reserved-transition"
      },
      "source": [
        "We can also view a string representation of the object, since defined the `__repr__` and `__str__` methods"
      ]
    },
    {
      "cell_type": "code",
      "execution_count": 21,
      "id": "conceptual-clearing",
      "metadata": {
        "scrolled": true,
        "colab": {
          "base_uri": "https://localhost:8080/"
        },
        "id": "conceptual-clearing",
        "outputId": "b7d88950-e032-4b07-f727-8a4f61e8b9ff"
      },
      "outputs": [
        {
          "output_type": "stream",
          "name": "stdout",
          "text": [
            "User(username='aakash', name='Aakash Rai', email='aakash@example.com')\n"
          ]
        }
      ],
      "source": [
        "print(aakash)"
      ]
    },
    {
      "cell_type": "code",
      "execution_count": 22,
      "id": "funky-start",
      "metadata": {
        "colab": {
          "base_uri": "https://localhost:8080/"
        },
        "id": "funky-start",
        "outputId": "00b4de84-d0de-4e5d-fdf5-84dab2bdaf85"
      },
      "outputs": [
        {
          "output_type": "execute_result",
          "data": {
            "text/plain": [
              "[User(username='aakash', name='Aakash Rai', email='aakash@example.com'),\n",
              " User(username='biraj', name='Biraj Das', email='biraj@example.com'),\n",
              " User(username='hemanth', name='Hemanth Jain', email='hemanth@example.com'),\n",
              " User(username='jadhesh', name='Jadhesh Verma', email='jadhesh@example.com'),\n",
              " User(username='siddhant', name='Siddhant Sinha', email='siddhant@example.com'),\n",
              " User(username='sonaksh', name='Sonaksh Kumar', email='sonaksh@example.com'),\n",
              " User(username='vishal', name='Vishal Goel', email='vishal@example.com')]"
            ]
          },
          "metadata": {},
          "execution_count": 22
        }
      ],
      "source": [
        "users"
      ]
    },
    {
      "cell_type": "markdown",
      "id": "broken-methodology",
      "metadata": {
        "id": "broken-methodology"
      },
      "source": [
        "Since we haven't implemented our data structure yet, it's not possible to list sample outputs. However you can try to come up with different scenarios to test future implementations\n",
        "\n",
        "**Exercise:** List some scenarios for testing the class methods `insert`, `find`, `update` and `list_all`.\n",
        "\n",
        "1. Insert:\n",
        "    1. Inserting into an empty database of users\n",
        "    2. Trying to insert a user with a username that already exists\n",
        "    3. Inserting a user with a username that does not exist\n",
        "    4. ???\n",
        "\n",
        "2. Find:\n",
        "    1. ???\n",
        "    2. ???\n",
        "    3. ???\n",
        "\n",
        "3. Update:\n",
        "    1. ???\n",
        "    2. ???\n",
        "    3. ???\n",
        "\n",
        "4. List:\n",
        "    1. ???\n",
        "    2. ???\n",
        "    3. ???\n",
        "\n",
        "\n"
      ]
    },
    {
      "cell_type": "markdown",
      "id": "nuclear-infrared",
      "metadata": {
        "id": "nuclear-infrared"
      },
      "source": [
        "## 3. Come up with a correct solution. State it in plain English.\n",
        "\n",
        "Here's a simple and easy solution to the problem: we store the `User` objects in a list sorted by usernames. \n",
        "\n",
        "The various functions can be implemented as follows:\n",
        "\n",
        "1. **Insert**: Loop through the list and add the new user at a position that keeps the list sorted.\n",
        "2. **Find**: Loop through the list and find the user object with the username matching the query.\n",
        "3. **Update**: Loop through the list, find the user object matching the query and update the details\n",
        "4. **List**: Return the list of user objects.\n",
        "\n",
        "We can use the fact usernames, which are are strings can be compared using the `<`, `>` and `==` operators in Python."
      ]
    },
    {
      "cell_type": "code",
      "execution_count": 23,
      "id": "fifth-polymer",
      "metadata": {
        "colab": {
          "base_uri": "https://localhost:8080/"
        },
        "id": "fifth-polymer",
        "outputId": "2ccd0968-ca79-47b2-973f-2c3a972e7943"
      },
      "outputs": [
        {
          "output_type": "execute_result",
          "data": {
            "text/plain": [
              "True"
            ]
          },
          "metadata": {},
          "execution_count": 23
        }
      ],
      "source": [
        "'biraj' < 'hemanth'"
      ]
    },
    {
      "cell_type": "markdown",
      "id": "computational-affairs",
      "metadata": {
        "id": "computational-affairs"
      },
      "source": [
        "## 4. Implement the solution and test it using example inputs.\n",
        "\n",
        "The code for implementing the above solution is also fairly straightfoward."
      ]
    },
    {
      "cell_type": "code",
      "execution_count": 24,
      "id": "detailed-technician",
      "metadata": {
        "id": "detailed-technician"
      },
      "outputs": [],
      "source": [
        "class UserDatabase:\n",
        "    def __init__(self):\n",
        "        self.users = []\n",
        "    \n",
        "    def insert(self, user):\n",
        "        i = 0\n",
        "        while i < len(self.users):\n",
        "            # Find the first username greater than the new user's username\n",
        "            if self.users[i].username > user.username:\n",
        "                break\n",
        "            i += 1\n",
        "        self.users.insert(i, user)\n",
        "    \n",
        "    def find(self, username):\n",
        "        for user in self.users:\n",
        "            if user.username == username:\n",
        "                return user\n",
        "    \n",
        "    def update(self, user):\n",
        "        target = self.find(user.username)\n",
        "        target.name, target.email = user.name, user.email\n",
        "        \n",
        "    def list_all(self):\n",
        "        return self.users"
      ]
    },
    {
      "cell_type": "markdown",
      "id": "rational-retrieval",
      "metadata": {
        "id": "rational-retrieval"
      },
      "source": [
        "We can create a new database of users by _instantiating_ and object of the `UserDatabase` class."
      ]
    },
    {
      "cell_type": "code",
      "execution_count": 25,
      "id": "useful-sperm",
      "metadata": {
        "id": "useful-sperm"
      },
      "outputs": [],
      "source": [
        "database = UserDatabase()"
      ]
    },
    {
      "cell_type": "markdown",
      "id": "enabling-billion",
      "metadata": {
        "id": "enabling-billion"
      },
      "source": [
        "Let's insert some entires into the object."
      ]
    },
    {
      "cell_type": "code",
      "execution_count": 26,
      "id": "regular-relevance",
      "metadata": {
        "id": "regular-relevance"
      },
      "outputs": [],
      "source": [
        "database.insert(hemanth)\n",
        "database.insert(aakash)\n",
        "database.insert(siddhant)"
      ]
    },
    {
      "cell_type": "markdown",
      "id": "entire-professional",
      "metadata": {
        "id": "entire-professional"
      },
      "source": [
        "We can now retrieve the data for a user, given their username."
      ]
    },
    {
      "cell_type": "code",
      "execution_count": 27,
      "id": "incoming-session",
      "metadata": {
        "colab": {
          "base_uri": "https://localhost:8080/"
        },
        "id": "incoming-session",
        "outputId": "3a417a89-c713-4b91-d65a-5101ecc3ee41"
      },
      "outputs": [
        {
          "output_type": "execute_result",
          "data": {
            "text/plain": [
              "User(username='siddhant', name='Siddhant Sinha', email='siddhant@example.com')"
            ]
          },
          "metadata": {},
          "execution_count": 27
        }
      ],
      "source": [
        "user = database.find('siddhant')\n",
        "user"
      ]
    },
    {
      "cell_type": "markdown",
      "id": "lesbian-location",
      "metadata": {
        "id": "lesbian-location"
      },
      "source": [
        "Let's try changing the information for a user"
      ]
    },
    {
      "cell_type": "code",
      "execution_count": 28,
      "id": "wanted-colonial",
      "metadata": {
        "id": "wanted-colonial"
      },
      "outputs": [],
      "source": [
        "database.update(User(username='siddhant', name='Siddhant U', email='siddhantu@example.com'))"
      ]
    },
    {
      "cell_type": "code",
      "execution_count": 29,
      "id": "starting-hurricane",
      "metadata": {
        "colab": {
          "base_uri": "https://localhost:8080/"
        },
        "id": "starting-hurricane",
        "outputId": "23a26581-0079-4778-a395-3e9c5702fae6"
      },
      "outputs": [
        {
          "output_type": "execute_result",
          "data": {
            "text/plain": [
              "User(username='siddhant', name='Siddhant U', email='siddhantu@example.com')"
            ]
          },
          "metadata": {},
          "execution_count": 29
        }
      ],
      "source": [
        "user = database.find('siddhant')\n",
        "user"
      ]
    },
    {
      "cell_type": "markdown",
      "id": "minor-accident",
      "metadata": {
        "id": "minor-accident"
      },
      "source": [
        "Finally, we can retrieve a list of users in alphabetical order."
      ]
    },
    {
      "cell_type": "code",
      "execution_count": 30,
      "id": "approved-square",
      "metadata": {
        "colab": {
          "base_uri": "https://localhost:8080/"
        },
        "id": "approved-square",
        "outputId": "f4329df5-d623-41ba-dd3e-55a737174086"
      },
      "outputs": [
        {
          "output_type": "execute_result",
          "data": {
            "text/plain": [
              "[User(username='aakash', name='Aakash Rai', email='aakash@example.com'),\n",
              " User(username='hemanth', name='Hemanth Jain', email='hemanth@example.com'),\n",
              " User(username='siddhant', name='Siddhant U', email='siddhantu@example.com')]"
            ]
          },
          "metadata": {},
          "execution_count": 30
        }
      ],
      "source": [
        "database.list_all()"
      ]
    },
    {
      "cell_type": "markdown",
      "id": "together-basketball",
      "metadata": {
        "id": "together-basketball"
      },
      "source": [
        "Let's verify that a new user is inserted into the correct position."
      ]
    },
    {
      "cell_type": "code",
      "execution_count": 31,
      "id": "advised-hungarian",
      "metadata": {
        "id": "advised-hungarian"
      },
      "outputs": [],
      "source": [
        "database.insert(biraj)"
      ]
    },
    {
      "cell_type": "code",
      "execution_count": 32,
      "id": "radio-smell",
      "metadata": {
        "colab": {
          "base_uri": "https://localhost:8080/"
        },
        "id": "radio-smell",
        "outputId": "65747c92-edb2-4e27-b9f4-e50785f2b96e"
      },
      "outputs": [
        {
          "output_type": "execute_result",
          "data": {
            "text/plain": [
              "[User(username='aakash', name='Aakash Rai', email='aakash@example.com'),\n",
              " User(username='biraj', name='Biraj Das', email='biraj@example.com'),\n",
              " User(username='hemanth', name='Hemanth Jain', email='hemanth@example.com'),\n",
              " User(username='siddhant', name='Siddhant U', email='siddhantu@example.com')]"
            ]
          },
          "metadata": {},
          "execution_count": 32
        }
      ],
      "source": [
        "database.list_all()"
      ]
    },
    {
      "cell_type": "markdown",
      "id": "comfortable-satisfaction",
      "metadata": {
        "id": "comfortable-satisfaction"
      },
      "source": [
        "The user `biraj` was inserted just before `hemanth`, as expected.\n",
        "\n",
        "**Exercise:** Use the empty cells below to test the various scenarios you listed in step 2 above."
      ]
    },
    {
      "cell_type": "code",
      "execution_count": 32,
      "id": "removed-still",
      "metadata": {
        "id": "removed-still"
      },
      "outputs": [],
      "source": []
    },
    {
      "cell_type": "code",
      "execution_count": 32,
      "id": "concerned-congress",
      "metadata": {
        "id": "concerned-congress"
      },
      "outputs": [],
      "source": []
    },
    {
      "cell_type": "code",
      "execution_count": 32,
      "id": "floppy-technician",
      "metadata": {
        "id": "floppy-technician"
      },
      "outputs": [],
      "source": []
    },
    {
      "cell_type": "markdown",
      "id": "dangerous-venezuela",
      "metadata": {
        "id": "dangerous-venezuela"
      },
      "source": [
        "## 5. Analyze the algorithm's complexity and identify inefficiencies\n",
        "\n",
        "The operations `insert`, `find`, `update` involves iterating over a list of users, in the worst case, they may take up to `N` iterations to return a result, where `N` is the total number of users. `list_all` however, simply returns the existing internal list of users. \n",
        "\n",
        "Thus, the time complexities of the various operations are:\n",
        "\n",
        "1. Insert: **O(N)**\n",
        "2. Find: **O(N)**\n",
        "3. Update: **O(N)**\n",
        "4. List: **O(1)**\n",
        "\n",
        "**Exercise:** Verify that the space complexity of each operation is **O(1)**.\n",
        "\n",
        "Is this good enough? To get a sense how long each function might take if there are 100 million users on the platform, we can simply run an `for` or `while` loop on 10 million numbers."
      ]
    },
    {
      "cell_type": "code",
      "execution_count": 33,
      "id": "healthy-blade",
      "metadata": {
        "colab": {
          "base_uri": "https://localhost:8080/"
        },
        "id": "healthy-blade",
        "outputId": "e5ba3e7e-109b-4022-d053-ffe2ad475dea"
      },
      "outputs": [
        {
          "output_type": "stream",
          "name": "stdout",
          "text": [
            "CPU times: user 7.45 s, sys: 0 ns, total: 7.45 s\n",
            "Wall time: 7.49 s\n"
          ]
        }
      ],
      "source": [
        "%%time\n",
        "for i in range(100000000):\n",
        "    j = i*i"
      ]
    },
    {
      "cell_type": "markdown",
      "id": "endangered-centre",
      "metadata": {
        "id": "endangered-centre"
      },
      "source": [
        "It takes almost 10 seconds to execute all the iterations in the above cell. \n",
        "\n",
        "* A 10-second delay for fetching user profiles will lead to a suboptimal users experience and may cause many users to stop using the platform altogether. \n",
        "* The 10-second processing time for each profile request will also significantly limit the number of users that can access the platform at a time or increase the cloud infrastructure costs for the company by millions of dollars.\n",
        "\n",
        "As a senior backend engineer, you must come up with a more efficient data structure! Choosing the right data structure for the requirements at hand is an important skill. It's apparent that a sorted list of users might not be the best data structure to organize profile information for millions of users. "
      ]
    },
    {
      "cell_type": "markdown",
      "id": "popular-launch",
      "metadata": {
        "id": "popular-launch"
      },
      "source": [
        "### Save and upload your work to Jovian\n",
        "\n",
        "Whether you're running this Jupyter notebook online or on your computer, it's essential to save your work from time to time. You can continue working on a saved notebook later or share it with friends and colleagues to let them execute your code. [Jovian](https://jovian.ai/platform-features) offers an easy way of saving and sharing your Jupyter notebooks online."
      ]
    },
    {
      "cell_type": "code",
      "execution_count": 34,
      "id": "interpreted-engine",
      "metadata": {
        "colab": {
          "base_uri": "https://localhost:8080/"
        },
        "id": "interpreted-engine",
        "outputId": "7b7ac476-f950-4578-9728-7a06d3b5d730"
      },
      "outputs": [
        {
          "output_type": "stream",
          "name": "stdout",
          "text": [
            "\u001b[?25l     \u001b[90m━━━━━━━━━━━━━━━━━━━━━━━━━━━━━━━━━━━━━━━━\u001b[0m \u001b[32m0.0/68.6 kB\u001b[0m \u001b[31m?\u001b[0m eta \u001b[36m-:--:--\u001b[0m\r\u001b[2K     \u001b[90m━━━━━━━━━━━━━━━━━━━━━━━━━━━━━━━━━━━━━━━━\u001b[0m \u001b[32m68.6/68.6 kB\u001b[0m \u001b[31m5.4 MB/s\u001b[0m eta \u001b[36m0:00:00\u001b[0m\n",
            "\u001b[?25h  Preparing metadata (setup.py) ... \u001b[?25l\u001b[?25hdone\n",
            "  Building wheel for uuid (setup.py) ... \u001b[?25l\u001b[?25hdone\n"
          ]
        }
      ],
      "source": [
        "!pip install jovian --upgrade --quiet"
      ]
    },
    {
      "cell_type": "code",
      "execution_count": 35,
      "id": "concrete-groove",
      "metadata": {
        "id": "concrete-groove"
      },
      "outputs": [],
      "source": [
        "import jovian"
      ]
    },
    {
      "cell_type": "code",
      "execution_count": 36,
      "id": "spread-agriculture",
      "metadata": {
        "colab": {
          "base_uri": "https://localhost:8080/"
        },
        "id": "spread-agriculture",
        "outputId": "5752b368-5130-406a-f6f3-8ab8f0e25a1e"
      },
      "outputs": [
        {
          "output_type": "stream",
          "name": "stdout",
          "text": [
            "[jovian] Detected Colab notebook...\u001b[0m\n",
            "[jovian] jovian.commit() is no longer required on Google Colab. If you ran this notebook from Jovian, \n",
            "then just save this file in Colab using Ctrl+S/Cmd+S and it will be updated on Jovian. \n",
            "Also, you can also delete this cell, it's no longer necessary.\u001b[0m\n"
          ]
        }
      ],
      "source": [
        "jovian.commit(project='python-binary-search-trees')"
      ]
    },
    {
      "cell_type": "markdown",
      "id": "bright-nothing",
      "metadata": {
        "id": "bright-nothing"
      },
      "source": [
        "## 6. Apply the right technique to overcome the inefficiency\n",
        "\n",
        "We can limit the number of iterations required for common operations like find, insert and update by organizing our data in the following structure, called a **binary tree**:\n",
        "\n",
        "<img src=\"https://i.imgur.com/lVqP63n.png\" width=\"520\">\n",
        "\n",
        "\n",
        "\n",
        "It's called a tree because it vaguely like an inverted tree trunk with branches. \n",
        "* The word \"binary\" indicates that each \"node\" in the tree can have at most 2 children (left or right). \n",
        "* Nodes can have 0, 1 or 2 children. Nodes that do not have any children are sometimes also called \"leaves\".\n",
        "* The single node at the top is called the \"root\" node, and it typically where operations like search, insertion etc. begin.\n",
        "\n",
        "<img src=\"https://i.imgur.com/TZHMKJr.png\" width=\"400\">\n"
      ]
    },
    {
      "cell_type": "markdown",
      "id": "useful-blade",
      "metadata": {
        "id": "useful-blade"
      },
      "source": [
        "## Balanced Binary Search Trees\n",
        "\n",
        "<img src=\"https://i.imgur.com/Mqef5b3.png\" width=\"520\">\n",
        "\n",
        "For our use case, we require the binary tree to have some additional properties:\n",
        "\n",
        "1. **Keys and Values**: Each node of the tree stores a key (a username) and a value (a `User` object). Only keys are shown in the picture above for brevity. A binary tree where nodes have both a key and a value is often referred to as a **map** or **treemap** (because it maps keys to values).\n",
        "2. **Binary Search Tree**: The *left subtree* of any node only contains nodes with keys that are lexicographically smaller than the node's key, and the *right subtree* of any node only contains nodes with keys that lexicographically larger than the node's key. A tree that satisfies this property is called a **binary search trees**, and it's easy to locate a specific key by traversing a single path down from the root note.\n",
        "3. **Balanced Tree**: The tree is **balanced** i.e. it does not skew too heavily to one side or the other. The left and right subtrees of any node shouldn't differ in height/depth by more than 1 level.\n",
        "\n",
        "\n",
        "### Height of a Binary Tree\n",
        "\n",
        "The number of levels in a tree is called its height. As you can tell from the picture above, each level of a tree contains twice as many nodes as the previous level. \n",
        "\n",
        "For a tree of height `k`, here's a list of the number of nodes at each level:\n",
        "\n",
        "Level 0: `1`\n",
        "\n",
        "Level 1: `2`\n",
        "\n",
        "Level 2: `4` i.e. `2^2`\n",
        "\n",
        "Level 3: `8` i.e. `2^3`\n",
        "\n",
        "...\n",
        "\n",
        "Level k-1: `2^(k-1)`\n",
        "\n",
        "If the total number of nodes in the tree is `N`, then it follows that\n",
        "\n",
        "```\n",
        "N = 1 + 2^1 + 2^2 + 2^3 + ... + 2^(k-1)\n",
        "```\n",
        "\n",
        "\n",
        "We can simplify this equation by adding `1` on each side:\n",
        "\n",
        "```\n",
        "N + 1 = 1 + 1 + 2^1 + 2^2 + 2^3 + ... + 2^(k-1) \n",
        "\n",
        "N + 1 = 2^1 + 2^1 + 2^2+ 2^3 + ... + 2^(k-1) \n",
        "\n",
        "N + 1 = = 2^2 + 2^2 + 2^3 + ... + 2^(k-1)\n",
        "\n",
        "N + 1 = = 2^3 + 2^3 + ... + 2^(k-1)\n",
        "\n",
        "...\n",
        "\n",
        "N + 1 = 2^(k-1) + 2^(k-1)\n",
        "\n",
        "N + 1 = 2^k\n",
        "\n",
        "k = log(N + 1) <= log(N) + 1 \n",
        "\n",
        "```\n",
        "\n",
        "Thus, to store `N` records we require a balanced binary search tree (BST) of height no larger than `log(N) + 1`. This is a very useful property, in combination with the fact that nodes are arranged in a way that makes it easy to find a specific key by following a single path down from the root. \n",
        "\n",
        "As we'll see soon, the `insert`, `find` and `update` operations in a balanced BST have time complexity `O(log N)` since they all involve traversing a single path down from the root of the tree."
      ]
    },
    {
      "cell_type": "markdown",
      "id": "fatty-brook",
      "metadata": {
        "id": "fatty-brook"
      },
      "source": [
        "## Binary Tree\n",
        "\n",
        "> **QUESTION 2**: Implement a binary tree using Python, and show its usage with some examples.\n",
        "\n",
        "To begin, we'll create simple binary tree (without any of the additional properties) containing numbers as keys within nodes. Here's an example:\n",
        "\n",
        "<img src=\"https://i.imgur.com/hg2ZG5h.png\" width=\"240\">\n",
        "\n",
        "Here's a simple class representing a node within a binary tree.\n"
      ]
    },
    {
      "cell_type": "code",
      "execution_count": 37,
      "id": "concerned-guarantee",
      "metadata": {
        "id": "concerned-guarantee"
      },
      "outputs": [],
      "source": [
        "class TreeNode:\n",
        "    def __init__(self, key):\n",
        "        self.key = key\n",
        "        self.left = None\n",
        "        self.right = None"
      ]
    },
    {
      "cell_type": "markdown",
      "id": "super-accuracy",
      "metadata": {
        "id": "super-accuracy"
      },
      "source": [
        "Let's create objects representing each node of the above tree"
      ]
    },
    {
      "cell_type": "code",
      "execution_count": 38,
      "id": "activated-medicaid",
      "metadata": {
        "id": "activated-medicaid"
      },
      "outputs": [],
      "source": [
        "node0 = TreeNode(3)\n",
        "node1 = TreeNode(4)\n",
        "node2 = TreeNode(5)"
      ]
    },
    {
      "cell_type": "markdown",
      "id": "suited-accessory",
      "metadata": {
        "id": "suited-accessory"
      },
      "source": [
        "Let's verify that `node0` is an object of the type `TreeNode` and has the property `key` set to `3`."
      ]
    },
    {
      "cell_type": "code",
      "execution_count": 39,
      "id": "different-spelling",
      "metadata": {
        "colab": {
          "base_uri": "https://localhost:8080/"
        },
        "id": "different-spelling",
        "outputId": "44763789-3d37-4b3b-94f7-5514411bd89b"
      },
      "outputs": [
        {
          "output_type": "execute_result",
          "data": {
            "text/plain": [
              "<__main__.TreeNode at 0x7fd854cca6b0>"
            ]
          },
          "metadata": {},
          "execution_count": 39
        }
      ],
      "source": [
        "node0"
      ]
    },
    {
      "cell_type": "code",
      "execution_count": 40,
      "id": "incorporated-hacker",
      "metadata": {
        "colab": {
          "base_uri": "https://localhost:8080/"
        },
        "id": "incorporated-hacker",
        "outputId": "57a7eebd-26b9-46a9-f38c-edfba3d866d7"
      },
      "outputs": [
        {
          "output_type": "execute_result",
          "data": {
            "text/plain": [
              "3"
            ]
          },
          "metadata": {},
          "execution_count": 40
        }
      ],
      "source": [
        "node0.key"
      ]
    },
    {
      "cell_type": "markdown",
      "id": "impressed-charity",
      "metadata": {
        "id": "impressed-charity"
      },
      "source": [
        "We can *connect* the nodes by setting the `.left` and `.right` properties of the root node."
      ]
    },
    {
      "cell_type": "code",
      "execution_count": 41,
      "id": "challenging-seventh",
      "metadata": {
        "id": "challenging-seventh"
      },
      "outputs": [],
      "source": [
        "node0.left = node1\n",
        "node0.right = node2"
      ]
    },
    {
      "cell_type": "markdown",
      "id": "roman-garage",
      "metadata": {
        "id": "roman-garage"
      },
      "source": [
        "And we're done! We can create a new variable *tree* which simply points to the root node, and use it to access all the nodes within the tree.\n",
        "\n",
        "<img src=\"https://i.imgur.com/hg2ZG5h.png\" width=\"240\">"
      ]
    },
    {
      "cell_type": "code",
      "execution_count": 42,
      "id": "recorded-empire",
      "metadata": {
        "id": "recorded-empire"
      },
      "outputs": [],
      "source": [
        "tree = node0"
      ]
    },
    {
      "cell_type": "code",
      "execution_count": 43,
      "id": "elder-fiction",
      "metadata": {
        "colab": {
          "base_uri": "https://localhost:8080/"
        },
        "id": "elder-fiction",
        "outputId": "97094243-14e7-4821-e1ad-ed34ebad70bd"
      },
      "outputs": [
        {
          "output_type": "execute_result",
          "data": {
            "text/plain": [
              "3"
            ]
          },
          "metadata": {},
          "execution_count": 43
        }
      ],
      "source": [
        "tree.key"
      ]
    },
    {
      "cell_type": "code",
      "execution_count": 44,
      "id": "afraid-balloon",
      "metadata": {
        "colab": {
          "base_uri": "https://localhost:8080/"
        },
        "id": "afraid-balloon",
        "outputId": "7cea0999-75a4-4a2b-a934-fbaf74e7261d"
      },
      "outputs": [
        {
          "output_type": "execute_result",
          "data": {
            "text/plain": [
              "4"
            ]
          },
          "metadata": {},
          "execution_count": 44
        }
      ],
      "source": [
        "tree.left.key"
      ]
    },
    {
      "cell_type": "code",
      "execution_count": 45,
      "id": "traditional-brother",
      "metadata": {
        "colab": {
          "base_uri": "https://localhost:8080/"
        },
        "id": "traditional-brother",
        "outputId": "481810ea-1700-4f81-9a88-a646fc1319f1"
      },
      "outputs": [
        {
          "output_type": "execute_result",
          "data": {
            "text/plain": [
              "5"
            ]
          },
          "metadata": {},
          "execution_count": 45
        }
      ],
      "source": [
        "tree.right.key"
      ]
    },
    {
      "cell_type": "markdown",
      "id": "criminal-leeds",
      "metadata": {
        "id": "criminal-leeds"
      },
      "source": [
        "Going forward, we'll use the term \"tree\" to refer to the root node. The term \"node\" can refer to any node in a tree, not necessarily the root.\n",
        "\n",
        "**Exercise:** Create the following binary tree using the `TreeNode` class defined above.\n",
        "\n",
        "<img src=\"https://i.imgur.com/d7djJAf.png\" width=\"540\">"
      ]
    },
    {
      "cell_type": "code",
      "execution_count": 46,
      "id": "ongoing-assignment",
      "metadata": {
        "id": "ongoing-assignment"
      },
      "outputs": [],
      "source": [
        "node0 = TreeNode(2)\n",
        "node1 = TreeNode(3)\n",
        "node2 = TreeNode(1)\n",
        "node3 = TreeNode(5)\n",
        "node4 = TreeNode(4)\n",
        "node5 = TreeNode(7)\n",
        "node6 = TreeNode(6)\n",
        "node7 = TreeNode(8)"
      ]
    },
    {
      "cell_type": "code",
      "execution_count": 47,
      "id": "headed-discovery",
      "metadata": {
        "id": "headed-discovery"
      },
      "outputs": [],
      "source": [
        "node0.left = node1\n",
        "node1.left = node2\n",
        "\n",
        "node0.right = node3\n",
        "node3.left  = node4\n",
        "node3.right = node5\n",
        "node5.left = node6\n",
        "node5.right = node7"
      ]
    },
    {
      "cell_type": "code",
      "source": [
        "tree = node0"
      ],
      "metadata": {
        "id": "jj8HYjggDEgW"
      },
      "id": "jj8HYjggDEgW",
      "execution_count": 48,
      "outputs": []
    },
    {
      "cell_type": "code",
      "source": [
        "tree.right.key"
      ],
      "metadata": {
        "colab": {
          "base_uri": "https://localhost:8080/"
        },
        "id": "rMXO8_M4DL7j",
        "outputId": "a7811a1f-a141-4015-af1a-a8cb879f369c"
      },
      "id": "rMXO8_M4DL7j",
      "execution_count": 49,
      "outputs": [
        {
          "output_type": "execute_result",
          "data": {
            "text/plain": [
              "5"
            ]
          },
          "metadata": {},
          "execution_count": 49
        }
      ]
    },
    {
      "cell_type": "markdown",
      "id": "crucial-bacon",
      "metadata": {
        "id": "crucial-bacon"
      },
      "source": [
        "It's a bit inconvenient to create a tree by manually connecting all the nodes. Let's write a helper function which can convert a tuple with the structure `( left_subtree, key, right_subtree)` (where `left_subtree` and `right_subtree` are themselves tuples) into binary tree.\n",
        "\n",
        "Here's an tuple representing the tree shown above:"
      ]
    },
    {
      "cell_type": "code",
      "execution_count": 50,
      "id": "rising-zealand",
      "metadata": {
        "id": "rising-zealand"
      },
      "outputs": [],
      "source": [
        "tree_tuple = ((1,3,None), 2, ((None, 3, 4), 5, (6, 7, 8)))"
      ]
    },
    {
      "cell_type": "code",
      "execution_count": 51,
      "id": "defined-string",
      "metadata": {
        "id": "defined-string"
      },
      "outputs": [],
      "source": [
        "def parse_tuple(data):\n",
        "    print(data)\n",
        "    if isinstance(data, tuple) and len(data) == 3:\n",
        "        node = TreeNode(data[1])\n",
        "        node.left = parse_tuple(data[0])\n",
        "        node.right = parse_tuple(data[2])\n",
        "    elif data is None:\n",
        "        node = None\n",
        "    else:\n",
        "        node = TreeNode(data)\n",
        "    return node"
      ]
    },
    {
      "cell_type": "code",
      "source": [
        "print(parse_tuple(tree_tuple))"
      ],
      "metadata": {
        "colab": {
          "base_uri": "https://localhost:8080/"
        },
        "id": "LCB4atbvVfBE",
        "outputId": "be32a28a-c8ab-4fda-b516-456d85c2dfce"
      },
      "id": "LCB4atbvVfBE",
      "execution_count": 52,
      "outputs": [
        {
          "output_type": "stream",
          "name": "stdout",
          "text": [
            "((1, 3, None), 2, ((None, 3, 4), 5, (6, 7, 8)))\n",
            "(1, 3, None)\n",
            "1\n",
            "None\n",
            "((None, 3, 4), 5, (6, 7, 8))\n",
            "(None, 3, 4)\n",
            "None\n",
            "4\n",
            "(6, 7, 8)\n",
            "6\n",
            "8\n",
            "<__main__.TreeNode object at 0x7fd86c9ea980>\n"
          ]
        }
      ]
    },
    {
      "cell_type": "markdown",
      "id": "final-cambridge",
      "metadata": {
        "id": "final-cambridge"
      },
      "source": [
        "The `parse_tuple` creates a new root node when a tuple of size 3 as an the input. Interestingly, to create the left and right subtrees for the node, the `parse_tuple` function invokes itself. This technique is called _recursion_. The chain of _recursive_ calls ends when `parse_tuple` encounters a number or `None` as input. We'll use recursion extensively throughout this tutorial.\n",
        "\n",
        "\n",
        "**Exercise:** Add print statements inside `parse_tuple` to display the arguments for each call of the function. Does the sequence of recursive calls make sense to you?\n"
      ]
    },
    {
      "cell_type": "markdown",
      "id": "different-surprise",
      "metadata": {
        "id": "different-surprise"
      },
      "source": [
        "Let's try out `parse_tuple` with the tuple define earlier."
      ]
    },
    {
      "cell_type": "code",
      "execution_count": 53,
      "id": "heavy-consent",
      "metadata": {
        "id": "heavy-consent",
        "colab": {
          "base_uri": "https://localhost:8080/"
        },
        "outputId": "e20faa1e-560e-40ea-9186-ded287d6aeb7"
      },
      "outputs": [
        {
          "output_type": "stream",
          "name": "stdout",
          "text": [
            "((1, 3, None), 2, ((None, 3, 4), 5, (6, 7, 8)))\n",
            "(1, 3, None)\n",
            "1\n",
            "None\n",
            "((None, 3, 4), 5, (6, 7, 8))\n",
            "(None, 3, 4)\n",
            "None\n",
            "4\n",
            "(6, 7, 8)\n",
            "6\n",
            "8\n"
          ]
        }
      ],
      "source": [
        "tree2 = parse_tuple(((1,3,None), 2, ((None, 3, 4), 5, (6, 7, 8))))"
      ]
    },
    {
      "cell_type": "code",
      "execution_count": 54,
      "id": "received-click",
      "metadata": {
        "colab": {
          "base_uri": "https://localhost:8080/"
        },
        "id": "received-click",
        "outputId": "005e51b6-f29b-49c3-adb3-052a7b631283"
      },
      "outputs": [
        {
          "output_type": "execute_result",
          "data": {
            "text/plain": [
              "<__main__.TreeNode at 0x7fd86c9eb190>"
            ]
          },
          "metadata": {},
          "execution_count": 54
        }
      ],
      "source": [
        "tree2"
      ]
    },
    {
      "cell_type": "markdown",
      "id": "urban-result",
      "metadata": {
        "id": "urban-result"
      },
      "source": [
        "We can now examine the tree to verify that it was constructed as expected.\n",
        "\n",
        "<img src=\"https://i.imgur.com/d7djJAf.png\" width=\"540\">"
      ]
    },
    {
      "cell_type": "code",
      "execution_count": 55,
      "id": "precious-hammer",
      "metadata": {
        "colab": {
          "base_uri": "https://localhost:8080/"
        },
        "id": "precious-hammer",
        "outputId": "aef39a89-49eb-430d-908b-b30709d9653e"
      },
      "outputs": [
        {
          "output_type": "execute_result",
          "data": {
            "text/plain": [
              "2"
            ]
          },
          "metadata": {},
          "execution_count": 55
        }
      ],
      "source": [
        "tree2.key"
      ]
    },
    {
      "cell_type": "code",
      "execution_count": 56,
      "id": "finished-moses",
      "metadata": {
        "colab": {
          "base_uri": "https://localhost:8080/"
        },
        "id": "finished-moses",
        "outputId": "fce09059-0f68-4ff6-af4b-1aa127d49438"
      },
      "outputs": [
        {
          "output_type": "execute_result",
          "data": {
            "text/plain": [
              "(3, 5)"
            ]
          },
          "metadata": {},
          "execution_count": 56
        }
      ],
      "source": [
        "tree2.left.key, tree2.right.key"
      ]
    },
    {
      "cell_type": "code",
      "execution_count": 57,
      "id": "regulated-monthly",
      "metadata": {
        "colab": {
          "base_uri": "https://localhost:8080/"
        },
        "id": "regulated-monthly",
        "outputId": "6f843279-6ef6-4e62-a8c1-cc4d9dc4397a"
      },
      "outputs": [
        {
          "output_type": "execute_result",
          "data": {
            "text/plain": [
              "(1, None, 3, 7)"
            ]
          },
          "metadata": {},
          "execution_count": 57
        }
      ],
      "source": [
        "tree2.left.left.key, tree2.left.right, tree2.right.left.key, tree2.right.right.key"
      ]
    },
    {
      "cell_type": "code",
      "execution_count": 58,
      "id": "dedicated-warning",
      "metadata": {
        "scrolled": true,
        "colab": {
          "base_uri": "https://localhost:8080/"
        },
        "id": "dedicated-warning",
        "outputId": "21c14d3b-777c-4fd4-881b-197db7682060"
      },
      "outputs": [
        {
          "output_type": "execute_result",
          "data": {
            "text/plain": [
              "(4, 6, 8)"
            ]
          },
          "metadata": {},
          "execution_count": 58
        }
      ],
      "source": [
        "tree2.right.left.right.key, tree2.right.right.left.key, tree2.right.right.right.key"
      ]
    },
    {
      "cell_type": "markdown",
      "id": "parallel-healthcare",
      "metadata": {
        "id": "parallel-healthcare"
      },
      "source": [
        "**Exercise:** Define a function `tree_to_tuple` that converts a binary tree into a tuple representing the same tree. E.g. `tree_to_tuple` converts the tree created above to the tuple `((1, 3, None), 2, ((None, 3, 4), 5, (6, 7, 8)))`. *Hint*: Use recursion."
      ]
    },
    {
      "cell_type": "code",
      "execution_count": 59,
      "id": "unsigned-gabriel",
      "metadata": {
        "id": "unsigned-gabriel"
      },
      "outputs": [],
      "source": [
        "def tree_to_tuple(node):\n",
        "    if node is None:\n",
        "      return None\n",
        "    left_subtree = tree_to_tuple(node.left)\n",
        "    right_subtree = tree_to_tuple(node.right)\n",
        "\n",
        "    if left_subtree is None and right_subtree is None:\n",
        "        return node.key\n",
        "    else:\n",
        "        return (left_subtree, node.key, right_subtree)"
      ]
    },
    {
      "cell_type": "code",
      "execution_count": 60,
      "id": "revolutionary-cache",
      "metadata": {
        "id": "revolutionary-cache",
        "colab": {
          "base_uri": "https://localhost:8080/"
        },
        "outputId": "6a6cc9ed-bf8c-40ca-c77c-2243fca3ba32"
      },
      "outputs": [
        {
          "output_type": "stream",
          "name": "stdout",
          "text": [
            "((1, 3, None), 2, ((None, 3, 4), 5, (6, 7, 8)))\n"
          ]
        }
      ],
      "source": [
        "tree2_tuple = tree_to_tuple(tree2)\n",
        "print(tree2_tuple)"
      ]
    },
    {
      "cell_type": "markdown",
      "id": "comparative-civilization",
      "metadata": {
        "id": "comparative-civilization"
      },
      "source": [
        "Let's create another helper function to display all the keys in a tree-like structure for easier visualization."
      ]
    },
    {
      "cell_type": "code",
      "execution_count": 61,
      "id": "advance-bunch",
      "metadata": {
        "id": "advance-bunch"
      },
      "outputs": [],
      "source": [
        "def display_keys(node, space='\\t', level=0):\n",
        "    # print(node.key if node else None, level)\n",
        "    \n",
        "    # If the node is empty\n",
        "    if node is None:\n",
        "        print(space*level + '∅')\n",
        "        return   \n",
        "    \n",
        "    # If the node is a leaf \n",
        "    if node.left is None and node.right is None:\n",
        "        print(space*level + str(node.key))\n",
        "        return\n",
        "    \n",
        "    # If the node has children\n",
        "    display_keys(node.right, space, level+1)\n",
        "    print(space*level + str(node.key))\n",
        "    display_keys(node.left,space, level+1)    "
      ]
    },
    {
      "cell_type": "markdown",
      "id": "international-rider",
      "metadata": {
        "id": "international-rider"
      },
      "source": [
        "Once again, the `display_keys` function users recursion to print all the keys of the left and right subtree with proper indentation.\n",
        "\n",
        "**Exercise:** Add print statements inside `display_keys` to display the arguments for each call of the function. Does the sequence of recursive calls make sense to you?\n",
        "\n",
        "Let's try using the function."
      ]
    },
    {
      "cell_type": "code",
      "execution_count": 62,
      "id": "rental-junction",
      "metadata": {
        "colab": {
          "base_uri": "https://localhost:8080/"
        },
        "id": "rental-junction",
        "outputId": "462cd1a1-1c51-4249-bdd9-36e90a172031"
      },
      "outputs": [
        {
          "output_type": "stream",
          "name": "stdout",
          "text": [
            "      8\n",
            "    7\n",
            "      6\n",
            "  5\n",
            "      4\n",
            "    3\n",
            "      ∅\n",
            "2\n",
            "    ∅\n",
            "  3\n",
            "    1\n"
          ]
        }
      ],
      "source": [
        "display_keys(tree2, '  ')"
      ]
    },
    {
      "cell_type": "markdown",
      "id": "continuing-modification",
      "metadata": {
        "id": "continuing-modification"
      },
      "source": [
        "We can now visualize the tree that was just created (albeit rotated by 90 degrees). It's easy to see that it matches the expected structure.\n",
        "\n",
        "<img src=\"https://i.imgur.com/d7djJAf.png\" width=\"540\">\n",
        "\n",
        "**Exercise**: Create some more trees and visualize them using `display_keys`. You can use [excalidraw.com](https://excalidraw.com) as a digital whiteboard to create trees."
      ]
    },
    {
      "cell_type": "code",
      "execution_count": 62,
      "id": "ethical-hazard",
      "metadata": {
        "id": "ethical-hazard"
      },
      "outputs": [],
      "source": []
    },
    {
      "cell_type": "code",
      "execution_count": 62,
      "id": "pleased-hindu",
      "metadata": {
        "id": "pleased-hindu"
      },
      "outputs": [],
      "source": []
    },
    {
      "cell_type": "markdown",
      "id": "rocky-collar",
      "metadata": {
        "id": "rocky-collar"
      },
      "source": [
        "## Traversing a Binary Tree\n",
        "\n",
        "The following questions are frequently asked in coding interviews and assessments:\n",
        "\n",
        "> **QUESTION 3**: Write a function to perform the _inorder_ traversal of a binary tree.\n",
        "\n",
        "> **QUESTION 4**: Write a function to perform the _preorder_ traversal of a binary tree.\n",
        "\n",
        "> **QUESTION 5**: Write a function to perform the _postorder_ traversal of a binary tree.\n",
        "\n",
        "A *traversal* refers to the process of visiting each node of a tree exactly once. _Visiting a node_ generally refers to adding the node's key to a list. There are three ways to traverse a binary tree and return the list of visited keys: \n",
        "\n",
        "### Inorder traversal\n",
        "\n",
        "\n",
        "\n",
        "  1. Traverse the left subtree recursively inorder.\n",
        "  2. Traverse the current node.\n",
        "  3. Traverse the right subtree recursively inorder.\n",
        "\n",
        "\n",
        "<img src=\"https://i.imgur.com/KCXpMA9.png\" width=\"540\">\n",
        "\n",
        "\n",
        "### Preorder traversal\n",
        "\n",
        "  1. Traverse the current node.\n",
        "  2. Traverse the left subtree recursively preorder.\n",
        "  3. Traverse the right subtree recursively preorder.\n",
        "  \n",
        "<img src=\"https://i.imgur.com/2xrMUWP.png\" width=\"540\">\n",
        "\n",
        "\n",
        "Can you guess how **postorder** traversal works??\n",
        "\n",
        "\n",
        "Here's an implementation of inorder traversal of a binary tree."
      ]
    },
    {
      "cell_type": "code",
      "execution_count": 63,
      "id": "vanilla-capability",
      "metadata": {
        "id": "vanilla-capability"
      },
      "outputs": [],
      "source": [
        "def traverse_in_order(node):\n",
        "    if node is None: \n",
        "        return []\n",
        "    return(traverse_in_order(node.left) + \n",
        "           [node.key] + \n",
        "           traverse_in_order(node.right))"
      ]
    },
    {
      "cell_type": "markdown",
      "id": "chicken-benchmark",
      "metadata": {
        "id": "chicken-benchmark"
      },
      "source": [
        "Let's try it out with this tree:\n",
        "\n",
        "<img src=\"https://i.imgur.com/d7djJAf.png\" width=\"540\">"
      ]
    },
    {
      "cell_type": "code",
      "execution_count": 64,
      "id": "natural-nashville",
      "metadata": {
        "id": "natural-nashville",
        "colab": {
          "base_uri": "https://localhost:8080/"
        },
        "outputId": "85de01ac-e0b3-4370-88ff-5a91a4789174"
      },
      "outputs": [
        {
          "output_type": "stream",
          "name": "stdout",
          "text": [
            "((1, 3, None), 2, ((None, 3, 4), 5, (6, 7, 8)))\n",
            "(1, 3, None)\n",
            "1\n",
            "None\n",
            "((None, 3, 4), 5, (6, 7, 8))\n",
            "(None, 3, 4)\n",
            "None\n",
            "4\n",
            "(6, 7, 8)\n",
            "6\n",
            "8\n"
          ]
        }
      ],
      "source": [
        "tree = parse_tuple(((1,3,None), 2, ((None, 3, 4), 5, (6, 7, 8))))"
      ]
    },
    {
      "cell_type": "code",
      "execution_count": 65,
      "id": "greatest-return",
      "metadata": {
        "colab": {
          "base_uri": "https://localhost:8080/"
        },
        "id": "greatest-return",
        "outputId": "10dd6443-7525-4a53-d4f6-48195658a7af"
      },
      "outputs": [
        {
          "output_type": "stream",
          "name": "stdout",
          "text": [
            "      8\n",
            "    7\n",
            "      6\n",
            "  5\n",
            "      4\n",
            "    3\n",
            "      ∅\n",
            "2\n",
            "    ∅\n",
            "  3\n",
            "    1\n"
          ]
        }
      ],
      "source": [
        "display_keys(tree, '  ')"
      ]
    },
    {
      "cell_type": "code",
      "execution_count": 71,
      "id": "continent-twins",
      "metadata": {
        "colab": {
          "base_uri": "https://localhost:8080/"
        },
        "id": "continent-twins",
        "outputId": "b2b54a6b-96c2-4335-861f-8fc0a3a336f2"
      },
      "outputs": [
        {
          "output_type": "execute_result",
          "data": {
            "text/plain": [
              "[1, 3, 2, 3, 4, 5, 6, 7, 8]"
            ]
          },
          "metadata": {},
          "execution_count": 71
        }
      ],
      "source": [
        "traverse_in_order(tree)"
      ]
    },
    {
      "cell_type": "code",
      "source": [
        "def traverse_pre_order(node):\n",
        "    if node is None: \n",
        "        return []\n",
        "    return([node.key] + \n",
        "           traverse_pre_order(node.left) +\n",
        "           traverse_pre_order(node.right))"
      ],
      "metadata": {
        "id": "6gogqo_tM8y6"
      },
      "id": "6gogqo_tM8y6",
      "execution_count": 72,
      "outputs": []
    },
    {
      "cell_type": "code",
      "source": [
        "traverse_pre_order(tree)"
      ],
      "metadata": {
        "colab": {
          "base_uri": "https://localhost:8080/"
        },
        "id": "zIj0RehfNGBz",
        "outputId": "c31cc33c-ee64-4da8-d9d2-799125d00584"
      },
      "id": "zIj0RehfNGBz",
      "execution_count": 73,
      "outputs": [
        {
          "output_type": "execute_result",
          "data": {
            "text/plain": [
              "[2, 3, 1, 5, 3, 4, 7, 6, 8]"
            ]
          },
          "metadata": {},
          "execution_count": 73
        }
      ]
    },
    {
      "cell_type": "code",
      "source": [
        "def traverse_post_order(node):\n",
        "    if node is None:\n",
        "        return []\n",
        "\n",
        "    return traverse_post_order(node.left) + traverse_post_order(node.right) + [node.key]"
      ],
      "metadata": {
        "id": "CNFPUK8APAtt"
      },
      "id": "CNFPUK8APAtt",
      "execution_count": 74,
      "outputs": []
    },
    {
      "cell_type": "code",
      "source": [
        "traverse_post_order(tree)"
      ],
      "metadata": {
        "colab": {
          "base_uri": "https://localhost:8080/"
        },
        "id": "zOZxrkmDhsxP",
        "outputId": "e3882a85-ac8f-400b-9e12-1d49680f8fe6"
      },
      "id": "zOZxrkmDhsxP",
      "execution_count": 75,
      "outputs": [
        {
          "output_type": "execute_result",
          "data": {
            "text/plain": [
              "[1, 3, 4, 3, 6, 8, 7, 5, 2]"
            ]
          },
          "metadata": {},
          "execution_count": 75
        }
      ]
    },
    {
      "cell_type": "markdown",
      "id": "dirty-street",
      "metadata": {
        "id": "dirty-street"
      },
      "source": [
        "\n",
        "**Exercise:** Implement functions for preorder and postorder traversal of a binary tree.\n",
        "\n",
        "Test your implementations by making submissions to the following problems:\n",
        "\n",
        "* https://leetcode.com/problems/binary-tree-inorder-traversal/\n",
        "* https://leetcode.com/problems/binary-tree-preorder-traversal/\n",
        "* https://leetcode.com/problems/binary-tree-postorder-traversal/"
      ]
    },
    {
      "cell_type": "code",
      "execution_count": 76,
      "id": "burning-breathing",
      "metadata": {
        "id": "burning-breathing",
        "outputId": "299a8198-b0cb-4d98-964d-cbc58f41c6fe",
        "colab": {
          "base_uri": "https://localhost:8080/"
        }
      },
      "outputs": [
        {
          "output_type": "stream",
          "name": "stdout",
          "text": [
            "[jovian] Detected Colab notebook...\u001b[0m\n",
            "[jovian] jovian.commit() is no longer required on Google Colab. If you ran this notebook from Jovian, \n",
            "then just save this file in Colab using Ctrl+S/Cmd+S and it will be updated on Jovian. \n",
            "Also, you can also delete this cell, it's no longer necessary.\u001b[0m\n"
          ]
        }
      ],
      "source": [
        "jovian.commit()"
      ]
    },
    {
      "cell_type": "markdown",
      "id": "vietnamese-difficulty",
      "metadata": {
        "id": "vietnamese-difficulty"
      },
      "source": [
        "## Height and Size of a Binary Tree\n",
        "\n",
        "\n",
        "> **QUESTION 6**: Write a function to calculate the height/depth of a binary tree\n",
        "\n",
        "> **QUESTION 7**: Write a function to count the number of nodes in a binary tree\n",
        "\n",
        "\n",
        "The _height/depth_ of a binary tree is defined as the length of the longest path from its root node to a leaf. It can be computed recursively, as follows:\n"
      ]
    },
    {
      "cell_type": "code",
      "execution_count": 81,
      "id": "occasional-supplier",
      "metadata": {
        "id": "occasional-supplier"
      },
      "outputs": [],
      "source": [
        "def tree_height(node):\n",
        "    if node is None:\n",
        "        return 0\n",
        "    return 1 + max(tree_height(node.left), tree_height(node.right))"
      ]
    },
    {
      "cell_type": "markdown",
      "id": "potential-jefferson",
      "metadata": {
        "id": "potential-jefferson"
      },
      "source": [
        "Let's compute the height of this tree:\n",
        "\n",
        "<img src=\"https://i.imgur.com/d7djJAf.png\" width=\"540\">"
      ]
    },
    {
      "cell_type": "code",
      "execution_count": 82,
      "id": "integrated-experiment",
      "metadata": {
        "id": "integrated-experiment",
        "outputId": "97029b55-7713-4543-8f04-266fe9cc8bbf",
        "colab": {
          "base_uri": "https://localhost:8080/"
        }
      },
      "outputs": [
        {
          "output_type": "execute_result",
          "data": {
            "text/plain": [
              "4"
            ]
          },
          "metadata": {},
          "execution_count": 82
        }
      ],
      "source": [
        "tree_height(tree)"
      ]
    },
    {
      "cell_type": "markdown",
      "id": "collect-official",
      "metadata": {
        "id": "collect-official"
      },
      "source": [
        "Here's a function to count the number of nodes in a binary tree."
      ]
    },
    {
      "cell_type": "code",
      "execution_count": 83,
      "id": "presidential-development",
      "metadata": {
        "id": "presidential-development"
      },
      "outputs": [],
      "source": [
        "def tree_size(node):\n",
        "    if node is None:\n",
        "        return 0\n",
        "    return 1 + tree_size(node.left) + tree_size(node.right)"
      ]
    },
    {
      "cell_type": "code",
      "execution_count": 84,
      "id": "significant-cheat",
      "metadata": {
        "id": "significant-cheat",
        "outputId": "277b5de8-af6c-4b37-8cbf-4b70c0ea738b",
        "colab": {
          "base_uri": "https://localhost:8080/"
        }
      },
      "outputs": [
        {
          "output_type": "execute_result",
          "data": {
            "text/plain": [
              "9"
            ]
          },
          "metadata": {},
          "execution_count": 84
        }
      ],
      "source": [
        "\n",
        "tree_size(tree)"
      ]
    },
    {
      "cell_type": "markdown",
      "id": "substantial-electricity",
      "metadata": {
        "id": "substantial-electricity"
      },
      "source": [
        "**Exercise:** Try solving these problems relating to path lengths in a binary tree:\n",
        "\n",
        "* https://leetcode.com/problems/maximum-depth-of-binary-tree/\n",
        "* https://leetcode.com/problems/minimum-depth-of-binary-tree/\n",
        "* https://leetcode.com/problems/diameter-of-binary-tree/"
      ]
    },
    {
      "cell_type": "markdown",
      "id": "painted-auditor",
      "metadata": {
        "id": "painted-auditor"
      },
      "source": [
        "As a final step, let's compile all the functions we've written so far as methods withing the `TreeNode` class itself. Encapsulation of data and functionality within the same class is a good programming practice."
      ]
    },
    {
      "cell_type": "code",
      "execution_count": 92,
      "id": "secret-macintosh",
      "metadata": {
        "id": "secret-macintosh"
      },
      "outputs": [],
      "source": [
        "class TreeNode():\n",
        "    def __init__(self, key):\n",
        "        self.key, self.left, self.right = key, None, None\n",
        "    \n",
        "    def height(self):\n",
        "        if self is None:\n",
        "            return 0\n",
        "        return 1 + max(TreeNode.height(self.left), TreeNode.height(self.right))\n",
        "    \n",
        "    def size(self):\n",
        "        if self is None:\n",
        "            return 0\n",
        "        return 1 + TreeNode.size(self.left) + TreeNode.size(self.right)\n",
        "\n",
        "    def traverse_in_order(self):\n",
        "        if self is None: \n",
        "            return []\n",
        "        return (TreeNode.traverse_in_order(self.left) + \n",
        "                [self.key] + \n",
        "                TreeNode.traverse_in_order(self.right))\n",
        "    \n",
        "    def display_keys(self, space='\\t', level=0):\n",
        "        # If the node is empty\n",
        "        if self is None:\n",
        "            print(space*level + '∅')\n",
        "            return   \n",
        "\n",
        "        # If the node is a leaf \n",
        "        if self.left is None and self.right is None:\n",
        "            print(space*level + str(self.key))\n",
        "            return\n",
        "\n",
        "        # If the node has children\n",
        "        display_keys(self.right, space, level+1)\n",
        "        print(space*level + str(self.key))\n",
        "        display_keys(self.left,space, level+1)    \n",
        "    \n",
        "    def to_tuple(self):\n",
        "        if self is None:\n",
        "            return None\n",
        "        if self.left is None and self.right is None:\n",
        "            return self.key\n",
        "        return TreeNode.to_tuple(self.left),  self.key, TreeNode.to_tuple(self.right)\n",
        "    \n",
        "    def __str__(self):\n",
        "        return \"BinaryTree <{}>\".format(self.to_tuple())\n",
        "    \n",
        "    def __repr__(self):\n",
        "        return \"BinaryTree <{}>\".format(self.to_tuple())\n",
        "    \n",
        "    @staticmethod    \n",
        "    def parse_tuple(data):\n",
        "        if data is None:\n",
        "            node = None\n",
        "        elif isinstance(data, tuple) and len(data) == 3:\n",
        "            node = TreeNode(data[1])\n",
        "            node.left = TreeNode.parse_tuple(data[0])\n",
        "            node.right = TreeNode.parse_tuple(data[2])\n",
        "        else:\n",
        "            node = TreeNode(data)\n",
        "        return node"
      ]
    },
    {
      "cell_type": "markdown",
      "id": "consolidated-language",
      "metadata": {
        "id": "consolidated-language"
      },
      "source": [
        "The class method invocations `TreeNode.height(node)` and `node.height()` are equivalent. Can you guess why we're using the former in the function definitions above? Hint: Track the recursive calls. Discuss on the forum: https://jovian.ai/forum/c/data-structures-and-algorithms-in-python/lesson-2/82\n",
        "\n",
        "Let's try out the various methods defined above for this tree:\n",
        "\n",
        "<img src=\"https://i.imgur.com/d7djJAf.png\" width=\"540\">"
      ]
    },
    {
      "cell_type": "code",
      "execution_count": 93,
      "id": "failing-chrome",
      "metadata": {
        "id": "failing-chrome",
        "outputId": "64b72308-b63f-4a3b-c339-c6c617332ce6",
        "colab": {
          "base_uri": "https://localhost:8080/"
        }
      },
      "outputs": [
        {
          "output_type": "execute_result",
          "data": {
            "text/plain": [
              "((1, 3, None), 2, ((None, 3, 4), 5, (6, 7, 8)))"
            ]
          },
          "metadata": {},
          "execution_count": 93
        }
      ],
      "source": [
        "tree_tuple"
      ]
    },
    {
      "cell_type": "code",
      "execution_count": 94,
      "id": "extreme-filling",
      "metadata": {
        "id": "extreme-filling"
      },
      "outputs": [],
      "source": [
        "tree = TreeNode.parse_tuple(tree_tuple)"
      ]
    },
    {
      "cell_type": "code",
      "execution_count": 95,
      "id": "dynamic-satellite",
      "metadata": {
        "id": "dynamic-satellite",
        "outputId": "abc739f9-a506-4fa8-b9d2-653e007771c4",
        "colab": {
          "base_uri": "https://localhost:8080/"
        }
      },
      "outputs": [
        {
          "output_type": "execute_result",
          "data": {
            "text/plain": [
              "BinaryTree <((1, 3, None), 2, ((None, 3, 4), 5, (6, 7, 8)))>"
            ]
          },
          "metadata": {},
          "execution_count": 95
        }
      ],
      "source": [
        "tree"
      ]
    },
    {
      "cell_type": "code",
      "execution_count": 96,
      "id": "engaging-neutral",
      "metadata": {
        "id": "engaging-neutral",
        "outputId": "394da8be-9218-41df-be59-bbf90cd3ded6",
        "colab": {
          "base_uri": "https://localhost:8080/"
        }
      },
      "outputs": [
        {
          "output_type": "stream",
          "name": "stdout",
          "text": [
            "      8\n",
            "    7\n",
            "      6\n",
            "  5\n",
            "      4\n",
            "    3\n",
            "      ∅\n",
            "2\n",
            "    ∅\n",
            "  3\n",
            "    1\n"
          ]
        }
      ],
      "source": [
        "tree.display_keys('  ')"
      ]
    },
    {
      "cell_type": "code",
      "execution_count": 97,
      "id": "signal-decimal",
      "metadata": {
        "id": "signal-decimal",
        "outputId": "5f99f391-9d41-4118-e91f-4dfe5f48887d",
        "colab": {
          "base_uri": "https://localhost:8080/"
        }
      },
      "outputs": [
        {
          "output_type": "execute_result",
          "data": {
            "text/plain": [
              "4"
            ]
          },
          "metadata": {},
          "execution_count": 97
        }
      ],
      "source": [
        "tree.height()"
      ]
    },
    {
      "cell_type": "code",
      "execution_count": 98,
      "id": "chinese-swimming",
      "metadata": {
        "id": "chinese-swimming",
        "outputId": "1d8d9590-8a99-4360-f24a-61ecfdb963df",
        "colab": {
          "base_uri": "https://localhost:8080/"
        }
      },
      "outputs": [
        {
          "output_type": "execute_result",
          "data": {
            "text/plain": [
              "9"
            ]
          },
          "metadata": {},
          "execution_count": 98
        }
      ],
      "source": [
        "tree.size()"
      ]
    },
    {
      "cell_type": "code",
      "execution_count": 99,
      "id": "hearing-network",
      "metadata": {
        "id": "hearing-network",
        "outputId": "d00c4939-c64c-4bb0-8080-65d4752c1f54",
        "colab": {
          "base_uri": "https://localhost:8080/"
        }
      },
      "outputs": [
        {
          "output_type": "execute_result",
          "data": {
            "text/plain": [
              "[1, 3, 2, 3, 4, 5, 6, 7, 8]"
            ]
          },
          "metadata": {},
          "execution_count": 99
        }
      ],
      "source": [
        "tree.traverse_in_order()"
      ]
    },
    {
      "cell_type": "code",
      "execution_count": 100,
      "id": "protected-vermont",
      "metadata": {
        "id": "protected-vermont",
        "outputId": "dd7bf102-258b-4038-ddbb-d7aa364b2b7a",
        "colab": {
          "base_uri": "https://localhost:8080/"
        }
      },
      "outputs": [
        {
          "output_type": "execute_result",
          "data": {
            "text/plain": [
              "((1, 3, None), 2, ((None, 3, 4), 5, (6, 7, 8)))"
            ]
          },
          "metadata": {},
          "execution_count": 100
        }
      ],
      "source": [
        "tree.to_tuple()"
      ]
    },
    {
      "cell_type": "markdown",
      "id": "secondary-potter",
      "metadata": {
        "id": "secondary-potter"
      },
      "source": [
        "**Exercise:** Create some more trees and try out the operations defined above. Add more operations to the `TreeNode` class."
      ]
    },
    {
      "cell_type": "code",
      "execution_count": null,
      "id": "respiratory-invalid",
      "metadata": {
        "id": "respiratory-invalid"
      },
      "outputs": [],
      "source": []
    },
    {
      "cell_type": "code",
      "execution_count": null,
      "id": "higher-table",
      "metadata": {
        "id": "higher-table"
      },
      "outputs": [],
      "source": []
    },
    {
      "cell_type": "code",
      "execution_count": null,
      "id": "turkish-memorabilia",
      "metadata": {
        "id": "turkish-memorabilia"
      },
      "outputs": [],
      "source": []
    },
    {
      "cell_type": "markdown",
      "id": "dangerous-sweet",
      "metadata": {
        "id": "dangerous-sweet"
      },
      "source": [
        "## Binary Search Tree (BST)\n",
        "\n",
        "A binary search tree or BST is a binary tree that satisfies the following conditions:\n",
        "\n",
        "1. The left subtree of any node only contains nodes with keys less than the node's key\n",
        "2. The right subtree of any node only contains nodes with keys greater than the node's key\n",
        "\n",
        "It follows from the above conditions that every subtree of a binary search tree must also be a binary search tree.\n",
        "\n",
        "\n",
        "> **QUESTION 8**: Write a function to check if a binary tree is a binary search tree (BST).\n",
        "\n",
        "> **QUESTION 9**: Write a function to find the maximum key in a binary tree.\n",
        "\n",
        "> **QUESTION 10**: Write a function to find the minimum key in a binary tree.\n",
        "\n",
        "\n",
        "Here's a function that covers all of the above:"
      ]
    },
    {
      "cell_type": "code",
      "execution_count": 101,
      "id": "silver-credit",
      "metadata": {
        "id": "silver-credit"
      },
      "outputs": [],
      "source": [
        "def remove_none(nums):\n",
        "    return [x for x in nums if x is not None]\n",
        "\n",
        "def is_bst(node):\n",
        "    if node is None:\n",
        "        return True, None, None\n",
        "    \n",
        "    is_bst_l, min_l, max_l = is_bst(node.left)\n",
        "    is_bst_r, min_r, max_r = is_bst(node.right)\n",
        "    \n",
        "    is_bst_node = (is_bst_l and is_bst_r and \n",
        "              (max_l is None or node.key > max_l) and \n",
        "              (min_r is None or node.key < min_r))\n",
        "    \n",
        "    min_key = min(remove_none([min_l, node.key, min_r]))\n",
        "    max_key = max(remove_none([max_l, node.key, max_r]))\n",
        "    \n",
        "    # print(node.key, min_key, max_key, is_bst_node)\n",
        "        \n",
        "    return is_bst_node, min_key, max_key"
      ]
    },
    {
      "cell_type": "markdown",
      "id": "consistent-concentrate",
      "metadata": {
        "id": "consistent-concentrate"
      },
      "source": [
        "The following tree is not a BST (because a node with the key 3 appears in the left subtree of a node with the key 2):\n",
        "\n",
        "<img src=\"https://i.imgur.com/d7djJAf.png\" width=\"540\">\n",
        "\n",
        "Let's verify this using `is_bst`."
      ]
    },
    {
      "cell_type": "code",
      "execution_count": 102,
      "id": "dying-rates",
      "metadata": {
        "id": "dying-rates"
      },
      "outputs": [],
      "source": [
        "tree1 = TreeNode.parse_tuple(((1, 3, None), 2, ((None, 3, 4), 5, (6, 7, 8))))"
      ]
    },
    {
      "cell_type": "code",
      "execution_count": 103,
      "id": "innocent-triumph",
      "metadata": {
        "id": "innocent-triumph",
        "outputId": "8174eead-b7c6-41f0-cd17-efbeadee0b48",
        "colab": {
          "base_uri": "https://localhost:8080/"
        }
      },
      "outputs": [
        {
          "output_type": "execute_result",
          "data": {
            "text/plain": [
              "(False, 1, 8)"
            ]
          },
          "metadata": {},
          "execution_count": 103
        }
      ],
      "source": [
        "is_bst(tree1)"
      ]
    },
    {
      "cell_type": "markdown",
      "id": "polish-offering",
      "metadata": {
        "id": "polish-offering"
      },
      "source": [
        "On the other hand, the following tree is a BST:\n",
        "\n",
        "<img src=\"https://i.imgur.com/JZeF9ix.png\" width=\"520\">\n",
        "\n",
        "Let's create this tree and verify that it is a BST. Note that the `TreeNode` class also supports using strings as keys, as strings support the comparison operators `<` and `>` too."
      ]
    },
    {
      "cell_type": "code",
      "execution_count": 104,
      "id": "about-kenya",
      "metadata": {
        "id": "about-kenya"
      },
      "outputs": [],
      "source": [
        "tree2 = TreeNode.parse_tuple((('aakash', 'biraj', 'hemanth')  , 'jadhesh', ('siddhant', 'sonaksh', 'vishal')))"
      ]
    },
    {
      "cell_type": "code",
      "execution_count": 105,
      "id": "german-volleyball",
      "metadata": {
        "id": "german-volleyball",
        "outputId": "1b32c84f-d70a-4450-8d91-be9c70ab720f",
        "colab": {
          "base_uri": "https://localhost:8080/"
        }
      },
      "outputs": [
        {
          "output_type": "execute_result",
          "data": {
            "text/plain": [
              "(True, 'aakash', 'vishal')"
            ]
          },
          "metadata": {},
          "execution_count": 105
        }
      ],
      "source": [
        "is_bst(tree2)"
      ]
    },
    {
      "cell_type": "markdown",
      "id": "strategic-incentive",
      "metadata": {
        "id": "strategic-incentive"
      },
      "source": [
        "**Exercise:** Test the `is_bst` function with some more examples using the empty cells below."
      ]
    },
    {
      "cell_type": "code",
      "execution_count": 105,
      "id": "frank-jonathan",
      "metadata": {
        "id": "frank-jonathan"
      },
      "outputs": [],
      "source": []
    },
    {
      "cell_type": "code",
      "execution_count": 105,
      "id": "auburn-delaware",
      "metadata": {
        "id": "auburn-delaware"
      },
      "outputs": [],
      "source": []
    },
    {
      "cell_type": "markdown",
      "id": "adjustable-upper",
      "metadata": {
        "id": "adjustable-upper"
      },
      "source": [
        "## Storing Key-Value Pairs using BSTs\n",
        "\n",
        "Recall that we need to store user objects with each key in our BST. Let's define new class `BSTNode` to represent the nodes of of our tree. Apart from having properties `key`, `left` and `right`, we'll also store a `value` and pointer to the parent node (for easier upward traversal)."
      ]
    },
    {
      "cell_type": "code",
      "execution_count": 106,
      "id": "polish-maker",
      "metadata": {
        "id": "polish-maker"
      },
      "outputs": [],
      "source": [
        "class BSTNode():\n",
        "    def __init__(self, key, value=None):\n",
        "        self.key = key\n",
        "        self.value = value\n",
        "        self.left = None\n",
        "        self.right = None\n",
        "        self.parent = None"
      ]
    },
    {
      "cell_type": "markdown",
      "id": "literary-effect",
      "metadata": {
        "id": "literary-effect"
      },
      "source": [
        "Let's try to recreate this BST with usernames as keys and user objects as values:\n",
        "\n",
        "<img src=\"https://i.imgur.com/JZeF9ix.png\" width=\"520\">"
      ]
    },
    {
      "cell_type": "code",
      "execution_count": 107,
      "id": "theoretical-cleaner",
      "metadata": {
        "id": "theoretical-cleaner"
      },
      "outputs": [],
      "source": [
        "# Level 0\n",
        "tree = BSTNode(jadhesh.username, jadhesh)"
      ]
    },
    {
      "cell_type": "code",
      "execution_count": 108,
      "id": "homeless-welsh",
      "metadata": {
        "id": "homeless-welsh",
        "outputId": "6637ccc7-22a7-4337-9726-014aa5733ac0",
        "colab": {
          "base_uri": "https://localhost:8080/"
        }
      },
      "outputs": [
        {
          "output_type": "execute_result",
          "data": {
            "text/plain": [
              "('jadhesh',\n",
              " User(username='jadhesh', name='Jadhesh Verma', email='jadhesh@example.com'))"
            ]
          },
          "metadata": {},
          "execution_count": 108
        }
      ],
      "source": [
        "# View Level 0\n",
        "tree.key, tree.value"
      ]
    },
    {
      "cell_type": "code",
      "execution_count": 109,
      "id": "alternate-antenna",
      "metadata": {
        "id": "alternate-antenna"
      },
      "outputs": [],
      "source": [
        "# Level 1\n",
        "tree.left = BSTNode(biraj.username, biraj)\n",
        "tree.right = BSTNode(sonaksh.username, sonaksh)"
      ]
    },
    {
      "cell_type": "code",
      "execution_count": 110,
      "id": "assured-czech",
      "metadata": {
        "id": "assured-czech",
        "outputId": "59d7a6b8-f88f-46ad-cc9a-4707613de0e5",
        "colab": {
          "base_uri": "https://localhost:8080/"
        }
      },
      "outputs": [
        {
          "output_type": "execute_result",
          "data": {
            "text/plain": [
              "('biraj',\n",
              " User(username='biraj', name='Biraj Das', email='biraj@example.com'),\n",
              " 'sonaksh',\n",
              " User(username='sonaksh', name='Sonaksh Kumar', email='sonaksh@example.com'))"
            ]
          },
          "metadata": {},
          "execution_count": 110
        }
      ],
      "source": [
        "# View Level 1\n",
        "tree.left.key, tree.left.value, tree.right.key, tree.right.value"
      ]
    },
    {
      "cell_type": "markdown",
      "id": "sporting-youth",
      "metadata": {
        "id": "sporting-youth"
      },
      "source": [
        "**Exercise:** Add the next layer of nodes to the tree and verify that they were added properly."
      ]
    },
    {
      "cell_type": "code",
      "execution_count": null,
      "id": "classical-trigger",
      "metadata": {
        "id": "classical-trigger"
      },
      "outputs": [],
      "source": []
    },
    {
      "cell_type": "code",
      "execution_count": null,
      "id": "common-cruise",
      "metadata": {
        "id": "common-cruise"
      },
      "outputs": [],
      "source": []
    },
    {
      "cell_type": "markdown",
      "id": "drawn-coverage",
      "metadata": {
        "id": "drawn-coverage"
      },
      "source": [
        "We can use the same `display_keys` function we defined earlier to visualize our tree."
      ]
    },
    {
      "cell_type": "code",
      "execution_count": 111,
      "id": "living-therapist",
      "metadata": {
        "id": "living-therapist",
        "outputId": "194eba87-fd60-47b1-fed2-3e52ca8c0891",
        "colab": {
          "base_uri": "https://localhost:8080/"
        }
      },
      "outputs": [
        {
          "output_type": "stream",
          "name": "stdout",
          "text": [
            "\tsonaksh\n",
            "jadhesh\n",
            "\tbiraj\n"
          ]
        }
      ],
      "source": [
        "display_keys(tree)"
      ]
    },
    {
      "cell_type": "markdown",
      "id": "latin-discharge",
      "metadata": {
        "id": "latin-discharge"
      },
      "source": [
        "### Insertion into BST\n",
        "\n",
        "\n",
        "> **QUESTION 11**: Write a function to insert a new node into a BST.\n",
        "\n",
        "\n",
        "We use the BST-property to perform insertion efficiently: \n",
        "\n",
        "1. Starting from the root node, we compare the key to be inserted with the current node's key\n",
        "2. If the key is smaller, we recursively insert it in the left subtree (if it exists) or attach it as as the left child if no left subtree exists.\n",
        "3. If the key is larger, we recursively insert it in the right subtree (if it exists) or attach it as as the right child if no right subtree exists.\n",
        "\n",
        "Here's a recursive implementation of `insert`."
      ]
    },
    {
      "cell_type": "code",
      "execution_count": 112,
      "id": "technical-parks",
      "metadata": {
        "id": "technical-parks"
      },
      "outputs": [],
      "source": [
        "def insert(node, key, value):\n",
        "    if node is None:\n",
        "        node = BSTNode(key, value)\n",
        "    elif key < node.key:\n",
        "        node.left = insert(node.left, key, value)\n",
        "        node.left.parent = node\n",
        "    elif key > node.key:\n",
        "        node.right = insert(node.right, key, value)\n",
        "        node.right.parent = node\n",
        "    return node"
      ]
    },
    {
      "cell_type": "markdown",
      "id": "registered-cocktail",
      "metadata": {
        "id": "registered-cocktail"
      },
      "source": [
        "Let's use this to recreate our tree.\n",
        "\n",
        "<img src=\"https://i.imgur.com/JZeF9ix.png\" width=\"520\">\n",
        "\n",
        "To create the first node, we can use the `insert` function with `None` as the target tree."
      ]
    },
    {
      "cell_type": "code",
      "execution_count": 113,
      "id": "skilled-quantum",
      "metadata": {
        "id": "skilled-quantum"
      },
      "outputs": [],
      "source": [
        "tree = insert(None, jadhesh.username, jadhesh)"
      ]
    },
    {
      "cell_type": "markdown",
      "id": "authorized-beijing",
      "metadata": {
        "id": "authorized-beijing"
      },
      "source": [
        "The remaining nodes can now be inserted into `tree`."
      ]
    },
    {
      "cell_type": "code",
      "execution_count": 114,
      "id": "egyptian-category",
      "metadata": {
        "id": "egyptian-category",
        "outputId": "c111dfb1-ea6d-4319-91e1-16b79561a989",
        "colab": {
          "base_uri": "https://localhost:8080/"
        }
      },
      "outputs": [
        {
          "output_type": "execute_result",
          "data": {
            "text/plain": [
              "<__main__.BSTNode at 0x7fd854b1e200>"
            ]
          },
          "metadata": {},
          "execution_count": 114
        }
      ],
      "source": [
        "insert(tree, biraj.username, biraj)\n",
        "insert(tree, sonaksh.username, sonaksh)\n",
        "insert(tree, aakash.username, aakash)\n",
        "insert(tree, hemanth.username, hemanth)\n",
        "insert(tree, siddhant.username, siddhant)\n",
        "insert(tree, vishal.username, siddhant)"
      ]
    },
    {
      "cell_type": "code",
      "execution_count": 115,
      "id": "romance-sullivan",
      "metadata": {
        "id": "romance-sullivan",
        "outputId": "22537ba1-671e-421a-99f2-725975f3406c",
        "colab": {
          "base_uri": "https://localhost:8080/"
        }
      },
      "outputs": [
        {
          "output_type": "stream",
          "name": "stdout",
          "text": [
            "\t\tvishal\n",
            "\tsonaksh\n",
            "\t\tsiddhant\n",
            "jadhesh\n",
            "\t\themanth\n",
            "\tbiraj\n",
            "\t\taakash\n"
          ]
        }
      ],
      "source": [
        "display_keys(tree)"
      ]
    },
    {
      "cell_type": "markdown",
      "id": "inappropriate-stream",
      "metadata": {
        "id": "inappropriate-stream"
      },
      "source": [
        "Perfect! The tree was created as expected. \n",
        "\n",
        "Note, however, that the order of insertion of nodes change the structure of the resulting tree."
      ]
    },
    {
      "cell_type": "code",
      "execution_count": 116,
      "id": "martial-batch",
      "metadata": {
        "id": "martial-batch",
        "outputId": "c1e7907b-d685-48d0-8cb1-d3ca9da4244a",
        "colab": {
          "base_uri": "https://localhost:8080/"
        }
      },
      "outputs": [
        {
          "output_type": "execute_result",
          "data": {
            "text/plain": [
              "<__main__.BSTNode at 0x7fd854b1d4b0>"
            ]
          },
          "metadata": {},
          "execution_count": 116
        }
      ],
      "source": [
        "tree2 = insert(None, aakash.username, aakash)\n",
        "insert(tree2, biraj.username, biraj)\n",
        "insert(tree2, hemanth.username, hemanth)\n",
        "insert(tree2, jadhesh.username, jadhesh)\n",
        "insert(tree2, siddhant.username, siddhant)\n",
        "insert(tree2, sonaksh.username, sonaksh)\n",
        "insert(tree2, vishal.username, vishal)"
      ]
    },
    {
      "cell_type": "code",
      "execution_count": 117,
      "id": "julian-scholarship",
      "metadata": {
        "id": "julian-scholarship",
        "outputId": "efced4f6-5d31-490d-9fda-0bf28206146f",
        "colab": {
          "base_uri": "https://localhost:8080/"
        }
      },
      "outputs": [
        {
          "output_type": "stream",
          "name": "stdout",
          "text": [
            "\t\t\t\t\t\tvishal\n",
            "\t\t\t\t\tsonaksh\n",
            "\t\t\t\t\t\t∅\n",
            "\t\t\t\tsiddhant\n",
            "\t\t\t\t\t∅\n",
            "\t\t\tjadhesh\n",
            "\t\t\t\t∅\n",
            "\t\themanth\n",
            "\t\t\t∅\n",
            "\tbiraj\n",
            "\t\t∅\n",
            "aakash\n",
            "\t∅\n"
          ]
        }
      ],
      "source": [
        "display_keys(tree2)"
      ]
    },
    {
      "cell_type": "markdown",
      "id": "enormous-block",
      "metadata": {
        "id": "enormous-block"
      },
      "source": [
        "Can you see why the tree created above is skewed/unbalanced?\n",
        "\n",
        "<img src=\"https://i.imgur.com/lP5Thct.png\" width=\"520\">\n",
        "\n",
        "Skewed/unbalanced BSTs are problematic because the height of such trees often ceases to logarithmic compared to the number of nodes in the tree. For instance the above tree has 7 nodes and height 7.\n",
        "\n",
        "The length of the path traversed by `insert` is equal to the height of the tree (in the worst case). It follows that if the tree is balanced, the time complexity of insertion is `O(log N)` otherwise it is `O(N)`."
      ]
    },
    {
      "cell_type": "code",
      "execution_count": 118,
      "id": "changing-trunk",
      "metadata": {
        "id": "changing-trunk",
        "outputId": "add2ba31-e858-4bdb-fa32-6da67562c163",
        "colab": {
          "base_uri": "https://localhost:8080/"
        }
      },
      "outputs": [
        {
          "output_type": "execute_result",
          "data": {
            "text/plain": [
              "7"
            ]
          },
          "metadata": {},
          "execution_count": 118
        }
      ],
      "source": [
        "tree_height(tree2)"
      ]
    },
    {
      "cell_type": "markdown",
      "id": "received-charles",
      "metadata": {
        "id": "received-charles"
      },
      "source": [
        "**Exercise:** Create some more balanced and unbalanced BSTs using the `insert` function defined above."
      ]
    },
    {
      "cell_type": "code",
      "execution_count": null,
      "id": "conventional-title",
      "metadata": {
        "id": "conventional-title"
      },
      "outputs": [],
      "source": []
    },
    {
      "cell_type": "code",
      "execution_count": null,
      "id": "forward-function",
      "metadata": {
        "id": "forward-function"
      },
      "outputs": [],
      "source": []
    },
    {
      "cell_type": "markdown",
      "id": "affecting-hormone",
      "metadata": {
        "id": "affecting-hormone"
      },
      "source": [
        "### Finding a Node in BST\n",
        "\n",
        "> **QUESTION 11**: Find the value associated with a given key in a BST.\n",
        "\n",
        "We can follow a recursive strategy similar to insertion to find the node with a given key within a BST."
      ]
    },
    {
      "cell_type": "code",
      "execution_count": 119,
      "id": "bizarre-concentrate",
      "metadata": {
        "id": "bizarre-concentrate"
      },
      "outputs": [],
      "source": [
        "def find(node, key):\n",
        "    if node is None:\n",
        "        return None\n",
        "    if key == node.key:\n",
        "        return node\n",
        "    if key < node.key:\n",
        "        return find(node.left, key)\n",
        "    if key > node.key:\n",
        "        return find(node.right, key)"
      ]
    },
    {
      "cell_type": "markdown",
      "id": "governmental-chocolate",
      "metadata": {
        "id": "governmental-chocolate"
      },
      "source": [
        "<img src=\"https://i.imgur.com/dzDszlw.png\" width=\"520\">"
      ]
    },
    {
      "cell_type": "code",
      "execution_count": 120,
      "id": "chemical-switzerland",
      "metadata": {
        "id": "chemical-switzerland"
      },
      "outputs": [],
      "source": [
        "node = find(tree, 'hemanth')"
      ]
    },
    {
      "cell_type": "code",
      "execution_count": 121,
      "id": "adjacent-advisory",
      "metadata": {
        "id": "adjacent-advisory",
        "outputId": "051fe114-133a-4579-e3ba-b32d351ed786",
        "colab": {
          "base_uri": "https://localhost:8080/"
        }
      },
      "outputs": [
        {
          "output_type": "execute_result",
          "data": {
            "text/plain": [
              "('hemanth',\n",
              " User(username='hemanth', name='Hemanth Jain', email='hemanth@example.com'))"
            ]
          },
          "metadata": {},
          "execution_count": 121
        }
      ],
      "source": [
        "node.key, node.value"
      ]
    },
    {
      "cell_type": "markdown",
      "id": "gentle-bosnia",
      "metadata": {
        "id": "gentle-bosnia"
      },
      "source": [
        "The the length of the path followed by `find` is equal to the height of the tree (in the worst case). Thus it has a similar time complexity as `insert`.\n",
        "\n",
        "**Example:** Try finding some more nodes from the BST created above (or create new trees)."
      ]
    },
    {
      "cell_type": "code",
      "execution_count": 121,
      "id": "generic-verification",
      "metadata": {
        "id": "generic-verification"
      },
      "outputs": [],
      "source": []
    },
    {
      "cell_type": "code",
      "execution_count": 121,
      "id": "usual-april",
      "metadata": {
        "id": "usual-april"
      },
      "outputs": [],
      "source": []
    },
    {
      "cell_type": "markdown",
      "id": "fuzzy-general",
      "metadata": {
        "id": "fuzzy-general"
      },
      "source": [
        "### Updating a value in a BST\n",
        "\n",
        "> **QUESTION 12:** Write a function to update the value associated with a given key within a BST\n",
        "\n",
        "We can use `find` to locate the node to be updated, and simply update it's value."
      ]
    },
    {
      "cell_type": "code",
      "execution_count": 122,
      "id": "unlikely-geneva",
      "metadata": {
        "id": "unlikely-geneva"
      },
      "outputs": [],
      "source": [
        "def update(node, key, value):\n",
        "    target = find(node, key)\n",
        "    if target is not None:\n",
        "        target.value = value"
      ]
    },
    {
      "cell_type": "code",
      "execution_count": 123,
      "id": "requested-medicine",
      "metadata": {
        "id": "requested-medicine"
      },
      "outputs": [],
      "source": [
        "update(tree, 'hemanth', User('hemanth', 'Hemanth J', 'hemanthj@example.com'))"
      ]
    },
    {
      "cell_type": "code",
      "execution_count": 124,
      "id": "serious-lithuania",
      "metadata": {
        "id": "serious-lithuania",
        "outputId": "ecb92226-3917-4e26-cf86-ba44817621bd",
        "colab": {
          "base_uri": "https://localhost:8080/"
        }
      },
      "outputs": [
        {
          "output_type": "execute_result",
          "data": {
            "text/plain": [
              "User(username='hemanth', name='Hemanth J', email='hemanthj@example.com')"
            ]
          },
          "metadata": {},
          "execution_count": 124
        }
      ],
      "source": [
        "node = find(tree, 'hemanth')\n",
        "node.value"
      ]
    },
    {
      "cell_type": "markdown",
      "id": "neutral-effects",
      "metadata": {
        "id": "neutral-effects"
      },
      "source": [
        "The value of the node was successfully updated. The time complexity of `update` is the same as that of `find`.\n",
        "\n",
        "**Exercise:** Try some more update operations using the BST created earlier."
      ]
    },
    {
      "cell_type": "code",
      "execution_count": null,
      "id": "utility-semiconductor",
      "metadata": {
        "id": "utility-semiconductor"
      },
      "outputs": [],
      "source": []
    },
    {
      "cell_type": "code",
      "execution_count": null,
      "id": "sweet-logging",
      "metadata": {
        "id": "sweet-logging"
      },
      "outputs": [],
      "source": []
    },
    {
      "cell_type": "markdown",
      "id": "dramatic-bleeding",
      "metadata": {
        "id": "dramatic-bleeding"
      },
      "source": [
        "### List the nodes\n",
        "\n",
        "> **QUESTION 13:** Write a function to retrieve all the key-values pairs stored in a BST in the sorted order of keys.\n",
        "\n",
        "The nodes can be listed in sorted order by performing an inorder traversal of the BST."
      ]
    },
    {
      "cell_type": "code",
      "execution_count": 125,
      "id": "independent-contrary",
      "metadata": {
        "id": "independent-contrary"
      },
      "outputs": [],
      "source": [
        "def list_all(node):\n",
        "    if node is None:\n",
        "        return []\n",
        "    return list_all(node.left) + [(node.key, node.value)] + list_all(node.right)"
      ]
    },
    {
      "cell_type": "code",
      "execution_count": 126,
      "id": "acquired-japan",
      "metadata": {
        "id": "acquired-japan",
        "outputId": "7d96e63a-9761-45f5-c6fc-407c066822d4",
        "colab": {
          "base_uri": "https://localhost:8080/"
        }
      },
      "outputs": [
        {
          "output_type": "execute_result",
          "data": {
            "text/plain": [
              "[('aakash',\n",
              "  User(username='aakash', name='Aakash Rai', email='aakash@example.com')),\n",
              " ('biraj',\n",
              "  User(username='biraj', name='Biraj Das', email='biraj@example.com')),\n",
              " ('hemanth',\n",
              "  User(username='hemanth', name='Hemanth J', email='hemanthj@example.com')),\n",
              " ('jadhesh',\n",
              "  User(username='jadhesh', name='Jadhesh Verma', email='jadhesh@example.com')),\n",
              " ('siddhant',\n",
              "  User(username='siddhant', name='Siddhant U', email='siddhantu@example.com')),\n",
              " ('sonaksh',\n",
              "  User(username='sonaksh', name='Sonaksh Kumar', email='sonaksh@example.com')),\n",
              " ('vishal',\n",
              "  User(username='siddhant', name='Siddhant U', email='siddhantu@example.com'))]"
            ]
          },
          "metadata": {},
          "execution_count": 126
        }
      ],
      "source": [
        "list_all(tree)"
      ]
    },
    {
      "cell_type": "markdown",
      "id": "traditional-disclaimer",
      "metadata": {
        "id": "traditional-disclaimer"
      },
      "source": [
        "**Exercise:** Determine the time complexity and space complexity of `list_all`."
      ]
    },
    {
      "cell_type": "code",
      "execution_count": 127,
      "id": "reliable-algorithm",
      "metadata": {
        "id": "reliable-algorithm"
      },
      "outputs": [],
      "source": [
        "import jovian"
      ]
    },
    {
      "cell_type": "code",
      "execution_count": 128,
      "id": "offensive-escape",
      "metadata": {
        "id": "offensive-escape",
        "outputId": "b35231e5-bb09-4fdf-ddc0-a00b7416b8d9",
        "colab": {
          "base_uri": "https://localhost:8080/"
        }
      },
      "outputs": [
        {
          "output_type": "stream",
          "name": "stdout",
          "text": [
            "[jovian] Detected Colab notebook...\u001b[0m\n",
            "[jovian] jovian.commit() is no longer required on Google Colab. If you ran this notebook from Jovian, \n",
            "then just save this file in Colab using Ctrl+S/Cmd+S and it will be updated on Jovian. \n",
            "Also, you can also delete this cell, it's no longer necessary.\u001b[0m\n"
          ]
        }
      ],
      "source": [
        "jovian.commit()"
      ]
    },
    {
      "cell_type": "markdown",
      "id": "constitutional-charleston",
      "metadata": {
        "id": "constitutional-charleston"
      },
      "source": [
        "## Balanced Binary Trees\n",
        "\n",
        "> **QUESTION 14**: Write a function to determine if a binary tree is balanced.\n",
        "\n",
        "Here's a recursive strategy:\n",
        "\n",
        "1. Ensure that the left subtree is balanced.\n",
        "2. Ensure that the right subtree is balanced.\n",
        "3. Ensure that the difference between heights of left subtree and right subtree is not more than 1.\n",
        "\n"
      ]
    },
    {
      "cell_type": "code",
      "execution_count": 129,
      "id": "downtown-isaac",
      "metadata": {
        "id": "downtown-isaac"
      },
      "outputs": [],
      "source": [
        "def is_balanced(node):\n",
        "    if node is None:\n",
        "        return True, 0\n",
        "    balanced_l, height_l = is_balanced(node.left)\n",
        "    balanced_r, height_r = is_balanced(node.right)\n",
        "    balanced = balanced_l and balanced_r and abs(height_l - height_r) <=1\n",
        "    height = 1 + max(height_l, height_r)\n",
        "    return balanced, height"
      ]
    },
    {
      "cell_type": "markdown",
      "id": "polar-calculator",
      "metadata": {
        "id": "polar-calculator"
      },
      "source": [
        "The following tree is balanced:\n",
        "\n",
        "<img src=\"https://i.imgur.com/JZeF9ix.png\" width=\"520\">"
      ]
    },
    {
      "cell_type": "code",
      "execution_count": 130,
      "id": "bigger-movie",
      "metadata": {
        "id": "bigger-movie",
        "outputId": "9f74d85a-9ebd-4c30-e0df-07b529ba93d7",
        "colab": {
          "base_uri": "https://localhost:8080/"
        }
      },
      "outputs": [
        {
          "output_type": "execute_result",
          "data": {
            "text/plain": [
              "(True, 3)"
            ]
          },
          "metadata": {},
          "execution_count": 130
        }
      ],
      "source": [
        "is_balanced(tree)"
      ]
    },
    {
      "cell_type": "markdown",
      "id": "institutional-board",
      "metadata": {
        "id": "institutional-board"
      },
      "source": [
        "The following tree is not balanced:\n",
        "\n",
        "<img src=\"https://i.imgur.com/lP5Thct.png\" width=\"520\">"
      ]
    },
    {
      "cell_type": "code",
      "execution_count": 131,
      "id": "coordinated-selection",
      "metadata": {
        "id": "coordinated-selection",
        "outputId": "241ba410-e957-4c50-985b-bda0bc9d186d",
        "colab": {
          "base_uri": "https://localhost:8080/"
        }
      },
      "outputs": [
        {
          "output_type": "execute_result",
          "data": {
            "text/plain": [
              "(False, 7)"
            ]
          },
          "metadata": {},
          "execution_count": 131
        }
      ],
      "source": [
        "is_balanced(tree2)"
      ]
    },
    {
      "cell_type": "markdown",
      "id": "express-steal",
      "metadata": {
        "id": "express-steal"
      },
      "source": [
        "**Exercise:** Is the tree shown below balanced? Why or why not? Create this tree and check if it's balanced using the `is_balanced` function.\n",
        "\n",
        "<img src=\"https://i.imgur.com/LlOT712.png\" width=\"520\">\n",
        "\n"
      ]
    },
    {
      "cell_type": "code",
      "execution_count": 131,
      "id": "indie-mississippi",
      "metadata": {
        "id": "indie-mississippi"
      },
      "outputs": [],
      "source": []
    },
    {
      "cell_type": "code",
      "execution_count": 131,
      "id": "prescription-light",
      "metadata": {
        "id": "prescription-light"
      },
      "outputs": [],
      "source": []
    },
    {
      "cell_type": "markdown",
      "id": "flexible-budapest",
      "metadata": {
        "id": "flexible-budapest"
      },
      "source": [
        "Also try this related problem on *complete* binary trees: https://leetcode.com/problems/check-completeness-of-a-binary-tree/\n",
        "\n"
      ]
    },
    {
      "cell_type": "markdown",
      "id": "juvenile-coating",
      "metadata": {
        "id": "juvenile-coating"
      },
      "source": [
        "## Balanced Binary Search Trees\n",
        "\n",
        "> **QUESTION 15**: Write a function to create a balanced BST from a sorted list/array of key-value pairs.\n",
        "\n",
        "We can use a recursive strategy here, turning the middle element of the list into the root, and recursively creating left and right subtrees.\n"
      ]
    },
    {
      "cell_type": "code",
      "execution_count": 132,
      "id": "equivalent-nerve",
      "metadata": {
        "id": "equivalent-nerve"
      },
      "outputs": [],
      "source": [
        "def make_balanced_bst(data, lo=0, hi=None, parent=None):\n",
        "    if hi is None:\n",
        "        hi = len(data) - 1\n",
        "    if lo > hi:\n",
        "        return None\n",
        "    \n",
        "    mid = (lo + hi) // 2\n",
        "    key, value = data[mid]\n",
        "\n",
        "    root = BSTNode(key, value)\n",
        "    root.parent = parent\n",
        "    root.left = make_balanced_bst(data, lo, mid-1, root)\n",
        "    root.right = make_balanced_bst(data, mid+1, hi, root)\n",
        "    \n",
        "    return root\n",
        "    "
      ]
    },
    {
      "cell_type": "code",
      "execution_count": 133,
      "id": "casual-payroll",
      "metadata": {
        "id": "casual-payroll",
        "outputId": "e91b999e-0acd-4ca9-934b-4575c00cf7bf",
        "colab": {
          "base_uri": "https://localhost:8080/"
        }
      },
      "outputs": [
        {
          "output_type": "execute_result",
          "data": {
            "text/plain": [
              "[('aakash',\n",
              "  User(username='aakash', name='Aakash Rai', email='aakash@example.com')),\n",
              " ('biraj',\n",
              "  User(username='biraj', name='Biraj Das', email='biraj@example.com')),\n",
              " ('hemanth',\n",
              "  User(username='hemanth', name='Hemanth Jain', email='hemanth@example.com')),\n",
              " ('jadhesh',\n",
              "  User(username='jadhesh', name='Jadhesh Verma', email='jadhesh@example.com')),\n",
              " ('siddhant',\n",
              "  User(username='siddhant', name='Siddhant U', email='siddhantu@example.com')),\n",
              " ('sonaksh',\n",
              "  User(username='sonaksh', name='Sonaksh Kumar', email='sonaksh@example.com')),\n",
              " ('vishal',\n",
              "  User(username='vishal', name='Vishal Goel', email='vishal@example.com'))]"
            ]
          },
          "metadata": {},
          "execution_count": 133
        }
      ],
      "source": [
        "data = [(user.username, user) for user in users]\n",
        "data"
      ]
    },
    {
      "cell_type": "code",
      "execution_count": 134,
      "id": "opened-establishment",
      "metadata": {
        "id": "opened-establishment"
      },
      "outputs": [],
      "source": [
        "tree = make_balanced_bst(data)"
      ]
    },
    {
      "cell_type": "code",
      "execution_count": 135,
      "id": "statistical-alert",
      "metadata": {
        "id": "statistical-alert",
        "outputId": "88a5d32d-6853-4f3a-dc42-3e78395bcfae",
        "colab": {
          "base_uri": "https://localhost:8080/"
        }
      },
      "outputs": [
        {
          "output_type": "stream",
          "name": "stdout",
          "text": [
            "\t\tvishal\n",
            "\tsonaksh\n",
            "\t\tsiddhant\n",
            "jadhesh\n",
            "\t\themanth\n",
            "\tbiraj\n",
            "\t\taakash\n"
          ]
        }
      ],
      "source": [
        "display_keys(tree)"
      ]
    },
    {
      "cell_type": "markdown",
      "id": "pleasant-hepatitis",
      "metadata": {
        "id": "pleasant-hepatitis"
      },
      "source": [
        "<img src=\"https://i.imgur.com/JZeF9ix.png\" width=\"520\">\n",
        "\n",
        "Recall that the same list of users, when inserted one-by-one resulted in a skewed tree."
      ]
    },
    {
      "cell_type": "code",
      "execution_count": 136,
      "id": "pregnant-binding",
      "metadata": {
        "id": "pregnant-binding"
      },
      "outputs": [],
      "source": [
        "tree3 = None\n",
        "for username, user in data:\n",
        "    tree3 = insert(tree3, username, user)"
      ]
    },
    {
      "cell_type": "code",
      "execution_count": 136,
      "id": "measured-graduate",
      "metadata": {
        "id": "measured-graduate"
      },
      "outputs": [],
      "source": []
    },
    {
      "cell_type": "code",
      "execution_count": 136,
      "id": "unable-communications",
      "metadata": {
        "id": "unable-communications"
      },
      "outputs": [],
      "source": []
    },
    {
      "cell_type": "code",
      "execution_count": 136,
      "id": "affected-bikini",
      "metadata": {
        "id": "affected-bikini"
      },
      "outputs": [],
      "source": []
    },
    {
      "cell_type": "markdown",
      "id": "computational-leader",
      "metadata": {
        "id": "computational-leader"
      },
      "source": [
        "## Balancing an Unbalanced BST\n",
        "\n",
        "> **QUESTION 16:** Write a function to balance an unbalanced binary search tree.\n",
        "\n",
        "We first perform an inorder traversal, then create a balanced BST using the function defined earlier."
      ]
    },
    {
      "cell_type": "code",
      "execution_count": 137,
      "id": "enclosed-criterion",
      "metadata": {
        "id": "enclosed-criterion"
      },
      "outputs": [],
      "source": [
        "def balance_bst(node):\n",
        "    return make_balanced_bst(list_all(node))"
      ]
    },
    {
      "cell_type": "code",
      "execution_count": 138,
      "id": "informational-flooring",
      "metadata": {
        "id": "informational-flooring"
      },
      "outputs": [],
      "source": [
        "tree1 = None\n",
        "\n",
        "for user in users:\n",
        "    tree1 = insert(tree1, user.username, user)"
      ]
    },
    {
      "cell_type": "code",
      "execution_count": 139,
      "id": "continued-study",
      "metadata": {
        "id": "continued-study",
        "outputId": "452ad273-551c-4d84-b2f4-03c7b5ba83dd",
        "colab": {
          "base_uri": "https://localhost:8080/"
        }
      },
      "outputs": [
        {
          "output_type": "stream",
          "name": "stdout",
          "text": [
            "\t\t\t\t\t\tvishal\n",
            "\t\t\t\t\tsonaksh\n",
            "\t\t\t\t\t\t∅\n",
            "\t\t\t\tsiddhant\n",
            "\t\t\t\t\t∅\n",
            "\t\t\tjadhesh\n",
            "\t\t\t\t∅\n",
            "\t\themanth\n",
            "\t\t\t∅\n",
            "\tbiraj\n",
            "\t\t∅\n",
            "aakash\n",
            "\t∅\n"
          ]
        }
      ],
      "source": [
        "display_keys(tree1)"
      ]
    },
    {
      "cell_type": "code",
      "execution_count": 140,
      "id": "naval-arrangement",
      "metadata": {
        "id": "naval-arrangement"
      },
      "outputs": [],
      "source": [
        "tree2 = balance_bst(tree1)"
      ]
    },
    {
      "cell_type": "code",
      "execution_count": 141,
      "id": "compatible-family",
      "metadata": {
        "id": "compatible-family",
        "outputId": "4ba6f79e-a9ac-460a-96de-bf0f4486ba23",
        "colab": {
          "base_uri": "https://localhost:8080/"
        }
      },
      "outputs": [
        {
          "output_type": "stream",
          "name": "stdout",
          "text": [
            "\t\tvishal\n",
            "\tsonaksh\n",
            "\t\tsiddhant\n",
            "jadhesh\n",
            "\t\themanth\n",
            "\tbiraj\n",
            "\t\taakash\n"
          ]
        }
      ],
      "source": [
        "display_keys(tree2)"
      ]
    },
    {
      "cell_type": "markdown",
      "id": "elegant-passenger",
      "metadata": {
        "id": "elegant-passenger"
      },
      "source": [
        "After every insertion, we can balance the tree. This way the tree will remain balanced.\n",
        "\n",
        "Complexity of the various operations in a balanced BST:\n",
        "\n",
        "* Insert - O(log N) + O(N) = O(N)\n",
        "* Find - O(log N)\n",
        "* Update - O(log N)\n",
        "* List all - O(N)\n",
        "\n",
        "What's the real improvement between O(N) and O(log N)? "
      ]
    },
    {
      "cell_type": "code",
      "execution_count": 142,
      "id": "linear-vertical",
      "metadata": {
        "id": "linear-vertical",
        "outputId": "c5ef3232-ce35-41bd-c43a-d6c0889657af",
        "colab": {
          "base_uri": "https://localhost:8080/"
        }
      },
      "outputs": [
        {
          "output_type": "execute_result",
          "data": {
            "text/plain": [
              "26.5754247590989"
            ]
          },
          "metadata": {},
          "execution_count": 142
        },
        {
          "output_type": "execute_result",
          "data": {
            "text/plain": [
              "26.5754247590989"
            ]
          },
          "metadata": {},
          "execution_count": 143
        }
      ],
      "source": [
        "import math\n",
        "\n",
        "math.log(100000000, 2)"
      ]
    },
    {
      "cell_type": "markdown",
      "id": "fatal-belarus",
      "metadata": {
        "id": "fatal-belarus"
      },
      "source": [
        "The logarithm (base 2) of 100 million is around 26. Thus, it takes only 26 operations to find or update a node within a BST (as opposed to 100 million)."
      ]
    },
    {
      "cell_type": "code",
      "execution_count": 144,
      "id": "nonprofit-joshua",
      "metadata": {
        "id": "nonprofit-joshua",
        "outputId": "9d3b354f-ea56-4525-c2fe-cc527d55448e",
        "colab": {
          "base_uri": "https://localhost:8080/"
        }
      },
      "outputs": [
        {
          "output_type": "stream",
          "name": "stdout",
          "text": [
            "CPU times: user 7 µs, sys: 0 ns, total: 7 µs\n",
            "Wall time: 8.82 µs\n"
          ]
        }
      ],
      "source": [
        "%%time\n",
        "for i in range(26):\n",
        "    j = i*i"
      ]
    },
    {
      "cell_type": "markdown",
      "id": "welsh-retirement",
      "metadata": {
        "id": "welsh-retirement"
      },
      "source": [
        "Compared to linear time:"
      ]
    },
    {
      "cell_type": "code",
      "execution_count": 145,
      "id": "affected-tackle",
      "metadata": {
        "id": "affected-tackle",
        "outputId": "5efb4efe-62f2-4ce5-cc43-5dcd0689f69b",
        "colab": {
          "base_uri": "https://localhost:8080/"
        }
      },
      "outputs": [
        {
          "output_type": "stream",
          "name": "stdout",
          "text": [
            "CPU times: user 6.74 s, sys: 1.57 ms, total: 6.74 s\n",
            "Wall time: 6.77 s\n"
          ]
        }
      ],
      "source": [
        "%%time\n",
        "for i in range(100000000):\n",
        "    j = i*i"
      ]
    },
    {
      "cell_type": "markdown",
      "id": "complex-employment",
      "metadata": {
        "id": "complex-employment"
      },
      "source": [
        "Thus, find and update from a balanced binary search tree is 300,000 times faster than our original solution. To speed up insertions, we may choose to perform the balancing periodically (e.g. once every 1000 insertions). This way, most insertions will be O (log N), but every 1000th insertion will take a few seconds. Another options is to rebalance the tree periodically at the end of every hour."
      ]
    },
    {
      "cell_type": "markdown",
      "id": "lesbian-detector",
      "metadata": {
        "id": "lesbian-detector"
      },
      "source": [
        "## A Python-Friendly Treemap \n",
        "\n",
        "We are now ready to return to our original problem statement.\n",
        "\n",
        "> **QUESTION 1**: As a senior backend engineer at Jovian, you are tasked with developing a fast in-memory data structure to manage profile information (username, name and email) for 100 million users. It should allow the following operations to be performed efficiently:\n",
        "> \n",
        "> 1. **Insert** the profile information for a new user.\n",
        "> 2. **Find** the profile information of a user, given their username\n",
        "> 3. **Update** the profile information of a user, given their usrname\n",
        "> 5. **List** all the users of the platform, sorted by username\n",
        ">\n",
        "> You can assume that usernames are unique. \n",
        "\n",
        "\n",
        "\n",
        "We can create a generic class `TreeMap` which supports all the operations specified in the original problem statement in a python-friendly manner."
      ]
    },
    {
      "cell_type": "code",
      "execution_count": 146,
      "id": "global-aberdeen",
      "metadata": {
        "id": "global-aberdeen"
      },
      "outputs": [],
      "source": [
        "class TreeMap():\n",
        "    def __init__(self):\n",
        "        self.root = None\n",
        "        \n",
        "    def __setitem__(self, key, value):\n",
        "        node = find(self.root, key)\n",
        "        if not node:\n",
        "            self.root = insert(self.root, key, value)\n",
        "            self.root = balance_bst(self.root)\n",
        "        else:\n",
        "            update(self.root, key, value)\n",
        "            \n",
        "        \n",
        "    def __getitem__(self, key):\n",
        "        node = find(self.root, key)\n",
        "        return node.value if node else None\n",
        "    \n",
        "    def __iter__(self):\n",
        "        return (x for x in list_all(self.root))\n",
        "    \n",
        "    def __len__(self):\n",
        "        return tree_size(self.root)\n",
        "    \n",
        "    def display(self):\n",
        "        return display_keys(self.root)"
      ]
    },
    {
      "cell_type": "markdown",
      "id": "loaded-deposit",
      "metadata": {
        "id": "loaded-deposit"
      },
      "source": [
        "**Exercise**: What is the time complexity of `__len__`? Can you reduce it to **O(1)**. Hint: Modify the `BSTNode` class.\n",
        "\n",
        "Let's try using the `TreeMap` class below."
      ]
    },
    {
      "cell_type": "code",
      "execution_count": 147,
      "id": "creative-assessment",
      "metadata": {
        "id": "creative-assessment",
        "outputId": "40c41e8c-58cd-4251-a524-66b3e47e4777",
        "colab": {
          "base_uri": "https://localhost:8080/"
        }
      },
      "outputs": [
        {
          "output_type": "execute_result",
          "data": {
            "text/plain": [
              "[User(username='aakash', name='Aakash Rai', email='aakash@example.com'),\n",
              " User(username='biraj', name='Biraj Das', email='biraj@example.com'),\n",
              " User(username='hemanth', name='Hemanth Jain', email='hemanth@example.com'),\n",
              " User(username='jadhesh', name='Jadhesh Verma', email='jadhesh@example.com'),\n",
              " User(username='siddhant', name='Siddhant U', email='siddhantu@example.com'),\n",
              " User(username='sonaksh', name='Sonaksh Kumar', email='sonaksh@example.com'),\n",
              " User(username='vishal', name='Vishal Goel', email='vishal@example.com')]"
            ]
          },
          "metadata": {},
          "execution_count": 147
        }
      ],
      "source": [
        "users"
      ]
    },
    {
      "cell_type": "code",
      "execution_count": 148,
      "id": "dedicated-airfare",
      "metadata": {
        "id": "dedicated-airfare"
      },
      "outputs": [],
      "source": [
        "treemap = TreeMap()"
      ]
    },
    {
      "cell_type": "code",
      "execution_count": 149,
      "id": "organic-vampire",
      "metadata": {
        "id": "organic-vampire",
        "outputId": "039eccac-c956-4b82-d327-9effc813cc80",
        "colab": {
          "base_uri": "https://localhost:8080/"
        }
      },
      "outputs": [
        {
          "output_type": "stream",
          "name": "stdout",
          "text": [
            "∅\n"
          ]
        }
      ],
      "source": [
        "treemap.display()"
      ]
    },
    {
      "cell_type": "code",
      "execution_count": 150,
      "id": "proper-brain",
      "metadata": {
        "id": "proper-brain"
      },
      "outputs": [],
      "source": [
        "treemap['aakash'] = aakash\n",
        "treemap['jadhesh'] = jadhesh\n",
        "treemap['sonaksh'] = sonaksh"
      ]
    },
    {
      "cell_type": "code",
      "execution_count": 151,
      "id": "mathematical-sender",
      "metadata": {
        "id": "mathematical-sender",
        "outputId": "c6bd0728-17ea-4181-8d3e-0189f70fbd90",
        "colab": {
          "base_uri": "https://localhost:8080/"
        }
      },
      "outputs": [
        {
          "output_type": "stream",
          "name": "stdout",
          "text": [
            "\tsonaksh\n",
            "jadhesh\n",
            "\taakash\n"
          ]
        }
      ],
      "source": [
        "treemap.display()"
      ]
    },
    {
      "cell_type": "code",
      "execution_count": 152,
      "id": "crude-lobby",
      "metadata": {
        "id": "crude-lobby",
        "outputId": "257c850c-5171-445a-d82a-7f08a6947700",
        "colab": {
          "base_uri": "https://localhost:8080/"
        }
      },
      "outputs": [
        {
          "output_type": "execute_result",
          "data": {
            "text/plain": [
              "User(username='jadhesh', name='Jadhesh Verma', email='jadhesh@example.com')"
            ]
          },
          "metadata": {},
          "execution_count": 152
        }
      ],
      "source": [
        "treemap['jadhesh']"
      ]
    },
    {
      "cell_type": "code",
      "execution_count": 153,
      "id": "running-disposition",
      "metadata": {
        "id": "running-disposition",
        "outputId": "9b048d93-faa8-4c10-cd17-48c452db29cd",
        "colab": {
          "base_uri": "https://localhost:8080/"
        }
      },
      "outputs": [
        {
          "output_type": "execute_result",
          "data": {
            "text/plain": [
              "3"
            ]
          },
          "metadata": {},
          "execution_count": 153
        }
      ],
      "source": [
        "len(treemap)"
      ]
    },
    {
      "cell_type": "code",
      "execution_count": 154,
      "id": "victorian-contractor",
      "metadata": {
        "id": "victorian-contractor"
      },
      "outputs": [],
      "source": [
        "treemap['biraj'] = biraj\n",
        "treemap['hemanth'] = hemanth\n",
        "treemap['siddhant'] = siddhant\n",
        "treemap['vishal'] = vishal"
      ]
    },
    {
      "cell_type": "code",
      "execution_count": 155,
      "id": "offensive-notice",
      "metadata": {
        "id": "offensive-notice",
        "outputId": "4f2e48b4-f25e-4bc9-d20a-ce071b350441",
        "colab": {
          "base_uri": "https://localhost:8080/"
        }
      },
      "outputs": [
        {
          "output_type": "stream",
          "name": "stdout",
          "text": [
            "\t\tvishal\n",
            "\tsonaksh\n",
            "\t\tsiddhant\n",
            "jadhesh\n",
            "\t\themanth\n",
            "\tbiraj\n",
            "\t\taakash\n"
          ]
        }
      ],
      "source": [
        "treemap.display()"
      ]
    },
    {
      "cell_type": "code",
      "execution_count": 156,
      "id": "south-hazard",
      "metadata": {
        "id": "south-hazard",
        "outputId": "242cb579-d417-45b6-f3fc-d6025fe5faf8",
        "colab": {
          "base_uri": "https://localhost:8080/"
        }
      },
      "outputs": [
        {
          "output_type": "stream",
          "name": "stdout",
          "text": [
            "aakash User(username='aakash', name='Aakash Rai', email='aakash@example.com')\n",
            "biraj User(username='biraj', name='Biraj Das', email='biraj@example.com')\n",
            "hemanth User(username='hemanth', name='Hemanth Jain', email='hemanth@example.com')\n",
            "jadhesh User(username='jadhesh', name='Jadhesh Verma', email='jadhesh@example.com')\n",
            "siddhant User(username='siddhant', name='Siddhant U', email='siddhantu@example.com')\n",
            "sonaksh User(username='sonaksh', name='Sonaksh Kumar', email='sonaksh@example.com')\n",
            "vishal User(username='vishal', name='Vishal Goel', email='vishal@example.com')\n"
          ]
        }
      ],
      "source": [
        "for key, value in treemap:\n",
        "    print(key, value)"
      ]
    },
    {
      "cell_type": "code",
      "execution_count": 157,
      "id": "dominant-sector",
      "metadata": {
        "id": "dominant-sector",
        "outputId": "124e11c5-3dd1-4b36-8890-1cf6cb41f9ad",
        "colab": {
          "base_uri": "https://localhost:8080/"
        }
      },
      "outputs": [
        {
          "output_type": "execute_result",
          "data": {
            "text/plain": [
              "[('aakash',\n",
              "  User(username='aakash', name='Aakash Rai', email='aakash@example.com')),\n",
              " ('biraj',\n",
              "  User(username='biraj', name='Biraj Das', email='biraj@example.com')),\n",
              " ('hemanth',\n",
              "  User(username='hemanth', name='Hemanth Jain', email='hemanth@example.com')),\n",
              " ('jadhesh',\n",
              "  User(username='jadhesh', name='Jadhesh Verma', email='jadhesh@example.com')),\n",
              " ('siddhant',\n",
              "  User(username='siddhant', name='Siddhant U', email='siddhantu@example.com')),\n",
              " ('sonaksh',\n",
              "  User(username='sonaksh', name='Sonaksh Kumar', email='sonaksh@example.com')),\n",
              " ('vishal',\n",
              "  User(username='vishal', name='Vishal Goel', email='vishal@example.com'))]"
            ]
          },
          "metadata": {},
          "execution_count": 157
        }
      ],
      "source": [
        "list(treemap)"
      ]
    },
    {
      "cell_type": "code",
      "execution_count": 158,
      "id": "large-freedom",
      "metadata": {
        "id": "large-freedom"
      },
      "outputs": [],
      "source": [
        "treemap['aakash'] = User(username='aakash', name='Aakash N S', email='aakashns@example.com')"
      ]
    },
    {
      "cell_type": "code",
      "execution_count": 159,
      "id": "tropical-advice",
      "metadata": {
        "id": "tropical-advice",
        "outputId": "98a95e4a-34e5-44f0-c102-f735bea6184d",
        "colab": {
          "base_uri": "https://localhost:8080/"
        }
      },
      "outputs": [
        {
          "output_type": "execute_result",
          "data": {
            "text/plain": [
              "User(username='aakash', name='Aakash N S', email='aakashns@example.com')"
            ]
          },
          "metadata": {},
          "execution_count": 159
        }
      ],
      "source": [
        "treemap['aakash']"
      ]
    },
    {
      "cell_type": "markdown",
      "id": "attached-pacific",
      "metadata": {
        "id": "attached-pacific"
      },
      "source": [
        "\n",
        "**Exercise:** Try out some more examples below. Can our treemap actually handle millions of users profiles?"
      ]
    },
    {
      "cell_type": "code",
      "execution_count": 159,
      "id": "wanted-cooking",
      "metadata": {
        "id": "wanted-cooking"
      },
      "outputs": [],
      "source": []
    },
    {
      "cell_type": "code",
      "execution_count": 159,
      "id": "photographic-desktop",
      "metadata": {
        "id": "photographic-desktop"
      },
      "outputs": [],
      "source": []
    },
    {
      "cell_type": "code",
      "execution_count": 159,
      "id": "elder-carolina",
      "metadata": {
        "id": "elder-carolina"
      },
      "outputs": [],
      "source": []
    },
    {
      "cell_type": "markdown",
      "id": "conceptual-microphone",
      "metadata": {
        "id": "conceptual-microphone"
      },
      "source": [
        "Let's save our work before cotinuing."
      ]
    },
    {
      "cell_type": "code",
      "execution_count": 160,
      "id": "affected-rings",
      "metadata": {
        "id": "affected-rings"
      },
      "outputs": [],
      "source": [
        "import jovian"
      ]
    },
    {
      "cell_type": "code",
      "execution_count": 161,
      "id": "national-stupid",
      "metadata": {
        "id": "national-stupid",
        "outputId": "771c5136-fdce-480d-a3f2-fe4c10f8e1bc",
        "colab": {
          "base_uri": "https://localhost:8080/"
        }
      },
      "outputs": [
        {
          "output_type": "stream",
          "name": "stdout",
          "text": [
            "[jovian] Detected Colab notebook...\u001b[0m\n",
            "[jovian] jovian.commit() is no longer required on Google Colab. If you ran this notebook from Jovian, \n",
            "then just save this file in Colab using Ctrl+S/Cmd+S and it will be updated on Jovian. \n",
            "Also, you can also delete this cell, it's no longer necessary.\u001b[0m\n"
          ]
        }
      ],
      "source": [
        "jovian.commit()"
      ]
    },
    {
      "cell_type": "markdown",
      "id": "meaning-phrase",
      "metadata": {
        "id": "meaning-phrase"
      },
      "source": [
        "## Self-Balancing Binary Trees and AVL Trees\n",
        "\n",
        "A *self-balancing binary tree* remains balanced after every insertion or deletion. Several decades of research has gone into creating self-balancing binary trees, and many approaches have been devised e.g. B-trees, Red Black Trees and  AVL (Adelson-Velsky Landis) trees.\n",
        "\n",
        "We'll take a brief look at AVL trees. Self-balancing in AVL trees is achieved by tracking the *balance factor* (difference between the height of the left subtree and the right subtree) for each node and *rotating* unbalanced subtrees along the path of insertion/deletion to balance them.\n",
        "\n",
        "![](https://upload.wikimedia.org/wikipedia/commons/f/fd/AVL_Tree_Example.gif)\n",
        "\n",
        "In a balanced BST, the balance factor of each node is either 0, -1, or 1. When we perform an insertion, then the balance factor of certain nodes along the path of insertion may change to 2 or -2. Those nodes can be \"rotated\" one-by-one to bring the balance factor back to 1, 0 or -1. \n",
        "\n",
        "There are 4 different scenarios for balancing, two of which require a single rotation, while the others require 2 rotations:\n",
        "\n",
        "\n",
        "![](https://s3.amazonaws.com/hr-challenge-images/0/1436854305-b167cc766c-AVL_Tree_Rebalancing.svg.png)\n",
        "\n",
        "Source: [HackerRank](https://www.hackerrank.com/challenges/self-balancing-tree/problem)\n",
        "\n",
        "Since each rotation takes constant time, and at most `log N` rotations may be required, this operation is far more efficient than creating a balanced binary tree from scratch, allowing insertion and deletion to be performed in `O (log N)` time. Here are some references for AVL Trees:\n",
        "\n",
        "* Explanation of the various cases: https://youtu.be/jDM6_TnYIqE?t=482\n",
        "* Implementation: https://www.geeksforgeeks.org/avl-tree-set-1-insertion/\n"
      ]
    },
    {
      "cell_type": "markdown",
      "id": "persistent-rating",
      "metadata": {
        "id": "persistent-rating"
      },
      "source": [
        "## Summary and Exercises\n",
        "\n",
        "![](https://i.imgur.com/lVqP63n.png)\n",
        "\n",
        "Binary trees form the basis of many modern programming language features (e.g. maps in C++ and Java) and data storage systems (filesystem indexes, relational databases like MySQL). You might wonder if dictionaries in Python are also binary search trees. They're not. They're hash tables, which is a different but equally interesting and important data structure. We'll explore hash tables in a future tutorial.\n",
        "\n",
        "\n",
        "\n",
        "\n",
        "\n",
        "\n",
        "We've covered a lot of ground this in this tutorial, including several common interview questions. Here are a few more problems you can try out:\n",
        "\n",
        "1. Implement rotations and self-balancing insertion\n",
        "1. Implement deletion of a node from a binary search tree\n",
        "2. Implement deletion of a node from a BST (with balancing)\n",
        "3. Find the lowest common ancestor of two nodes in a tree (Hint: Use the `parent` property)\n",
        "4. Find the next node in lexicographic order for a given node\n",
        "5. Given a number k, find the k-th node in a BST.\n",
        "\n",
        "Try more questions here: \n",
        "\n",
        "* https://medium.com/techie-delight/binary-tree-interview-questions-and-practice-problems-439df7e5ea1f\n",
        "* https://leetcode.com/tag/tree/\n",
        "\n",
        "\n",
        "\n",
        "\n"
      ]
    },
    {
      "cell_type": "code",
      "execution_count": null,
      "id": "judicial-specialist",
      "metadata": {
        "id": "judicial-specialist"
      },
      "outputs": [],
      "source": [
        "import jovian"
      ]
    },
    {
      "cell_type": "code",
      "execution_count": null,
      "id": "surprising-guest",
      "metadata": {
        "id": "surprising-guest",
        "outputId": "fe15f929-a2d8-4097-d508-d288c08df6a2"
      },
      "outputs": [
        {
          "data": {
            "application/javascript": [
              "window.require && require([\"base/js/namespace\"],function(Jupyter){Jupyter.notebook.save_checkpoint()})"
            ],
            "text/plain": [
              "<IPython.core.display.Javascript object>"
            ]
          },
          "metadata": {},
          "output_type": "display_data"
        },
        {
          "name": "stdout",
          "output_type": "stream",
          "text": [
            "[jovian] Attempting to save notebook..\u001b[0m\n"
          ]
        }
      ],
      "source": [
        "jovian.commit()"
      ]
    },
    {
      "cell_type": "code",
      "execution_count": null,
      "id": "furnished-harvard",
      "metadata": {
        "id": "furnished-harvard"
      },
      "outputs": [],
      "source": []
    }
  ],
  "metadata": {
    "kernelspec": {
      "display_name": "Python 3",
      "language": "python",
      "name": "python3"
    },
    "language_info": {
      "codemirror_mode": {
        "name": "ipython",
        "version": 3
      },
      "file_extension": ".py",
      "mimetype": "text/x-python",
      "name": "python",
      "nbconvert_exporter": "python",
      "pygments_lexer": "ipython3",
      "version": "3.6.12"
    },
    "colab": {
      "provenance": [],
      "include_colab_link": true
    }
  },
  "nbformat": 4,
  "nbformat_minor": 5
}