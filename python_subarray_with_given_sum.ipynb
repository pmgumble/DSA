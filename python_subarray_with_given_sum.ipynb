{
  "cells": [
    {
      "cell_type": "markdown",
      "metadata": {
        "id": "view-in-github",
        "colab_type": "text"
      },
      "source": [
        "<a href=\"https://colab.research.google.com/github/pmgumble/DSA/blob/main/python_subarray_with_given_sum.ipynb\" target=\"_parent\"><img src=\"https://colab.research.google.com/assets/colab-badge.svg\" alt=\"Open In Colab\"/></a>"
      ]
    },
    {
      "cell_type": "markdown",
      "id": "comfortable-review",
      "metadata": {
        "id": "comfortable-review"
      },
      "source": [
        "# Subarray with Given Sum\n",
        "\n",
        "The following question was asked during a coding interview for Amazon:\n",
        "\n",
        "> You are given an array of numbers (non-negative). Find a continuous subarray of the list which adds up to a given sum.\n",
        "\n",
        "\n",
        "![](https://i.imgur.com/tLEBF7x.png)"
      ]
    },
    {
      "cell_type": "code",
      "execution_count": null,
      "id": "patient-adelaide",
      "metadata": {
        "id": "patient-adelaide"
      },
      "outputs": [],
      "source": [
        "# Solve the problem here\n",
        "\n",
        "1. State the problem clearly. Identify the input & output formats.\n",
        "\n",
        "Given array of numbers, we need to find sum of subarry ehich is equal to the given target.\n",
        "Input is array of numbers and output should be starting index of subarry and ending index+1 of that sub array\n",
        "\n",
        "arr1 = [1, 7, 4, 2, 1, 3, 11, 5]\n",
        "target1 = 10\n",
        "\n",
        "\n"
      ]
    },
    {
      "cell_type": "code",
      "execution_count": null,
      "id": "fe995e7f",
      "metadata": {
        "id": "fe995e7f"
      },
      "outputs": [],
      "source": [
        "2. Come up with some example inputs & outputs. Try to cover all edge cases.\n",
        "'''\n",
        "1. Generic array where the sub array is in the middle\n",
        "2. subarry could br at the start\n",
        "3. subarry could be ar the end\n",
        "4. THere is no subarry that adds upto 10\n",
        "5. You have few zeros in the list\n",
        "6. There are multiple  subarrays with the same sum\n",
        "7. The array is empty\n",
        "\n",
        "'''\n"
      ]
    },
    {
      "cell_type": "code",
      "execution_count": null,
      "id": "37bbd357",
      "metadata": {
        "id": "37bbd357"
      },
      "outputs": [],
      "source": []
    },
    {
      "cell_type": "markdown",
      "id": "ac5d92b0",
      "metadata": {
        "id": "ac5d92b0"
      },
      "source": [
        "# Come up with a correct solution for the problem. State it in plain English.\n",
        "\n",
        "I need to check for every sub array having start and end index, Try for all such values\n",
        "\n",
        "i is starting index and j is end index, lets n be the length of the array\n",
        "start i = 0 to n  and j also goes from 0 to n+1 (beyond the last element )\n"
      ]
    },
    {
      "cell_type": "markdown",
      "id": "616b6da8",
      "metadata": {
        "id": "616b6da8"
      },
      "source": [
        "**Implement the solution and test it using example inputs. Fix bugs, if any.**"
      ]
    },
    {
      "cell_type": "code",
      "execution_count": null,
      "id": "unavailable-dairy",
      "metadata": {
        "id": "unavailable-dairy"
      },
      "outputs": [],
      "source": [
        "def subarray_sum(arr, target):\n",
        "    n = len(arr)\n",
        "    # i goes from o to n\n",
        "    for i in range(n):\n",
        "        # j goes from i to n+1\n",
        "        for j in range(i,n+1):\n",
        "            # Check if subarray sum equals target\n",
        "            if sum(arr[i:j]) == target:\n",
        "                # answer found\n",
        "                return i, j\n",
        "    return None, None\n"
      ]
    },
    {
      "cell_type": "code",
      "execution_count": null,
      "id": "e8661e52",
      "metadata": {
        "id": "e8661e52"
      },
      "outputs": [],
      "source": [
        "# TEst solution Here\n",
        "\n",
        "test_1 = {\n",
        "    'input': [1, 7, 4, 2, 1, 3, 11, 5],\n",
        "    'output': 10\n",
        "}"
      ]
    },
    {
      "cell_type": "code",
      "execution_count": null,
      "id": "d9e0878b",
      "metadata": {
        "id": "d9e0878b",
        "outputId": "13c7cec2-64b2-4dec-9bc7-556fddb3b4fe"
      },
      "outputs": [
        {
          "data": {
            "text/plain": [
              "(2, 6)"
            ]
          },
          "execution_count": 22,
          "metadata": {},
          "output_type": "execute_result"
        }
      ],
      "source": [
        "subarray_sum([1, 7, 4, 2, 1, 3, 11, 5],10)"
      ]
    },
    {
      "cell_type": "code",
      "execution_count": null,
      "id": "f67330ba",
      "metadata": {
        "scrolled": true,
        "id": "f67330ba",
        "outputId": "45d39209-7edd-4a44-ff2f-1ce16aa72f1c"
      },
      "outputs": [
        {
          "data": {
            "text/plain": [
              "(0, 4)"
            ]
          },
          "execution_count": 28,
          "metadata": {},
          "output_type": "execute_result"
        }
      ],
      "source": [
        "subarray_sum([4, 2, 1, 3, 1, 7, 11, 5],10)"
      ]
    },
    {
      "cell_type": "code",
      "execution_count": null,
      "id": "5fe7532d",
      "metadata": {
        "id": "5fe7532d",
        "outputId": "207771a7-4c30-4395-d476-bf15e59f975d"
      },
      "outputs": [
        {
          "data": {
            "text/plain": [
              "(4, 8)"
            ]
          },
          "execution_count": 29,
          "metadata": {},
          "output_type": "execute_result"
        }
      ],
      "source": [
        "subarray_sum([1, 7, 11, 5, 4, 2, 1, 3,],10)"
      ]
    },
    {
      "cell_type": "code",
      "execution_count": null,
      "id": "a1d72f95",
      "metadata": {
        "id": "a1d72f95",
        "outputId": "fc48d91e-3b8a-4547-ad39-33e55f6e51a3"
      },
      "outputs": [
        {
          "data": {
            "text/plain": [
              "(0, 3)"
            ]
          },
          "execution_count": 30,
          "metadata": {},
          "output_type": "execute_result"
        }
      ],
      "source": [
        "subarray_sum([1, 7, 11, 5, 4, 2, 1, 3,],19)"
      ]
    },
    {
      "cell_type": "code",
      "execution_count": null,
      "id": "169b35c4",
      "metadata": {
        "id": "169b35c4",
        "outputId": "34e21f11-6b67-4c71-ce99-517795b4fbcb"
      },
      "outputs": [
        {
          "data": {
            "text/plain": [
              "(None, None)"
            ]
          },
          "execution_count": 31,
          "metadata": {},
          "output_type": "execute_result"
        }
      ],
      "source": [
        "subarray_sum([1, 7, 11, 5, 4, 2, 1, 3,],25)"
      ]
    },
    {
      "cell_type": "code",
      "execution_count": null,
      "id": "3e2fe042",
      "metadata": {
        "id": "3e2fe042",
        "outputId": "df7462cd-a570-46d5-d1f0-25f9a212a42b"
      },
      "outputs": [
        {
          "data": {
            "text/plain": [
              "(None, None)"
            ]
          },
          "execution_count": 33,
          "metadata": {},
          "output_type": "execute_result"
        }
      ],
      "source": [
        "subarray_sum([0],25)"
      ]
    },
    {
      "cell_type": "markdown",
      "id": "95d98bb1",
      "metadata": {
        "id": "95d98bb1"
      },
      "source": [
        "Complexity of brute force algo is For two for loops it is n **2 and for sum functio it is n therefore compleaxity is O(n **3)"
      ]
    },
    {
      "cell_type": "code",
      "execution_count": null,
      "id": "favorite-motorcycle",
      "metadata": {
        "id": "favorite-motorcycle"
      },
      "outputs": [],
      "source": [
        "import jovian"
      ]
    },
    {
      "cell_type": "code",
      "execution_count": null,
      "id": "amino-relay",
      "metadata": {
        "scrolled": true,
        "id": "amino-relay",
        "outputId": "0bf2fce5-1a23-4624-8df1-0e491b1866ca"
      },
      "outputs": [
        {
          "data": {
            "application/javascript": [
              "window.require && require([\"base/js/namespace\"],function(Jupyter){Jupyter.notebook.save_checkpoint()})"
            ],
            "text/plain": [
              "<IPython.core.display.Javascript object>"
            ]
          },
          "metadata": {},
          "output_type": "display_data"
        }
      ],
      "source": [
        "jovian.commit()"
      ]
    },
    {
      "cell_type": "code",
      "execution_count": null,
      "id": "600b38b2",
      "metadata": {
        "id": "600b38b2"
      },
      "outputs": [],
      "source": [
        "# Optimise way of solving above probelm\n",
        "\n",
        "# Mainting a running sum for inner loop\n",
        "# When sum exceeds target, break inner loop\n",
        "# Complexity of this approch is n**2\n",
        "\n",
        "def subarray_sum2(arr, target):\n",
        "    n = len(arr)\n",
        "    # i goes from o to n\n",
        "    for i in range(0,n):\n",
        "        s = 0  # running sum\n",
        "        for j in range(i,n+1):\n",
        "            if s == target:\n",
        "                return i,j\n",
        "            elif s > target:\n",
        "                break\n",
        "            if j < n:\n",
        "                s += arr[j]\n",
        "    return None, None"
      ]
    },
    {
      "cell_type": "code",
      "execution_count": null,
      "id": "fbba9f7a",
      "metadata": {
        "id": "fbba9f7a",
        "outputId": "ec22cbdc-a290-457b-bf47-594e2148e98c"
      },
      "outputs": [
        {
          "data": {
            "text/plain": [
              "(2, 6)"
            ]
          },
          "execution_count": 39,
          "metadata": {},
          "output_type": "execute_result"
        }
      ],
      "source": [
        "subarray_sum2([1, 7, 4, 2, 1, 3, 11, 5],10)"
      ]
    },
    {
      "cell_type": "code",
      "execution_count": null,
      "id": "f7f71ce2",
      "metadata": {
        "id": "f7f71ce2",
        "outputId": "756448b2-cdfd-4321-94f1-fbe0fa5ecf60"
      },
      "outputs": [
        {
          "data": {
            "text/plain": [
              "(0, 4)"
            ]
          },
          "execution_count": 41,
          "metadata": {},
          "output_type": "execute_result"
        }
      ],
      "source": [
        "subarray_sum2([4, 2, 1, 3, 1, 7, 11, 5],10)"
      ]
    },
    {
      "cell_type": "code",
      "execution_count": null,
      "id": "3d76ac47",
      "metadata": {
        "id": "3d76ac47",
        "outputId": "9e5fb3a2-acdc-41e3-d266-f0191a875cdd"
      },
      "outputs": [
        {
          "data": {
            "text/plain": [
              "(4, 8)"
            ]
          },
          "execution_count": 42,
          "metadata": {},
          "output_type": "execute_result"
        }
      ],
      "source": [
        "subarray_sum2([1, 7, 11, 5, 4, 2, 1, 3,],10)"
      ]
    },
    {
      "cell_type": "code",
      "execution_count": null,
      "id": "09e1c4f5",
      "metadata": {
        "id": "09e1c4f5",
        "outputId": "c537a446-fab0-42df-ae8d-28f08ee792f8"
      },
      "outputs": [
        {
          "data": {
            "text/plain": [
              "(None, None)"
            ]
          },
          "execution_count": 43,
          "metadata": {},
          "output_type": "execute_result"
        }
      ],
      "source": [
        "subarray_sum2([1, 7, 11, 5, 4, 2, 1, 3,],25)"
      ]
    },
    {
      "cell_type": "code",
      "execution_count": null,
      "id": "6778329c",
      "metadata": {
        "id": "6778329c"
      },
      "outputs": [],
      "source": [
        "# Optimise way of solving above probelm again"
      ]
    },
    {
      "cell_type": "code",
      "execution_count": null,
      "id": "4d2cb161",
      "metadata": {
        "id": "4d2cb161"
      },
      "outputs": [],
      "source": [
        "def subarray_sum3(arr, target):\n",
        "    n = len(arr)\n",
        "    i, j, s = 0, 0, 0\n",
        "    while i < n and j < n+1:\n",
        "        if s == target:\n",
        "            return i, j\n",
        "        elif s < target:\n",
        "            if j < n:\n",
        "                s += arr[j]\n",
        "            j +=1\n",
        "        elif s > target:\n",
        "            s -= arr[i]\n",
        "            i +=1\n",
        "\n",
        "    return None, None"
      ]
    },
    {
      "cell_type": "code",
      "execution_count": null,
      "id": "68aac42b",
      "metadata": {
        "id": "68aac42b",
        "outputId": "e9a0781b-7612-4e7f-bf7a-c9e0b3b422c8"
      },
      "outputs": [
        {
          "data": {
            "text/plain": [
              "(2, 6)"
            ]
          },
          "execution_count": 50,
          "metadata": {},
          "output_type": "execute_result"
        }
      ],
      "source": [
        "subarray_sum3([1, 7, 4, 2, 1, 3, 11, 5],10)"
      ]
    },
    {
      "cell_type": "code",
      "execution_count": null,
      "id": "1e37a3a6",
      "metadata": {
        "id": "1e37a3a6",
        "outputId": "2ec89ce1-0829-4f8d-a01f-4c5048df3aaa"
      },
      "outputs": [
        {
          "data": {
            "text/plain": [
              "(0, 4)"
            ]
          },
          "execution_count": 51,
          "metadata": {},
          "output_type": "execute_result"
        }
      ],
      "source": [
        "subarray_sum3([4, 2, 1, 3, 1, 7, 11, 5],10)"
      ]
    },
    {
      "cell_type": "code",
      "execution_count": null,
      "id": "9ffc3d8e",
      "metadata": {
        "id": "9ffc3d8e",
        "outputId": "259e241a-72f2-4d94-d87f-6d0a685d3d8f"
      },
      "outputs": [
        {
          "data": {
            "text/plain": [
              "(4, 8)"
            ]
          },
          "execution_count": 52,
          "metadata": {},
          "output_type": "execute_result"
        }
      ],
      "source": [
        "subarray_sum3([1, 7, 11, 5, 4, 2, 1, 3,],10)"
      ]
    },
    {
      "cell_type": "code",
      "execution_count": null,
      "id": "c883ce45",
      "metadata": {
        "id": "c883ce45",
        "outputId": "92f1576f-b40d-4184-845e-7ec87ee5ec3b"
      },
      "outputs": [
        {
          "data": {
            "text/plain": [
              "(None, None)"
            ]
          },
          "execution_count": 53,
          "metadata": {},
          "output_type": "execute_result"
        }
      ],
      "source": [
        "subarray_sum3([1, 7, 11, 5, 4, 2, 1, 3,],25)"
      ]
    },
    {
      "cell_type": "markdown",
      "id": "indoor-marshall",
      "metadata": {
        "id": "indoor-marshall"
      },
      "source": [
        "## Solution\n",
        "\n",
        "Test case:"
      ]
    },
    {
      "cell_type": "code",
      "execution_count": null,
      "id": "becoming-brooks",
      "metadata": {
        "id": "becoming-brooks"
      },
      "outputs": [],
      "source": [
        "arr1 = [1, 7, 4, 2, 1, 3, 11, 5]\n",
        "target1 = 10"
      ]
    },
    {
      "cell_type": "markdown",
      "id": "later-organization",
      "metadata": {
        "id": "later-organization"
      },
      "source": [
        "Brute force $O(n^3)$:"
      ]
    },
    {
      "cell_type": "code",
      "execution_count": null,
      "id": "overall-cornwall",
      "metadata": {
        "id": "overall-cornwall"
      },
      "outputs": [],
      "source": [
        "def subarray_sum1(arr, target):\n",
        "    n = len(arr)\n",
        "    for i in range(n):\n",
        "        for j in range(i, n+1):\n",
        "            if sum(arr[i:j]) == target:\n",
        "                return i, j\n",
        "    return None, None"
      ]
    },
    {
      "cell_type": "code",
      "execution_count": null,
      "id": "conceptual-lincoln",
      "metadata": {
        "id": "conceptual-lincoln",
        "outputId": "0adebe2c-981c-4cf4-9a91-42a5ed136a7c"
      },
      "outputs": [
        {
          "data": {
            "text/plain": [
              "(2, 6, [4, 2, 1, 3])"
            ]
          },
          "execution_count": 17,
          "metadata": {},
          "output_type": "execute_result"
        }
      ],
      "source": [
        "i, j = subarray_sum1(arr1, target1)\n",
        "i, j, arr1[i:j]"
      ]
    },
    {
      "cell_type": "markdown",
      "id": "hundred-herald",
      "metadata": {
        "id": "hundred-herald"
      },
      "source": [
        "Better brute force $O(n^2)$:"
      ]
    },
    {
      "cell_type": "code",
      "execution_count": null,
      "id": "pursuant-connection",
      "metadata": {
        "id": "pursuant-connection"
      },
      "outputs": [],
      "source": [
        "def subarray_sum2(arr, target):\n",
        "    n = len(arr)\n",
        "    for i in range(n):\n",
        "        s = 0\n",
        "        for j in range(i, n+1):\n",
        "            if s == target:\n",
        "                return i,j\n",
        "            s += arr[j]\n",
        "    return None, None"
      ]
    },
    {
      "cell_type": "code",
      "execution_count": null,
      "id": "oriental-exhibition",
      "metadata": {
        "id": "oriental-exhibition",
        "outputId": "a1cdae0b-f985-44f7-9b36-7abf17bb2d36"
      },
      "outputs": [
        {
          "data": {
            "text/plain": [
              "(2, 6, [4, 2, 1, 3])"
            ]
          },
          "execution_count": 19,
          "metadata": {},
          "output_type": "execute_result"
        }
      ],
      "source": [
        "i, j = subarray_sum2(arr1, target1)\n",
        "i, j, arr1[i:j]"
      ]
    },
    {
      "cell_type": "markdown",
      "id": "prime-photograph",
      "metadata": {
        "id": "prime-photograph"
      },
      "source": [
        "Greedy algorithm $O(n)$:"
      ]
    },
    {
      "cell_type": "code",
      "execution_count": null,
      "id": "round-least",
      "metadata": {
        "id": "round-least"
      },
      "outputs": [],
      "source": [
        "def subarray_sum3(arr, target):\n",
        "    n = len(arr)\n",
        "    i, j, s = 0, 0, 0\n",
        "    while i < n and j <= n:\n",
        "        if s == target:\n",
        "            return i, j\n",
        "        elif s < target:\n",
        "            s += arr[j]\n",
        "            j += 1\n",
        "        elif s > target:\n",
        "            s -= arr[i]\n",
        "            i += 1\n",
        "    return None, None\n",
        ""
      ]
    },
    {
      "cell_type": "code",
      "execution_count": null,
      "id": "wrong-walnut",
      "metadata": {
        "id": "wrong-walnut",
        "outputId": "0c830ca0-0555-4f13-8ba5-47fcd4293eb6"
      },
      "outputs": [
        {
          "data": {
            "text/plain": [
              "(2, 6, [4, 2, 1, 3])"
            ]
          },
          "execution_count": 25,
          "metadata": {},
          "output_type": "execute_result"
        }
      ],
      "source": [
        "i, j = subarray_sum3(arr1, target1)\n",
        "i, j, arr1[i:j]"
      ]
    },
    {
      "cell_type": "code",
      "execution_count": null,
      "id": "administrative-blind",
      "metadata": {
        "id": "administrative-blind"
      },
      "outputs": [],
      "source": []
    },
    {
      "cell_type": "code",
      "execution_count": null,
      "id": "94313c48",
      "metadata": {
        "id": "94313c48"
      },
      "outputs": [],
      "source": []
    },
    {
      "cell_type": "code",
      "execution_count": null,
      "id": "73258af0",
      "metadata": {
        "id": "73258af0"
      },
      "outputs": [],
      "source": []
    },
    {
      "cell_type": "markdown",
      "id": "aa0e418c",
      "metadata": {
        "id": "aa0e418c"
      },
      "source": [
        "### Sub arrays with given sum"
      ]
    },
    {
      "cell_type": "code",
      "execution_count": null,
      "id": "275c5729",
      "metadata": {
        "id": "275c5729",
        "outputId": "6ac4fbba-72ce-49d2-c3f7-770f981eb532"
      },
      "outputs": [
        {
          "data": {
            "text/plain": [
              "[1, 2, 3, 4, 5, 7, 8, 10, 11]"
            ]
          },
          "execution_count": 46,
          "metadata": {},
          "output_type": "execute_result"
        }
      ],
      "source": [
        "arr1 = [7, 4, 2, 1, 3, 11, 5, 10, 8]\n",
        "target1 = 10\n",
        "\n",
        "sorted(arr1)\n",
        "output = [[1, 2, 3, 4],[1,4,5],[3,7], [8,2], [1,4,5], [10] ]"
      ]
    },
    {
      "cell_type": "code",
      "execution_count": null,
      "id": "cd88fc6a",
      "metadata": {
        "id": "cd88fc6a"
      },
      "outputs": [],
      "source": []
    }
  ],
  "metadata": {
    "kernelspec": {
      "display_name": "Python 3 (ipykernel)",
      "language": "python",
      "name": "python3"
    },
    "language_info": {
      "codemirror_mode": {
        "name": "ipython",
        "version": 3
      },
      "file_extension": ".py",
      "mimetype": "text/x-python",
      "name": "python",
      "nbconvert_exporter": "python",
      "pygments_lexer": "ipython3",
      "version": "3.9.7"
    },
    "colab": {
      "provenance": [],
      "include_colab_link": true
    }
  },
  "nbformat": 4,
  "nbformat_minor": 5
}