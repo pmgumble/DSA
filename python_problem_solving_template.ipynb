{
  "cells": [
    {
      "cell_type": "markdown",
      "metadata": {
        "id": "view-in-github",
        "colab_type": "text"
      },
      "source": [
        "<a href=\"https://colab.research.google.com/github/pmgumble/DSA/blob/main/python_problem_solving_template.ipynb\" target=\"_parent\"><img src=\"https://colab.research.google.com/assets/colab-badge.svg\" alt=\"Open In Colab\"/></a>"
      ]
    },
    {
      "cell_type": "markdown",
      "id": "f030a45d",
      "metadata": {
        "id": "f030a45d"
      },
      "source": [
        "# DSA Project Based on BFS Algorithm\n",
        "\n",
        "_To learn how to use this template, check out the course [\"Data Structures and Algorithms in Python\"](https://jovian.ai/learn/data-structures-and-algorithms-in-python)._\n",
        "\n",
        "\n"
      ]
    },
    {
      "cell_type": "markdown",
      "id": "d8cb2557",
      "metadata": {
        "id": "d8cb2557"
      },
      "source": [
        "## How to run the code and save your work\n",
        "\n",
        "The recommended way to run this notebook is to click the \"Run\" button at the top of this page, and select \"Run on Binder\". This will run the notebook on [mybinder.org](https://mybinder.org), a free online service for running Jupyter notebooks.\n",
        "\n",
        "This tutorial is an executable [Jupyter notebook](https://jupyter.org). You can _run_ this tutorial and experiment with the code examples in a couple of ways: *using free online resources* (recommended) or *on your computer*.\n",
        "\n",
        "#### Option 1: Running using free online resources (1-click, recommended)\n",
        "\n",
        "The easiest way to start executing the code is to click the **Run** button at the top of this page and select **Run on Binder**. You can also select \"Run on Colab\" or \"Run on Kaggle\", but you'll need to create an account on [Google Colab](https://colab.research.google.com) or [Kaggle](https://kaggle.com) to use these platforms.\n",
        "\n",
        "\n",
        "#### Option 2: Running on your computer locally\n",
        "\n",
        "To run the code on your computer locally, you'll need to set up [Python](https://www.python.org), download the notebook and install the required libraries. We recommend using the [Conda](https://docs.conda.io/projects/conda/en/latest/user-guide/install/) distribution of Python. Click the **Run** button at the top of this page, select the **Run Locally** option, and follow the instructions.\n",
        "\n",
        "#### Saving your work\n",
        "\n",
        "Before staring the assignment, let's save a snapshot of the assignment to your [Jovian](https://jovian.ai) profile, so that you can access it later, and continue your work."
      ]
    },
    {
      "cell_type": "code",
      "execution_count": 1,
      "id": "0246209b",
      "metadata": {
        "id": "0246209b"
      },
      "outputs": [],
      "source": [
        "project_name = 'DSA Project ON BFS'"
      ]
    },
    {
      "cell_type": "code",
      "source": [],
      "metadata": {
        "id": "f1dKVRppErG1"
      },
      "id": "f1dKVRppErG1",
      "execution_count": null,
      "outputs": []
    },
    {
      "cell_type": "code",
      "execution_count": 2,
      "id": "5747d709",
      "metadata": {
        "colab": {
          "base_uri": "https://localhost:8080/"
        },
        "id": "5747d709",
        "outputId": "0d3f41de-c225-4169-d2e9-a01c219e3927"
      },
      "outputs": [
        {
          "output_type": "stream",
          "name": "stdout",
          "text": [
            "\u001b[?25l     \u001b[90m━━━━━━━━━━━━━━━━━━━━━━━━━━━━━━━━━━━━━━━━\u001b[0m \u001b[32m0.0/68.6 kB\u001b[0m \u001b[31m?\u001b[0m eta \u001b[36m-:--:--\u001b[0m\r\u001b[2K     \u001b[90m━━━━━━━━━━━━━━━━━━━━━━━━━━━━━━━━━━━━━━━━\u001b[0m \u001b[32m68.6/68.6 kB\u001b[0m \u001b[31m7.5 MB/s\u001b[0m eta \u001b[36m0:00:00\u001b[0m\n",
            "\u001b[?25h  Preparing metadata (setup.py) ... \u001b[?25l\u001b[?25hdone\n",
            "  Building wheel for uuid (setup.py) ... \u001b[?25l\u001b[?25hdone\n"
          ]
        }
      ],
      "source": [
        "!pip install jovian --upgrade --quiet"
      ]
    },
    {
      "cell_type": "code",
      "execution_count": 3,
      "id": "80364baf",
      "metadata": {
        "id": "80364baf"
      },
      "outputs": [],
      "source": [
        "import jovian"
      ]
    },
    {
      "cell_type": "code",
      "execution_count": 4,
      "id": "85df7acb",
      "metadata": {
        "colab": {
          "base_uri": "https://localhost:8080/"
        },
        "id": "85df7acb",
        "outputId": "5251ac26-5481-4733-b6ee-839b29acfe5c"
      },
      "outputs": [
        {
          "output_type": "stream",
          "name": "stdout",
          "text": [
            "[jovian] Detected Colab notebook...\u001b[0m\n",
            "[jovian] jovian.commit() is no longer required on Google Colab. If you ran this notebook from Jovian, \n",
            "then just save this file in Colab using Ctrl+S/Cmd+S and it will be updated on Jovian. \n",
            "Also, you can also delete this cell, it's no longer necessary.\u001b[0m\n"
          ]
        }
      ],
      "source": [
        "jovian.commit(project=project_name)"
      ]
    },
    {
      "cell_type": "markdown",
      "id": "a1a4e9a7",
      "metadata": {
        "id": "a1a4e9a7"
      },
      "source": [
        "## Problem Statement\n",
        "\n",
        "\n",
        "> **The express train routes are provided in the adjacency list AList , here you have to find the route\n",
        "from start to end with minimum number of possible way. Write a function minimumstops(AList,\n",
        "start, end) to return the cities to be visited starting from start to end . Return a list with only\n",
        "start if the end is not reachable.**\n",
        "\n",
        "\n",
        "\n",
        "Source: Codechef"
      ]
    },
    {
      "cell_type": "markdown",
      "id": "fb83bdc2",
      "metadata": {
        "id": "fb83bdc2"
      },
      "source": [
        "## The Method\n",
        "\n",
        "Here's the systematic strategy we'll apply for solving problems:\n",
        "\n",
        "1. State the problem clearly. Identify the input & output formats.\n",
        "2. Come up with some example inputs & outputs. Try to cover all edge cases.\n",
        "3. Come up with a correct solution for the problem. State it in plain English.\n",
        "4. Implement the solution and test it using example inputs. Fix bugs, if any.\n",
        "5. Analyze the algorithm's complexity and identify inefficiencies, if any.\n",
        "6. Apply the right technique to overcome the inefficiency. Repeat steps 3 to 6.\n",
        "\n",
        "This approach is explained in detail in [Lesson 1](https://jovian.ai/learn/data-structures-and-algorithms-in-python/lesson/lesson-1-binary-search-linked-lists-and-complexity) of the course. Let's apply this approach step-by-step."
      ]
    },
    {
      "cell_type": "markdown",
      "id": "d28a9fa2",
      "metadata": {
        "id": "d28a9fa2"
      },
      "source": [
        "## Solution\n",
        "\n",
        "\n",
        "### 1. State the problem clearly. Identify the input & output formats.\n",
        "\n",
        "While this problem is stated clearly enough, it's always useful to try and express in your own words, in a way that makes it most clear for you.\n",
        "\n",
        "\n",
        "**Problem**\n",
        "\n",
        "> **We have to write a function which can give shortest path of stations between start station to end station, if end station is not reachable from start station then we have to return start station.**\n",
        "\n",
        "<br/>\n",
        "\n",
        "\n",
        "**Input**\n",
        "\n",
        "1. start = 8\n",
        "2. end = 7\n",
        "3. AList = {\n",
        "    0: [8],\n",
        "    8: [0, 9],\n",
        "    1: [3, 5, 8],\n",
        "    3: [1, 7, 2],\n",
        "    5: [4],\n",
        "    2: [8, 9],\n",
        "    9: [1],\n",
        "    7: [8],\n",
        "    4: [2, 6],\n",
        "    6: [9]\n",
        "}\n",
        "\n",
        "(add more if required)\n",
        "\n",
        "\n",
        "**Output**\n",
        "\n",
        "1. [8, 9, 1, 3, 7]\n",
        "\n",
        "\n",
        "\n",
        "(add more if required)\n",
        "\n",
        "<br/>\n",
        "\n",
        "Based on the above, we can now create a signature of our function:"
      ]
    },
    {
      "cell_type": "code",
      "execution_count": 5,
      "id": "9fcdc311",
      "metadata": {
        "id": "9fcdc311"
      },
      "outputs": [],
      "source": [
        "AList = { 0: [8], 8: [0, 9], 1: [3, 5, 8], 3: [1, 7, 2], 5: [4], 2: [8, 9], 9: [1], 7: [8], 4: [2, 6], 6: [9] }"
      ]
    },
    {
      "cell_type": "code",
      "execution_count": 6,
      "id": "38ccefa8",
      "metadata": {
        "id": "38ccefa8"
      },
      "outputs": [],
      "source": [
        "# Create a function signature here. The body of the function can contain a single statement: pass\n",
        "\n",
        "def BFSListPathLevel(AList, v):\n",
        "    pass\n"
      ]
    },
    {
      "cell_type": "code",
      "execution_count": 7,
      "id": "749cf5bb",
      "metadata": {
        "id": "749cf5bb"
      },
      "outputs": [],
      "source": [
        "def minimunstops(AList, start, end):\n",
        "    pass"
      ]
    },
    {
      "cell_type": "markdown",
      "id": "5df07a10",
      "metadata": {
        "id": "5df07a10"
      },
      "source": [
        "Save and upload your work before continuing."
      ]
    },
    {
      "cell_type": "code",
      "execution_count": 8,
      "id": "4b4287ee",
      "metadata": {
        "id": "4b4287ee"
      },
      "outputs": [],
      "source": [
        "import jovian"
      ]
    },
    {
      "cell_type": "code",
      "execution_count": 9,
      "id": "a751216f",
      "metadata": {
        "colab": {
          "base_uri": "https://localhost:8080/"
        },
        "id": "a751216f",
        "outputId": "f8476855-413e-465b-af98-f1ca91008eee"
      },
      "outputs": [
        {
          "output_type": "stream",
          "name": "stdout",
          "text": [
            "[jovian] Detected Colab notebook...\u001b[0m\n",
            "[jovian] jovian.commit() is no longer required on Google Colab. If you ran this notebook from Jovian, \n",
            "then just save this file in Colab using Ctrl+S/Cmd+S and it will be updated on Jovian. \n",
            "Also, you can also delete this cell, it's no longer necessary.\u001b[0m\n"
          ]
        }
      ],
      "source": [
        "jovian.commit()"
      ]
    },
    {
      "cell_type": "markdown",
      "id": "eb8e3b90",
      "metadata": {
        "id": "eb8e3b90"
      },
      "source": [
        "### 2. Come up with some example inputs & outputs. Try to cover all edge cases.\n",
        "\n",
        "Our function should be able to handle any set of valid inputs we pass into it. Here's a list of some possible variations we might encounter:\n",
        "\n",
        "1. **Start and End station are same, in such case it returns start station**\n",
        "2. **Start and End station are different and reachable then it should return shortest path**\n",
        "3. **Start and End station are different and not reachable then it should return start station**\n",
        "4. **Start and Stop stations Have No cyclic Path**\n",
        "5. **Start and Stop Stations Have Cyclic Path**\n",
        "\n",
        "(add more if required)\n",
        "\n",
        "\n",
        "We'll express our test cases as dictionaries, to test them easily. Each dictionary will contain 2 keys: `input` (a dictionary itself containing one key for each argument to the function and `output` (the expected result from the function)."
      ]
    },
    {
      "cell_type": "code",
      "execution_count": 10,
      "id": "adab3c2c",
      "metadata": {
        "id": "adab3c2c"
      },
      "outputs": [],
      "source": [
        "test1 = {\n",
        "    'input1': 8,  # Start Station\n",
        "    'input2': 7,  # Stop Station\n",
        "    'input3': {  # Adjacency List\n",
        "        0: [8],\n",
        "        8: [0, 9],\n",
        "        1: [3, 5, 8],\n",
        "        3: [1, 7, 2],\n",
        "        5: [4],\n",
        "        2: [8, 9],\n",
        "        9: [1],\n",
        "        7: [8],\n",
        "        4: [2, 6],\n",
        "        6: [9]\n",
        "    },\n",
        "    'output': [8, 9, 1, 3, 7]\n",
        "}\n"
      ]
    },
    {
      "cell_type": "markdown",
      "id": "308439b4",
      "metadata": {
        "id": "308439b4"
      },
      "source": [
        "Create one test case for each of the scenarios listed above. We'll store our test cases in an array called `tests`."
      ]
    },
    {
      "cell_type": "code",
      "execution_count": 11,
      "id": "3857dcd3",
      "metadata": {
        "id": "3857dcd3"
      },
      "outputs": [],
      "source": [
        "test2 = {\n",
        "    'input1': 0,         #Strat Station\n",
        "    'input2': 8, # Stop Station\n",
        "    'input3': {0: [8], 8: [9], 1: [3, 5, 8], 3: [1, 7, 2], 5: [4], 2: [8, 9], 9: [1], 7:[8], 4: [2, 6], 6: [9]},\n",
        "    'output': [0, 8]\n",
        "}"
      ]
    },
    {
      "cell_type": "code",
      "execution_count": 12,
      "id": "3c86a40f",
      "metadata": {
        "id": "3c86a40f"
      },
      "outputs": [],
      "source": [
        "# add more test cases\n",
        "\n",
        "test3 = {\n",
        "    'input1': 8 ,           #Strat Station\n",
        "    'input2': 7,           #Stop Station\n",
        "    'input3': {0: [8], 8: [9], 1: [3, 5, 8], 3: [1, 7, 2], 5: [4], 2: [8, 9], 9: [1], 7:[8], 4: [2, 6], 6: [9]},\n",
        "    'output': [8, 9, 1, 3, 7]\n",
        "}"
      ]
    },
    {
      "cell_type": "code",
      "execution_count": 13,
      "id": "10c1829c",
      "metadata": {
        "id": "10c1829c"
      },
      "outputs": [],
      "source": [
        "test4 = {\n",
        "    'input1': 0,          #Strat Station\n",
        "    'input2': 1, #Stop Station\n",
        "    'input3': { 0: [1], 1: [2], 2: [3], 3: [4], 4: [5], 5: [6], 6: [7], 7: [8], 8: [9], 9:[0] },\n",
        "    'output': [0, 1]\n",
        "}"
      ]
    },
    {
      "cell_type": "code",
      "execution_count": 14,
      "id": "e9ff429a",
      "metadata": {
        "id": "e9ff429a"
      },
      "outputs": [],
      "source": [
        "test5 = {\n",
        "    'input1': 1,          #Strat Station\n",
        "    'input2': 2, #Stop Station\n",
        "    'input3': {1: [2], 2: [1, 3], 3: [2]},\n",
        "    'output': [1, 2]\n",
        "}"
      ]
    },
    {
      "cell_type": "code",
      "execution_count": 15,
      "id": "ec3ce2ee",
      "metadata": {
        "id": "ec3ce2ee"
      },
      "outputs": [],
      "source": [
        "test6 = {\n",
        "    'input1': 1,          #Strat Station\n",
        "    'input2': 2, #Stop Station\n",
        "    'input3': {1: [2], 2: [1, 3], 3: [2]},\n",
        "    'output': [1, 2]\n",
        "}"
      ]
    },
    {
      "cell_type": "code",
      "execution_count": 16,
      "id": "cd60a622",
      "metadata": {
        "id": "cd60a622"
      },
      "outputs": [],
      "source": [
        "test7 = {\n",
        "    'input1': 1,          #Strat Station\n",
        "    'input2': 5, #Stop Station\n",
        "    'input3': {1: [2, 4], 2: [1, 3], 3: [2], 4: [1, 5], 5: [4]},\n",
        "    'output': [1, 4, 5]\n",
        "}"
      ]
    },
    {
      "cell_type": "code",
      "execution_count": 17,
      "id": "d70c90eb",
      "metadata": {
        "id": "d70c90eb"
      },
      "outputs": [],
      "source": [
        "test8 = {\n",
        "    'input1': 1,          #Strat Station\n",
        "    'input2': 1, #Stop Station\n",
        "    'input3': {1: []},\n",
        "    'output': [1]\n",
        "}"
      ]
    },
    {
      "cell_type": "code",
      "execution_count": 18,
      "id": "9769e579",
      "metadata": {
        "id": "9769e579"
      },
      "outputs": [],
      "source": [
        "test9 = {\n",
        "    'input1': 1,          #Strat Station\n",
        "    'input2': 1, #Stop Station\n",
        "    'input3': {1: [2, 3], 2: [1, 3], 3: [1, 2]},\n",
        "    'output': [1]\n",
        "}"
      ]
    },
    {
      "cell_type": "code",
      "execution_count": 19,
      "id": "57c7b4a3",
      "metadata": {
        "id": "57c7b4a3"
      },
      "outputs": [],
      "source": [
        "test10 = {\n",
        "    'input1': 1,          #Strat Station\n",
        "    'input2': 5, #Stop Station\n",
        "    'input3': {1: [2], 2: [1, 3], 3: [2, 4], 4: [3, 5], 5: [4]},\n",
        "    'output': [1, 2, 3, 4, 5]\n",
        "}"
      ]
    },
    {
      "cell_type": "code",
      "execution_count": 20,
      "id": "e3f274d4",
      "metadata": {
        "id": "e3f274d4"
      },
      "outputs": [],
      "source": [
        "tests = []"
      ]
    },
    {
      "cell_type": "code",
      "execution_count": 21,
      "id": "18c90302",
      "metadata": {
        "id": "18c90302"
      },
      "outputs": [],
      "source": [
        "tests = [test1,test2,test3,test4,test5,test6,test7,test8,test9,test10]"
      ]
    },
    {
      "cell_type": "markdown",
      "id": "bc764a69",
      "metadata": {
        "id": "bc764a69"
      },
      "source": [
        "### 3. Come up with a correct solution for the problem. State it in plain English.\n",
        "\n",
        "Our first goal should always be to come up with a _correct_ solution to the problem, which may not necessarily be the most _efficient_ solution. Come with a correct solution and explain it in simple words below:\n",
        "\n",
        "1. Define a Function minimumstops that takes three parameters as Adjacency list, start station and end station nodes.\n",
        "2. We will initialize two variables shortest_path to store the shortest path and all_paths to store all possible paths.\n",
        "3. Inside the minimumstops function, define helper function called BFSListPathLevel. This recursive function takes three parameters current node, path traveled and set of visited node.\n",
        "4.BFSListPathLevel checks if the current node is ending node, if it is, append the current path to all_paths list and return\n",
        "5. If the current node is no the ending node, iterate over all neighboring nodes of the current node that have not been visited. For each unvisited neighbor, perform following steps\n",
        "    * Add Neighbor to visited set\n",
        "    * Make a recursive call to BFSListPathLevel with the neighbor as the new current node, the updated path (current path + neighbor), and the updated visited set.\n",
        "    * After the recursive call, remove the neighbor from the visited set to allow other paths to explore it.\n",
        "6. after BFSListPathLevel function has explored all possible paths from the starting node, check if the all_paths list is not empty.\n",
        "7. If the all_paths list is not empty, find the shortest path by using the min function on the all_paths list with the key parameter set to len (to compare paths based on their length).\n",
        "8. Finally, return the shortest path from the find_shortest_path function."
      ]
    },
    {
      "cell_type": "markdown",
      "id": "03be5493",
      "metadata": {
        "id": "03be5493"
      },
      "source": [
        "###  4. Implement the solution and test it using example inputs. Fix bugs, if any."
      ]
    },
    {
      "cell_type": "code",
      "execution_count": 22,
      "id": "c5c1760c",
      "metadata": {
        "id": "c5c1760c"
      },
      "outputs": [],
      "source": [
        "def minimumstops(AList, start, end):\n",
        "    # Initialize the variables for shortest path and all_paths\n",
        "    shortest_path = None\n",
        "    all_paths = []\n",
        "\n",
        "    # Recursive function to explore paths\n",
        "    def BFSListPathLevel(current_node, path, visited):\n",
        "        # Base case is current node is the end node\n",
        "        if current_node == end:\n",
        "            all_paths.append(path)\n",
        "            return\n",
        "        # Explore all neighboring nodes\n",
        "        for neighbor in AList[current_node]:\n",
        "            if neighbor not in visited:\n",
        "                # Mark neighbor as visited\n",
        "                visited.add(neighbor)\n",
        "                # Recursive call to explore paths from neighbor\n",
        "                BFSListPathLevel(neighbor, path + [neighbor], visited)\n",
        "                # Mark neighbor as unvisited for other paths\n",
        "                visited.remove(neighbor)\n",
        "\n",
        "    # Start the path exploration from the start node\n",
        "    BFSListPathLevel(start, [start], {start})\n",
        "\n",
        "    # Find the shortest path\n",
        "    if all_paths:\n",
        "        shortest_path = min(all_paths, key=len)\n",
        "\n",
        "    return shortest_path\n",
        ""
      ]
    },
    {
      "cell_type": "code",
      "execution_count": 23,
      "id": "b477cf41",
      "metadata": {
        "colab": {
          "base_uri": "https://localhost:8080/"
        },
        "id": "b477cf41",
        "outputId": "fadb2f6b-b596-480c-dc0a-bd82fb9c3964"
      },
      "outputs": [
        {
          "output_type": "execute_result",
          "data": {
            "text/plain": [
              "True"
            ]
          },
          "metadata": {},
          "execution_count": 23
        }
      ],
      "source": [
        "minimumstops(test1['input3'],test1['input1'],test1['input2'])==test1['output']"
      ]
    },
    {
      "cell_type": "code",
      "execution_count": 24,
      "id": "c925e51b",
      "metadata": {
        "scrolled": false,
        "colab": {
          "base_uri": "https://localhost:8080/"
        },
        "id": "c925e51b",
        "outputId": "e5637c22-b74f-42b0-894a-316ca496b432"
      },
      "outputs": [
        {
          "output_type": "stream",
          "name": "stdout",
          "text": [
            "True\n",
            "True\n",
            "True\n",
            "True\n",
            "True\n",
            "True\n",
            "True\n",
            "True\n",
            "True\n",
            "True\n"
          ]
        }
      ],
      "source": [
        "for test in tests:\n",
        "    result = minimumstops(test['input3'], test['input1'], test['input2'])\n",
        "    print(result == test['output'])\n"
      ]
    },
    {
      "cell_type": "markdown",
      "id": "589b8ce2",
      "metadata": {
        "id": "589b8ce2"
      },
      "source": [
        "### 5. Analyze the algorithm's complexity and identify inefficiencies, if any."
      ]
    },
    {
      "cell_type": "markdown",
      "id": "dede9bfe",
      "metadata": {
        "id": "dede9bfe"
      },
      "source": [
        "1. The time complexity of of above problem to find shortest path between start and stop station in given graph or Adjacency list is exponential\n",
        "2. Overall time complexity of above solution is 2*(N)"
      ]
    },
    {
      "cell_type": "code",
      "execution_count": 24,
      "id": "fb1c145b",
      "metadata": {
        "id": "fb1c145b"
      },
      "outputs": [],
      "source": []
    },
    {
      "cell_type": "markdown",
      "id": "88e63745",
      "metadata": {
        "id": "88e63745"
      },
      "source": [
        "### 6. Apply the right technique to overcome the inefficiency. Repeat steps 3 to 6."
      ]
    },
    {
      "cell_type": "code",
      "execution_count": 25,
      "id": "06b4c601",
      "metadata": {
        "colab": {
          "base_uri": "https://localhost:8080/"
        },
        "id": "06b4c601",
        "outputId": "7289a434-a40a-4a3c-fe9a-48f602301479"
      },
      "outputs": [
        {
          "output_type": "stream",
          "name": "stdout",
          "text": [
            "[jovian] Detected Colab notebook...\u001b[0m\n",
            "[jovian] jovian.commit() is no longer required on Google Colab. If you ran this notebook from Jovian, \n",
            "then just save this file in Colab using Ctrl+S/Cmd+S and it will be updated on Jovian. \n",
            "Also, you can also delete this cell, it's no longer necessary.\u001b[0m\n"
          ]
        }
      ],
      "source": [
        "jovian.commit()"
      ]
    },
    {
      "cell_type": "code",
      "execution_count": 25,
      "id": "3c8236b5",
      "metadata": {
        "id": "3c8236b5"
      },
      "outputs": [],
      "source": []
    },
    {
      "cell_type": "markdown",
      "id": "7b62b35d",
      "metadata": {
        "id": "7b62b35d"
      },
      "source": [
        "### 7. Come up with a correct solution for the problem. State it in plain English.\n",
        "\n",
        "Come with the optimized correct solution and explain it in simple words below:\n",
        "\n",
        "1. **We have to find shortest path between start and stop stations, inputs given are start station, stop station and adjecency list**\n",
        "2. **start and stop stations are node points and adjecency list provides information about edges between nodes or stations. Based on this information we can draw graph as shown above**\n",
        "3. **To compute shortest path between two stations we will use Breadth First Search (BFS) Algorithm which help us to claculate shortest path between two stations**\n",
        "4. **Will define function known as minimumstops which take input as start station, stop station and connected stations means adjecency list, Once we get this input we will apply BFS on start station to explore station from start point to find shortest path**\n",
        "5. **When we apply BFS on start station we will generate two outputs from BFS i.e level and parent both are dictionary, where level gives us level or depth of travel from starting node point to that node point and parent dictionary will give us parent of node which is just traversed before that node, This will help us to track the shortest path**\n",
        "5. **Once we get level and parent dictionary we will use this dictionary to find shortrst path from source to destination as, will define shortestpath list and append destination vertex if its length is not equal to lets say -1, which isnt positive distance so consider as -1 to start with, if its -1 then it is the start as well as end station and just return the station if level = -1**\n",
        "5. **if level is not equal to -1 will append end vertex into shortest path list and then we will continuously check last element of list should not equal to start vertex if it is we have reached the start point from destination point so we just have to reverse the shortest path list and will get shortest path, if it is not equal then will use parent dictionary to find parent and loop goes on until we reach to the start point**\n",
        "(add more steps if required)\n",
        "\n",
        "\n",
        "Let's save and upload our work before continuing.\n",
        "\n",
        "\n"
      ]
    },
    {
      "cell_type": "code",
      "execution_count": 26,
      "id": "dc7318bf",
      "metadata": {
        "colab": {
          "base_uri": "https://localhost:8080/"
        },
        "id": "dc7318bf",
        "outputId": "19abd5cf-830b-47c8-e4fb-dabad132543b"
      },
      "outputs": [
        {
          "output_type": "stream",
          "name": "stdout",
          "text": [
            "[jovian] Detected Colab notebook...\u001b[0m\n",
            "[jovian] jovian.commit() is no longer required on Google Colab. If you ran this notebook from Jovian, \n",
            "then just save this file in Colab using Ctrl+S/Cmd+S and it will be updated on Jovian. \n",
            "Also, you can also delete this cell, it's no longer necessary.\u001b[0m\n"
          ]
        }
      ],
      "source": [
        "jovian.commit()"
      ]
    },
    {
      "cell_type": "markdown",
      "id": "b558e0d1",
      "metadata": {
        "id": "b558e0d1"
      },
      "source": [
        "###  8. Implement the solution and test it using example inputs. Fix bugs, if any."
      ]
    },
    {
      "cell_type": "code",
      "execution_count": 27,
      "id": "5ebed6c9",
      "metadata": {
        "id": "5ebed6c9"
      },
      "outputs": [],
      "source": [
        "def BFSListPathLevel(AList, v):\n",
        "    # Define two dict level to track depth and parent to track parents of nodes while traversing from start to end\n",
        "    level, parent = {}, {}\n",
        "\n",
        "    #\n",
        "    for i in AList.keys():\n",
        "        level[i] = -1                                # Intialize all levels of nodes to -1\n",
        "        parent[i] = -1                               # Intialize parrents of all nodes to -1\n",
        "    # Set Que\n",
        "    q = []\n",
        "\n",
        "    level[v] = 0                                     # Intialize level of start or first elemnt as 0\n",
        "    q.append(v)                                      # Append that element to Que\n",
        "\n",
        "    while len(q) > 0:                                # Iterate over the que to traverse the nodes from start\n",
        "        j = q.pop(0)                                 # Remove first element from the que\n",
        "        for k in AList[j]:                           # now look for adjacent nodes to the current node which is at intial position of list and which is pops out from the list\n",
        "            if level[k] == -1:                       # if its untraversed element which seen first time while traversing\n",
        "                level[k] = level[j]+1                # increase level of that node with on plus level of previous node\n",
        "                parent[k] = j                        # Parent of current node is intial node\n",
        "                q.append(k)                          # append current node to que for futher traversal\n",
        "    return level, parent                             # After completeion of all node return level and parent dictionary"
      ]
    },
    {
      "cell_type": "code",
      "execution_count": 28,
      "id": "78b7a1d9",
      "metadata": {
        "id": "78b7a1d9"
      },
      "outputs": [],
      "source": [
        "def minimumstops(AList, start, end):\n",
        "    level, path = BFSListPathLevel(AList, start)     # Apply BFS to find level and parent dictionary from start node\n",
        "    shortestpath = []                                # initalize shortest path list to store shortest path node from start to node\n",
        "    if level[end] != -1:                             # will check for if level of end vertices is -1 then that vertex is not rechable\n",
        "        shortestpath.append(end)                     # if level of end node is not equal to one then append it to shortespath list\n",
        "        while shortestpath[-1] != start:             # Now look for end to start vertex and condition for that is last element into shoretest path list should not equal to start element\n",
        "            end = path[end]                          # Use parent dict return by bfs function to get parent of last vertex in list to travel in reverse way\n",
        "            shortestpath.append(end)                 # Append parent of last element of list into shortest path list and traverse on it until you reach to the first element\n",
        "    else:\n",
        "        shortestpath.append(start)                   # If end is not reachable just return start\n",
        "    return shortestpath[::-1]                        # Finaly return the reverse of shortest path list to obtained shortest path from start to end\n",
        ""
      ]
    },
    {
      "cell_type": "code",
      "execution_count": 29,
      "id": "b4096404",
      "metadata": {
        "colab": {
          "base_uri": "https://localhost:8080/"
        },
        "id": "b4096404",
        "outputId": "963150f2-4b66-4142-b724-d63f18b0eaa9"
      },
      "outputs": [
        {
          "output_type": "execute_result",
          "data": {
            "text/plain": [
              "True"
            ]
          },
          "metadata": {},
          "execution_count": 29
        }
      ],
      "source": [
        "minimumstops(test1['input3'],test1['input1'],test1['input2'])==test1['output']"
      ]
    },
    {
      "cell_type": "code",
      "execution_count": 29,
      "id": "11b594bc",
      "metadata": {
        "id": "11b594bc"
      },
      "outputs": [],
      "source": []
    },
    {
      "cell_type": "markdown",
      "id": "b0f8f511",
      "metadata": {
        "id": "b0f8f511"
      },
      "source": [
        "We can test the function by passing the input to it directly or by using the `evaluate_test_case` function from `jovian`."
      ]
    },
    {
      "cell_type": "code",
      "execution_count": 30,
      "id": "abe37c01",
      "metadata": {
        "id": "abe37c01"
      },
      "outputs": [],
      "source": [
        "from jovian.pythondsa import evaluate_test_case"
      ]
    },
    {
      "cell_type": "code",
      "execution_count": 30,
      "id": "facbd55d",
      "metadata": {
        "id": "facbd55d"
      },
      "outputs": [],
      "source": []
    },
    {
      "cell_type": "markdown",
      "id": "9a687b8a",
      "metadata": {
        "id": "9a687b8a"
      },
      "source": [
        "Evaluate your function against all the test cases together using the `evaluate_test_cases` (plural) function from `jovian`."
      ]
    },
    {
      "cell_type": "code",
      "execution_count": 31,
      "id": "9de8ea00",
      "metadata": {
        "id": "9de8ea00"
      },
      "outputs": [],
      "source": [
        "from jovian.pythondsa import evaluate_test_cases"
      ]
    },
    {
      "cell_type": "code",
      "execution_count": 32,
      "id": "35c8e3b4",
      "metadata": {
        "colab": {
          "base_uri": "https://localhost:8080/"
        },
        "id": "35c8e3b4",
        "outputId": "4931271e-dc22-4853-ece6-c482d4a24de4"
      },
      "outputs": [
        {
          "output_type": "stream",
          "name": "stdout",
          "text": [
            "True\n",
            "True\n",
            "True\n",
            "True\n",
            "True\n",
            "True\n",
            "True\n",
            "True\n",
            "True\n",
            "True\n"
          ]
        }
      ],
      "source": [
        "for test in tests:\n",
        "    result = minimumstops(test['input3'], test['input1'], test['input2'])\n",
        "    print(result == test['output'])"
      ]
    },
    {
      "cell_type": "markdown",
      "id": "59d9f10f",
      "metadata": {
        "id": "59d9f10f"
      },
      "source": [
        "Verify that all the test cases were evaluated. We expect them all to fail, since we haven't implemented the function yet.\n",
        "\n",
        "Let's save our work before continuing."
      ]
    },
    {
      "cell_type": "code",
      "execution_count": 33,
      "id": "ced87c3a",
      "metadata": {
        "colab": {
          "base_uri": "https://localhost:8080/"
        },
        "id": "ced87c3a",
        "outputId": "60d8f4c8-d310-4c20-948b-7c0c037a19a0"
      },
      "outputs": [
        {
          "output_type": "stream",
          "name": "stdout",
          "text": [
            "[jovian] Detected Colab notebook...\u001b[0m\n",
            "[jovian] jovian.commit() is no longer required on Google Colab. If you ran this notebook from Jovian, \n",
            "then just save this file in Colab using Ctrl+S/Cmd+S and it will be updated on Jovian. \n",
            "Also, you can also delete this cell, it's no longer necessary.\u001b[0m\n"
          ]
        }
      ],
      "source": [
        "jovian.commit()"
      ]
    },
    {
      "cell_type": "code",
      "execution_count": 33,
      "id": "b1e5d455",
      "metadata": {
        "id": "b1e5d455"
      },
      "outputs": [],
      "source": []
    },
    {
      "cell_type": "markdown",
      "id": "32627fb0",
      "metadata": {
        "id": "32627fb0"
      },
      "source": [
        "### 9. Analyze the algorithm's complexity and identify inefficiencies, if any."
      ]
    },
    {
      "cell_type": "markdown",
      "id": "177f136e",
      "metadata": {
        "code_folding": [],
        "id": "177f136e"
      },
      "source": [
        "### Time complexity of above algorithm is O(m+n). Visiting every vertex and edge rquires m+n complexity and it is optimal complexity achived."
      ]
    },
    {
      "cell_type": "code",
      "execution_count": 34,
      "id": "213b41c7",
      "metadata": {
        "colab": {
          "base_uri": "https://localhost:8080/"
        },
        "id": "213b41c7",
        "outputId": "505d67d4-102a-4980-f09e-3d677e1d1af2"
      },
      "outputs": [
        {
          "output_type": "stream",
          "name": "stdout",
          "text": [
            "[jovian] Detected Colab notebook...\u001b[0m\n",
            "[jovian] jovian.commit() is no longer required on Google Colab. If you ran this notebook from Jovian, \n",
            "then just save this file in Colab using Ctrl+S/Cmd+S and it will be updated on Jovian. \n",
            "Also, you can also delete this cell, it's no longer necessary.\u001b[0m\n"
          ]
        }
      ],
      "source": [
        "jovian.commit()"
      ]
    },
    {
      "cell_type": "code",
      "execution_count": 34,
      "id": "4a1b6246",
      "metadata": {
        "id": "4a1b6246"
      },
      "outputs": [],
      "source": []
    },
    {
      "cell_type": "markdown",
      "id": "be43c487",
      "metadata": {
        "id": "be43c487"
      },
      "source": [
        "If you found the problem on an external platform, you can make a submission to test your solution.\n",
        "\n",
        "Share your approach and start a discussion on the Jovian forum: https://jovian.ai/forum/c/data-structures-and-algorithms-in-python/78"
      ]
    },
    {
      "cell_type": "code",
      "execution_count": 35,
      "id": "08001ebc",
      "metadata": {
        "colab": {
          "base_uri": "https://localhost:8080/"
        },
        "id": "08001ebc",
        "outputId": "04c0f0c1-51cb-4efe-c823-8532639e0591"
      },
      "outputs": [
        {
          "output_type": "stream",
          "name": "stdout",
          "text": [
            "[jovian] Detected Colab notebook...\u001b[0m\n",
            "[jovian] jovian.commit() is no longer required on Google Colab. If you ran this notebook from Jovian, \n",
            "then just save this file in Colab using Ctrl+S/Cmd+S and it will be updated on Jovian. \n",
            "Also, you can also delete this cell, it's no longer necessary.\u001b[0m\n"
          ]
        }
      ],
      "source": [
        "jovian.commit()"
      ]
    },
    {
      "cell_type": "code",
      "execution_count": 35,
      "id": "e7c647ca",
      "metadata": {
        "id": "e7c647ca"
      },
      "outputs": [],
      "source": []
    }
  ],
  "metadata": {
    "kernelspec": {
      "display_name": "Python 3 (ipykernel)",
      "language": "python",
      "name": "python3"
    },
    "language_info": {
      "codemirror_mode": {
        "name": "ipython",
        "version": 3
      },
      "file_extension": ".py",
      "mimetype": "text/x-python",
      "name": "python",
      "nbconvert_exporter": "python",
      "pygments_lexer": "ipython3",
      "version": "3.9.7"
    },
    "colab": {
      "provenance": [],
      "include_colab_link": true
    }
  },
  "nbformat": 4,
  "nbformat_minor": 5
}